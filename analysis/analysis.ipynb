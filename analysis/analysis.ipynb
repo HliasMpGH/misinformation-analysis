{
 "cells": [
  {
   "cell_type": "markdown",
   "metadata": {},
   "source": [
    "# Misinformation and Suspensions"
   ]
  },
  {
   "cell_type": "markdown",
   "metadata": {},
   "source": [
    "## Setting the scene"
   ]
  },
  {
   "cell_type": "code",
   "execution_count": 184,
   "metadata": {},
   "outputs": [],
   "source": [
    "import pandas as pd\n",
    "import numpy as np\n",
    "import scipy.stats as stats"
   ]
  },
  {
   "cell_type": "markdown",
   "metadata": {},
   "source": [
    "* For this analysis, we will use data of tweeter accounts to try and predict suspension"
   ]
  },
  {
   "cell_type": "markdown",
   "metadata": {},
   "source": [
    "* The dataset represents user activity regarding the 2020 elections of the United States of America"
   ]
  },
  {
   "cell_type": "code",
   "execution_count": 185,
   "metadata": {},
   "outputs": [
    {
     "data": {
      "text/html": [
       "<div>\n",
       "<style scoped>\n",
       "    .dataframe tbody tr th:only-of-type {\n",
       "        vertical-align: middle;\n",
       "    }\n",
       "\n",
       "    .dataframe tbody tr th {\n",
       "        vertical-align: top;\n",
       "    }\n",
       "\n",
       "    .dataframe thead th {\n",
       "        text-align: right;\n",
       "    }\n",
       "</style>\n",
       "<table border=\"1\" class=\"dataframe\">\n",
       "  <thead>\n",
       "    <tr style=\"text-align: right;\">\n",
       "      <th></th>\n",
       "      <th>politics_sites2</th>\n",
       "      <th>politics_sites1</th>\n",
       "      <th>politics_followed</th>\n",
       "      <th>lowqual_pr2019_crowd</th>\n",
       "      <th>lowqual_pr2019_fc</th>\n",
       "      <th>lowqual_afm</th>\n",
       "      <th>lowqual_mbfc</th>\n",
       "      <th>lowqual_lasser2019</th>\n",
       "      <th>suspended</th>\n",
       "      <th>politics_hashtag</th>\n",
       "      <th>...</th>\n",
       "      <th>valence_neg</th>\n",
       "      <th>valence_neu</th>\n",
       "      <th>valence_pos</th>\n",
       "      <th>politics_sites2_ideo_std</th>\n",
       "      <th>hashtag_ideo_std</th>\n",
       "      <th>barbera_std</th>\n",
       "      <th>politics_sites1_std</th>\n",
       "      <th>repeated_tweet_count</th>\n",
       "      <th>freq_pr_1h</th>\n",
       "      <th>bad_domain_count</th>\n",
       "    </tr>\n",
       "  </thead>\n",
       "  <tbody>\n",
       "    <tr>\n",
       "      <th>0</th>\n",
       "      <td>-0.231902</td>\n",
       "      <td>-1.168745</td>\n",
       "      <td>-0.080295</td>\n",
       "      <td>0.598883</td>\n",
       "      <td>0.279221</td>\n",
       "      <td>0.185315</td>\n",
       "      <td>0.292807</td>\n",
       "      <td>0.350000</td>\n",
       "      <td>0</td>\n",
       "      <td>0</td>\n",
       "      <td>...</td>\n",
       "      <td>0.109935</td>\n",
       "      <td>0.813230</td>\n",
       "      <td>0.076835</td>\n",
       "      <td>0.274317</td>\n",
       "      <td>0.0</td>\n",
       "      <td>0.909460</td>\n",
       "      <td>69</td>\n",
       "      <td>86.0</td>\n",
       "      <td>30</td>\n",
       "      <td>7</td>\n",
       "    </tr>\n",
       "    <tr>\n",
       "      <th>1</th>\n",
       "      <td>0.405261</td>\n",
       "      <td>1.060905</td>\n",
       "      <td>2.296375</td>\n",
       "      <td>0.774873</td>\n",
       "      <td>0.848639</td>\n",
       "      <td>0.614156</td>\n",
       "      <td>0.513147</td>\n",
       "      <td>0.975087</td>\n",
       "      <td>0</td>\n",
       "      <td>1</td>\n",
       "      <td>...</td>\n",
       "      <td>0.115985</td>\n",
       "      <td>0.793715</td>\n",
       "      <td>0.090250</td>\n",
       "      <td>0.351800</td>\n",
       "      <td>0.0</td>\n",
       "      <td>0.157056</td>\n",
       "      <td>623</td>\n",
       "      <td>133.0</td>\n",
       "      <td>26</td>\n",
       "      <td>20</td>\n",
       "    </tr>\n",
       "    <tr>\n",
       "      <th>2</th>\n",
       "      <td>-0.171067</td>\n",
       "      <td>-0.500076</td>\n",
       "      <td>-2.312730</td>\n",
       "      <td>0.548727</td>\n",
       "      <td>0.242347</td>\n",
       "      <td>0.130950</td>\n",
       "      <td>0.242445</td>\n",
       "      <td>0.300000</td>\n",
       "      <td>0</td>\n",
       "      <td>0</td>\n",
       "      <td>...</td>\n",
       "      <td>0.085765</td>\n",
       "      <td>0.817340</td>\n",
       "      <td>0.096915</td>\n",
       "      <td>0.279591</td>\n",
       "      <td>0.0</td>\n",
       "      <td>0.445349</td>\n",
       "      <td>32</td>\n",
       "      <td>3.0</td>\n",
       "      <td>3</td>\n",
       "      <td>6</td>\n",
       "    </tr>\n",
       "    <tr>\n",
       "      <th>3</th>\n",
       "      <td>-0.085814</td>\n",
       "      <td>-0.748035</td>\n",
       "      <td>-1.507481</td>\n",
       "      <td>0.611501</td>\n",
       "      <td>0.360119</td>\n",
       "      <td>0.180055</td>\n",
       "      <td>0.277793</td>\n",
       "      <td>0.316038</td>\n",
       "      <td>0</td>\n",
       "      <td>0</td>\n",
       "      <td>...</td>\n",
       "      <td>0.108680</td>\n",
       "      <td>0.781135</td>\n",
       "      <td>0.110190</td>\n",
       "      <td>0.290277</td>\n",
       "      <td>0.0</td>\n",
       "      <td>0.256665</td>\n",
       "      <td>55</td>\n",
       "      <td>104.0</td>\n",
       "      <td>29</td>\n",
       "      <td>22</td>\n",
       "    </tr>\n",
       "    <tr>\n",
       "      <th>4</th>\n",
       "      <td>0.595367</td>\n",
       "      <td>1.347730</td>\n",
       "      <td>2.010573</td>\n",
       "      <td>0.700217</td>\n",
       "      <td>0.698661</td>\n",
       "      <td>0.430655</td>\n",
       "      <td>0.554609</td>\n",
       "      <td>0.763889</td>\n",
       "      <td>0</td>\n",
       "      <td>1</td>\n",
       "      <td>...</td>\n",
       "      <td>0.065145</td>\n",
       "      <td>0.860550</td>\n",
       "      <td>0.074320</td>\n",
       "      <td>0.300823</td>\n",
       "      <td>0.0</td>\n",
       "      <td>0.431149</td>\n",
       "      <td>37</td>\n",
       "      <td>36.0</td>\n",
       "      <td>8</td>\n",
       "      <td>8</td>\n",
       "    </tr>\n",
       "  </tbody>\n",
       "</table>\n",
       "<p>5 rows × 42 columns</p>\n",
       "</div>"
      ],
      "text/plain": [
       "   politics_sites2  politics_sites1  politics_followed  lowqual_pr2019_crowd  \\\n",
       "0        -0.231902        -1.168745          -0.080295              0.598883   \n",
       "1         0.405261         1.060905           2.296375              0.774873   \n",
       "2        -0.171067        -0.500076          -2.312730              0.548727   \n",
       "3        -0.085814        -0.748035          -1.507481              0.611501   \n",
       "4         0.595367         1.347730           2.010573              0.700217   \n",
       "\n",
       "   lowqual_pr2019_fc  lowqual_afm  lowqual_mbfc  lowqual_lasser2019  \\\n",
       "0           0.279221     0.185315      0.292807            0.350000   \n",
       "1           0.848639     0.614156      0.513147            0.975087   \n",
       "2           0.242347     0.130950      0.242445            0.300000   \n",
       "3           0.360119     0.180055      0.277793            0.316038   \n",
       "4           0.698661     0.430655      0.554609            0.763889   \n",
       "\n",
       "   suspended  politics_hashtag  ...  valence_neg  valence_neu  valence_pos  \\\n",
       "0          0                 0  ...     0.109935     0.813230     0.076835   \n",
       "1          0                 1  ...     0.115985     0.793715     0.090250   \n",
       "2          0                 0  ...     0.085765     0.817340     0.096915   \n",
       "3          0                 0  ...     0.108680     0.781135     0.110190   \n",
       "4          0                 1  ...     0.065145     0.860550     0.074320   \n",
       "\n",
       "   politics_sites2_ideo_std  hashtag_ideo_std  barbera_std  \\\n",
       "0                  0.274317               0.0     0.909460   \n",
       "1                  0.351800               0.0     0.157056   \n",
       "2                  0.279591               0.0     0.445349   \n",
       "3                  0.290277               0.0     0.256665   \n",
       "4                  0.300823               0.0     0.431149   \n",
       "\n",
       "   politics_sites1_std  repeated_tweet_count  freq_pr_1h  bad_domain_count  \n",
       "0                   69                  86.0          30                 7  \n",
       "1                  623                 133.0          26                20  \n",
       "2                   32                   3.0           3                 6  \n",
       "3                   55                 104.0          29                22  \n",
       "4                   37                  36.0           8                 8  \n",
       "\n",
       "[5 rows x 42 columns]"
      ]
     },
     "execution_count": 185,
     "metadata": {},
     "output_type": "execute_result"
    }
   ],
   "source": [
    "accounts = pd.read_csv(\"mosleh_et_al_data.csv\")\n",
    "accounts.head()"
   ]
  },
  {
   "cell_type": "markdown",
   "metadata": {},
   "source": [
    "## Suspensions Analysis"
   ]
  },
  {
   "cell_type": "markdown",
   "metadata": {},
   "source": [
    "* We will start with some simple descriptions of our data set"
   ]
  },
  {
   "cell_type": "code",
   "execution_count": 186,
   "metadata": {},
   "outputs": [
    {
     "data": {
      "text/html": [
       "<div>\n",
       "<style scoped>\n",
       "    .dataframe tbody tr th:only-of-type {\n",
       "        vertical-align: middle;\n",
       "    }\n",
       "\n",
       "    .dataframe tbody tr th {\n",
       "        vertical-align: top;\n",
       "    }\n",
       "\n",
       "    .dataframe thead th {\n",
       "        text-align: right;\n",
       "    }\n",
       "</style>\n",
       "<table border=\"1\" class=\"dataframe\">\n",
       "  <thead>\n",
       "    <tr style=\"text-align: right;\">\n",
       "      <th></th>\n",
       "      <th>politics_hashtag</th>\n",
       "      <th>suspended</th>\n",
       "    </tr>\n",
       "  </thead>\n",
       "  <tbody>\n",
       "    <tr>\n",
       "      <th>0</th>\n",
       "      <td>0</td>\n",
       "      <td>0</td>\n",
       "    </tr>\n",
       "    <tr>\n",
       "      <th>1</th>\n",
       "      <td>1</td>\n",
       "      <td>0</td>\n",
       "    </tr>\n",
       "    <tr>\n",
       "      <th>2</th>\n",
       "      <td>0</td>\n",
       "      <td>0</td>\n",
       "    </tr>\n",
       "    <tr>\n",
       "      <th>3</th>\n",
       "      <td>0</td>\n",
       "      <td>0</td>\n",
       "    </tr>\n",
       "    <tr>\n",
       "      <th>4</th>\n",
       "      <td>1</td>\n",
       "      <td>0</td>\n",
       "    </tr>\n",
       "  </tbody>\n",
       "</table>\n",
       "</div>"
      ],
      "text/plain": [
       "   politics_hashtag  suspended\n",
       "0                 0          0\n",
       "1                 1          0\n",
       "2                 0          0\n",
       "3                 0          0\n",
       "4                 1          0"
      ]
     },
     "execution_count": 186,
     "metadata": {},
     "output_type": "execute_result"
    }
   ],
   "source": [
    "hashtags_politics = accounts[[\"politics_hashtag\", \"suspended\"]]\n",
    "hashtags_politics.head()"
   ]
  },
  {
   "cell_type": "markdown",
   "metadata": {},
   "source": [
    "* Accounts that shared `#Trump2020` will have 1 on `politics_hashtag`, while accounts that shared `#VoteBidenHarris2020` will have a 0"
   ]
  },
  {
   "cell_type": "code",
   "execution_count": 187,
   "metadata": {},
   "outputs": [
    {
     "data": {
      "text/html": [
       "<div>\n",
       "<style scoped>\n",
       "    .dataframe tbody tr th:only-of-type {\n",
       "        vertical-align: middle;\n",
       "    }\n",
       "\n",
       "    .dataframe tbody tr th {\n",
       "        vertical-align: top;\n",
       "    }\n",
       "\n",
       "    .dataframe thead th {\n",
       "        text-align: right;\n",
       "    }\n",
       "</style>\n",
       "<table border=\"1\" class=\"dataframe\">\n",
       "  <thead>\n",
       "    <tr style=\"text-align: right;\">\n",
       "      <th>suspended</th>\n",
       "      <th>0</th>\n",
       "      <th>1</th>\n",
       "      <th>All</th>\n",
       "    </tr>\n",
       "    <tr>\n",
       "      <th>politics_hashtag</th>\n",
       "      <th></th>\n",
       "      <th></th>\n",
       "      <th></th>\n",
       "    </tr>\n",
       "  </thead>\n",
       "  <tbody>\n",
       "    <tr>\n",
       "      <th>0</th>\n",
       "      <td>4295</td>\n",
       "      <td>200</td>\n",
       "      <td>4495</td>\n",
       "    </tr>\n",
       "    <tr>\n",
       "      <th>1</th>\n",
       "      <td>3623</td>\n",
       "      <td>882</td>\n",
       "      <td>4505</td>\n",
       "    </tr>\n",
       "    <tr>\n",
       "      <th>All</th>\n",
       "      <td>7918</td>\n",
       "      <td>1082</td>\n",
       "      <td>9000</td>\n",
       "    </tr>\n",
       "  </tbody>\n",
       "</table>\n",
       "</div>"
      ],
      "text/plain": [
       "suspended            0     1   All\n",
       "politics_hashtag                  \n",
       "0                 4295   200  4495\n",
       "1                 3623   882  4505\n",
       "All               7918  1082  9000"
      ]
     },
     "execution_count": 187,
     "metadata": {},
     "output_type": "execute_result"
    }
   ],
   "source": [
    "cross_tab = pd.crosstab(hashtags_politics[\"politics_hashtag\"], hashtags_politics[\"suspended\"], margins = True)\n",
    "cross_tab"
   ]
  },
  {
   "cell_type": "markdown",
   "metadata": {},
   "source": [
    "* The above table is a good lookup to retrieve the suspensions/ non suspensions of each side"
   ]
  },
  {
   "cell_type": "markdown",
   "metadata": {},
   "source": [
    "* Lets compute the percentages (or probabilities) of the suspensions with respect to the political views of the accounts"
   ]
  },
  {
   "cell_type": "markdown",
   "metadata": {},
   "source": [
    "* First for Trump:"
   ]
  },
  {
   "cell_type": "code",
   "execution_count": 188,
   "metadata": {},
   "outputs": [
    {
     "data": {
      "text/plain": [
       "np.float64(0.1957824639289678)"
      ]
     },
     "execution_count": 188,
     "metadata": {},
     "output_type": "execute_result"
    }
   ],
   "source": [
    "trumps_suspension_rate = cross_tab[1][1] / cross_tab[\"All\"][1]\n",
    "trumps_suspension_rate"
   ]
  },
  {
   "cell_type": "markdown",
   "metadata": {},
   "source": [
    "* And for Biden:"
   ]
  },
  {
   "cell_type": "code",
   "execution_count": 189,
   "metadata": {},
   "outputs": [
    {
     "data": {
      "text/plain": [
       "np.float64(0.04449388209121246)"
      ]
     },
     "execution_count": 189,
     "metadata": {},
     "output_type": "execute_result"
    }
   ],
   "source": [
    "bidens_suspension_rate = cross_tab[1][0] / cross_tab[\"All\"][0]\n",
    "bidens_suspension_rate"
   ]
  },
  {
   "cell_type": "markdown",
   "metadata": {},
   "source": [
    "* It appears that almost 20% of Trumps' supporters were suspended, while Bidens' supporters have a 4,5% probability of suspension"
   ]
  },
  {
   "cell_type": "markdown",
   "metadata": {},
   "source": [
    "* Lets combine the above percentages so we can compare them more easily"
   ]
  },
  {
   "cell_type": "code",
   "execution_count": 190,
   "metadata": {},
   "outputs": [
    {
     "data": {
      "text/plain": [
       "np.float64(4.400210876803551)"
      ]
     },
     "execution_count": 190,
     "metadata": {},
     "output_type": "execute_result"
    }
   ],
   "source": [
    "trumps_suspension_rate / bidens_suspension_rate"
   ]
  },
  {
   "cell_type": "markdown",
   "metadata": {},
   "source": [
    "* Just like Mosleh et al figured out, accounts that had shared `#Trump2020` during\n",
    "the election were 4.4 times more likely to have been subsequently suspended than those that shared `#VoteBidenHarris2020`"
   ]
  },
  {
   "cell_type": "markdown",
   "metadata": {},
   "source": [
    "## Hypothesis"
   ]
  },
  {
   "cell_type": "markdown",
   "metadata": {},
   "source": [
    "* We want to know if there exists a significant relationship between ones political affiliation and the chance he gets suspended"
   ]
  },
  {
   "cell_type": "markdown",
   "metadata": {},
   "source": [
    "* That means we want to know if `politics_hashtag` has an effect on the probability of suspension"
   ]
  },
  {
   "cell_type": "markdown",
   "metadata": {},
   "source": [
    "* More simply, we have to calculate the probability that any observed difference between the groups, arose by chance"
   ]
  },
  {
   "cell_type": "markdown",
   "metadata": {},
   "source": [
    "* To do that, we will perform a $X^2$ test, with the null hypothesis ($H_0$) that political orientation and suspension, are independent of each other"
   ]
  },
  {
   "cell_type": "markdown",
   "metadata": {},
   "source": [
    "* Lets start by removing the margins from our original cross tabulation, to retain only the frequencies"
   ]
  },
  {
   "cell_type": "code",
   "execution_count": 191,
   "metadata": {},
   "outputs": [
    {
     "data": {
      "text/html": [
       "<div>\n",
       "<style scoped>\n",
       "    .dataframe tbody tr th:only-of-type {\n",
       "        vertical-align: middle;\n",
       "    }\n",
       "\n",
       "    .dataframe tbody tr th {\n",
       "        vertical-align: top;\n",
       "    }\n",
       "\n",
       "    .dataframe thead th {\n",
       "        text-align: right;\n",
       "    }\n",
       "</style>\n",
       "<table border=\"1\" class=\"dataframe\">\n",
       "  <thead>\n",
       "    <tr style=\"text-align: right;\">\n",
       "      <th>suspended</th>\n",
       "      <th>0</th>\n",
       "      <th>1</th>\n",
       "    </tr>\n",
       "    <tr>\n",
       "      <th>politics_hashtag</th>\n",
       "      <th></th>\n",
       "      <th></th>\n",
       "    </tr>\n",
       "  </thead>\n",
       "  <tbody>\n",
       "    <tr>\n",
       "      <th>0</th>\n",
       "      <td>4295</td>\n",
       "      <td>200</td>\n",
       "    </tr>\n",
       "    <tr>\n",
       "      <th>1</th>\n",
       "      <td>3623</td>\n",
       "      <td>882</td>\n",
       "    </tr>\n",
       "  </tbody>\n",
       "</table>\n",
       "</div>"
      ],
      "text/plain": [
       "suspended            0    1\n",
       "politics_hashtag           \n",
       "0                 4295  200\n",
       "1                 3623  882"
      ]
     },
     "execution_count": 191,
     "metadata": {},
     "output_type": "execute_result"
    }
   ],
   "source": [
    "cross_tab.drop(index=\"All\", columns=\"All\", inplace=True)\n",
    "cross_tab"
   ]
  },
  {
   "cell_type": "markdown",
   "metadata": {},
   "source": [
    "* And run the test"
   ]
  },
  {
   "cell_type": "code",
   "execution_count": 192,
   "metadata": {},
   "outputs": [
    {
     "name": "stdout",
     "output_type": "stream",
     "text": [
      "Xsquares = [ 57.03258399 429.87430684]\n",
      "Pvalues = [4.28650646e-14 1.73079311e-95]\n"
     ]
    }
   ],
   "source": [
    "chisquare_model = stats.chisquare(f_obs=cross_tab)\n",
    "print(f\"Xsquares = {chisquare_model.statistic}\\nPvalues = {chisquare_model.pvalue}\")"
   ]
  },
  {
   "cell_type": "markdown",
   "metadata": {},
   "source": [
    "* The first values are the results for the \"Not suspended\" state (0), while the second are for the \"suspended\" state (1)"
   ]
  },
  {
   "cell_type": "markdown",
   "metadata": {},
   "source": [
    "* By summing our results for both the states, we get the complete picture"
   ]
  },
  {
   "cell_type": "code",
   "execution_count": 193,
   "metadata": {},
   "outputs": [
    {
     "name": "stdout",
     "output_type": "stream",
     "text": [
      "Xsquare = 486.9068908250417\n",
      "Pvalue = 4.286506455369322e-14\n"
     ]
    }
   ],
   "source": [
    "print(f\"Xsquare = {chisquare_model.statistic.sum()}\")\n",
    "print(f\"Pvalue = {chisquare_model.pvalue.sum()}\")"
   ]
  },
  {
   "cell_type": "markdown",
   "metadata": {},
   "source": [
    "* The difference between the observed and the theoretical frequencies distribution is the $X^2$ statistic (which denotes a sum of squared deviations)"
   ]
  },
  {
   "cell_type": "markdown",
   "metadata": {},
   "source": [
    "* To interpret the results, we can use a standard significance threshold, $a$, of 5%"
   ]
  },
  {
   "cell_type": "markdown",
   "metadata": {},
   "source": [
    "* Since $Pvalue$ <<< $a$, we can reject our initial hypothesis (with a confidence of 95%)"
   ]
  },
  {
   "cell_type": "markdown",
   "metadata": {},
   "source": [
    "* We do that, because the test indicates that there is a difference in the two probabilities (percentages), and that denotes that the state of an account is indeed influenced by the `politics_hashtag` factor"
   ]
  },
  {
   "cell_type": "markdown",
   "metadata": {},
   "source": [
    "* So it appears that the relation between ones political beliefs and the chance he gets suspended, is significant"
   ]
  },
  {
   "cell_type": "markdown",
   "metadata": {},
   "source": [
    "* That means that if someone told us that an account posted #Trump2020 or #VoteBidenHarris2020, we can predict, with some confidence, the suspension state of said account"
   ]
  },
  {
   "cell_type": "markdown",
   "metadata": {},
   "source": [
    "## Distributions"
   ]
  },
  {
   "cell_type": "markdown",
   "metadata": {},
   "source": [
    "* At this point, we would like to get an idea of which group (0 or 1) spreads the most misinformation"
   ]
  },
  {
   "cell_type": "markdown",
   "metadata": {},
   "source": [
    "* To do that, we will need the opinions on what is considered \"misinformation\" from both experts (called fact checkers) and the general crowd"
   ]
  },
  {
   "cell_type": "markdown",
   "metadata": {},
   "source": [
    "* Lets start with the fact checkers and create a distribution plot"
   ]
  },
  {
   "cell_type": "code",
   "execution_count": 194,
   "metadata": {},
   "outputs": [
    {
     "data": {
      "text/html": [
       "<div>\n",
       "<style scoped>\n",
       "    .dataframe tbody tr th:only-of-type {\n",
       "        vertical-align: middle;\n",
       "    }\n",
       "\n",
       "    .dataframe tbody tr th {\n",
       "        vertical-align: top;\n",
       "    }\n",
       "\n",
       "    .dataframe thead th {\n",
       "        text-align: right;\n",
       "    }\n",
       "</style>\n",
       "<table border=\"1\" class=\"dataframe\">\n",
       "  <thead>\n",
       "    <tr style=\"text-align: right;\">\n",
       "      <th></th>\n",
       "      <th>politics_hashtag</th>\n",
       "      <th>lowqual_pr2019_fc</th>\n",
       "    </tr>\n",
       "  </thead>\n",
       "  <tbody>\n",
       "    <tr>\n",
       "      <th>0</th>\n",
       "      <td>0</td>\n",
       "      <td>0.279221</td>\n",
       "    </tr>\n",
       "    <tr>\n",
       "      <th>1</th>\n",
       "      <td>1</td>\n",
       "      <td>0.848639</td>\n",
       "    </tr>\n",
       "    <tr>\n",
       "      <th>2</th>\n",
       "      <td>0</td>\n",
       "      <td>0.242347</td>\n",
       "    </tr>\n",
       "    <tr>\n",
       "      <th>3</th>\n",
       "      <td>0</td>\n",
       "      <td>0.360119</td>\n",
       "    </tr>\n",
       "    <tr>\n",
       "      <th>4</th>\n",
       "      <td>1</td>\n",
       "      <td>0.698661</td>\n",
       "    </tr>\n",
       "  </tbody>\n",
       "</table>\n",
       "</div>"
      ],
      "text/plain": [
       "   politics_hashtag  lowqual_pr2019_fc\n",
       "0                 0           0.279221\n",
       "1                 1           0.848639\n",
       "2                 0           0.242347\n",
       "3                 0           0.360119\n",
       "4                 1           0.698661"
      ]
     },
     "execution_count": 194,
     "metadata": {},
     "output_type": "execute_result"
    }
   ],
   "source": [
    "hashtag_lowquality = accounts[[\"politics_hashtag\", \"lowqual_pr2019_fc\"]]\n",
    "hashtag_lowquality.head()"
   ]
  },
  {
   "cell_type": "markdown",
   "metadata": {},
   "source": [
    "* The fact checkers have rated each account based on the low-quality news shares it has made"
   ]
  },
  {
   "cell_type": "markdown",
   "metadata": {},
   "source": [
    "* Lets have a look at our data"
   ]
  },
  {
   "cell_type": "code",
   "execution_count": 195,
   "metadata": {},
   "outputs": [
    {
     "data": {
      "text/html": [
       "<div>\n",
       "<style scoped>\n",
       "    .dataframe tbody tr th:only-of-type {\n",
       "        vertical-align: middle;\n",
       "    }\n",
       "\n",
       "    .dataframe tbody tr th {\n",
       "        vertical-align: top;\n",
       "    }\n",
       "\n",
       "    .dataframe thead th {\n",
       "        text-align: right;\n",
       "    }\n",
       "</style>\n",
       "<table border=\"1\" class=\"dataframe\">\n",
       "  <thead>\n",
       "    <tr style=\"text-align: right;\">\n",
       "      <th></th>\n",
       "      <th>politics_hashtag</th>\n",
       "      <th>lowqual_pr2019_fc</th>\n",
       "    </tr>\n",
       "  </thead>\n",
       "  <tbody>\n",
       "    <tr>\n",
       "      <th>count</th>\n",
       "      <td>9000.000000</td>\n",
       "      <td>8945.000000</td>\n",
       "    </tr>\n",
       "    <tr>\n",
       "      <th>mean</th>\n",
       "      <td>0.500556</td>\n",
       "      <td>0.466415</td>\n",
       "    </tr>\n",
       "    <tr>\n",
       "      <th>std</th>\n",
       "      <td>0.500027</td>\n",
       "      <td>0.239274</td>\n",
       "    </tr>\n",
       "    <tr>\n",
       "      <th>min</th>\n",
       "      <td>0.000000</td>\n",
       "      <td>0.071429</td>\n",
       "    </tr>\n",
       "    <tr>\n",
       "      <th>25%</th>\n",
       "      <td>0.000000</td>\n",
       "      <td>0.235390</td>\n",
       "    </tr>\n",
       "    <tr>\n",
       "      <th>50%</th>\n",
       "      <td>1.000000</td>\n",
       "      <td>0.457143</td>\n",
       "    </tr>\n",
       "    <tr>\n",
       "      <th>75%</th>\n",
       "      <td>1.000000</td>\n",
       "      <td>0.702773</td>\n",
       "    </tr>\n",
       "    <tr>\n",
       "      <th>max</th>\n",
       "      <td>1.000000</td>\n",
       "      <td>0.989881</td>\n",
       "    </tr>\n",
       "  </tbody>\n",
       "</table>\n",
       "</div>"
      ],
      "text/plain": [
       "       politics_hashtag  lowqual_pr2019_fc\n",
       "count       9000.000000        8945.000000\n",
       "mean           0.500556           0.466415\n",
       "std            0.500027           0.239274\n",
       "min            0.000000           0.071429\n",
       "25%            0.000000           0.235390\n",
       "50%            1.000000           0.457143\n",
       "75%            1.000000           0.702773\n",
       "max            1.000000           0.989881"
      ]
     },
     "execution_count": 195,
     "metadata": {},
     "output_type": "execute_result"
    }
   ],
   "source": [
    "hashtag_lowquality.describe()"
   ]
  },
  {
   "cell_type": "markdown",
   "metadata": {},
   "source": [
    "* We would like to normalize `lowqual_pr2019_fc` using z-scores, so the mean of the data is 0 and the standard deviation, 1"
   ]
  },
  {
   "cell_type": "markdown",
   "metadata": {},
   "source": [
    "* We will use a `StandardScaler` for that, since it can take care of that for us"
   ]
  },
  {
   "cell_type": "code",
   "execution_count": 196,
   "metadata": {},
   "outputs": [],
   "source": [
    "from sklearn.preprocessing import StandardScaler\n",
    "\n",
    "scaler = StandardScaler()\n",
    "hashtag_lowquality.loc[:, [\"lowqual_pr2019_fc_SCALED\"]] = scaler.fit_transform(hashtag_lowquality[[\"lowqual_pr2019_fc\"]])"
   ]
  },
  {
   "cell_type": "markdown",
   "metadata": {},
   "source": [
    "* We can see we achieved our goal"
   ]
  },
  {
   "cell_type": "code",
   "execution_count": 197,
   "metadata": {},
   "outputs": [
    {
     "data": {
      "text/html": [
       "<div>\n",
       "<style scoped>\n",
       "    .dataframe tbody tr th:only-of-type {\n",
       "        vertical-align: middle;\n",
       "    }\n",
       "\n",
       "    .dataframe tbody tr th {\n",
       "        vertical-align: top;\n",
       "    }\n",
       "\n",
       "    .dataframe thead th {\n",
       "        text-align: right;\n",
       "    }\n",
       "</style>\n",
       "<table border=\"1\" class=\"dataframe\">\n",
       "  <thead>\n",
       "    <tr style=\"text-align: right;\">\n",
       "      <th></th>\n",
       "      <th>politics_hashtag</th>\n",
       "      <th>lowqual_pr2019_fc</th>\n",
       "      <th>lowqual_pr2019_fc_SCALED</th>\n",
       "    </tr>\n",
       "  </thead>\n",
       "  <tbody>\n",
       "    <tr>\n",
       "      <th>count</th>\n",
       "      <td>9000.000000</td>\n",
       "      <td>8945.000000</td>\n",
       "      <td>8.945000e+03</td>\n",
       "    </tr>\n",
       "    <tr>\n",
       "      <th>mean</th>\n",
       "      <td>0.500556</td>\n",
       "      <td>0.466415</td>\n",
       "      <td>-2.351265e-16</td>\n",
       "    </tr>\n",
       "    <tr>\n",
       "      <th>std</th>\n",
       "      <td>0.500027</td>\n",
       "      <td>0.239274</td>\n",
       "      <td>1.000056e+00</td>\n",
       "    </tr>\n",
       "    <tr>\n",
       "      <th>min</th>\n",
       "      <td>0.000000</td>\n",
       "      <td>0.071429</td>\n",
       "      <td>-1.650861e+00</td>\n",
       "    </tr>\n",
       "    <tr>\n",
       "      <th>25%</th>\n",
       "      <td>0.000000</td>\n",
       "      <td>0.235390</td>\n",
       "      <td>-9.655804e-01</td>\n",
       "    </tr>\n",
       "    <tr>\n",
       "      <th>50%</th>\n",
       "      <td>1.000000</td>\n",
       "      <td>0.457143</td>\n",
       "      <td>-3.875435e-02</td>\n",
       "    </tr>\n",
       "    <tr>\n",
       "      <th>75%</th>\n",
       "      <td>1.000000</td>\n",
       "      <td>0.702773</td>\n",
       "      <td>9.878643e-01</td>\n",
       "    </tr>\n",
       "    <tr>\n",
       "      <th>max</th>\n",
       "      <td>1.000000</td>\n",
       "      <td>0.989881</td>\n",
       "      <td>2.187845e+00</td>\n",
       "    </tr>\n",
       "  </tbody>\n",
       "</table>\n",
       "</div>"
      ],
      "text/plain": [
       "       politics_hashtag  lowqual_pr2019_fc  lowqual_pr2019_fc_SCALED\n",
       "count       9000.000000        8945.000000              8.945000e+03\n",
       "mean           0.500556           0.466415             -2.351265e-16\n",
       "std            0.500027           0.239274              1.000056e+00\n",
       "min            0.000000           0.071429             -1.650861e+00\n",
       "25%            0.000000           0.235390             -9.655804e-01\n",
       "50%            1.000000           0.457143             -3.875435e-02\n",
       "75%            1.000000           0.702773              9.878643e-01\n",
       "max            1.000000           0.989881              2.187845e+00"
      ]
     },
     "execution_count": 197,
     "metadata": {},
     "output_type": "execute_result"
    }
   ],
   "source": [
    "hashtag_lowquality.describe()"
   ]
  },
  {
   "cell_type": "markdown",
   "metadata": {},
   "source": [
    "* Time to plot"
   ]
  },
  {
   "cell_type": "code",
   "execution_count": 198,
   "metadata": {},
   "outputs": [
    {
     "data": {
      "image/png": "[encoded data removed]",
      "text/plain": [
       "<Figure size 850x500 with 1 Axes>"
      ]
     },
     "metadata": {},
     "output_type": "display_data"
    }
   ],
   "source": [
    "import seaborn as sns\n",
    "import matplotlib.pyplot as plt\n",
    "\n",
    "hashtag_labels = [\"Trump Hashtags\", \"Biden Hashtags\"]\n",
    "\n",
    "distplot = sns.displot(\n",
    "    hashtag_lowquality,\n",
    "    x=\"lowqual_pr2019_fc_SCALED\",\n",
    "    kind=\"kde\",\n",
    "    fill=True,\n",
    "    hue=\"politics_hashtag\",\n",
    "    aspect=1.7,\n",
    "    legend=False\n",
    ")\n",
    "\n",
    "plt.xlabel(\"Low-quality news sharing\")\n",
    "plt.ylabel(\"Frequency\")\n",
    "plt.grid(()) # remove gird\n",
    "_ = plt.legend(title = \"People who shared\", labels = hashtag_labels)"
   ]
  },
  {
   "cell_type": "markdown",
   "metadata": {},
   "source": [
    "* Lets replicate our results, this time with the opinion of the crowd (instead of fact checkers)"
   ]
  },
  {
   "cell_type": "code",
   "execution_count": 199,
   "metadata": {},
   "outputs": [
    {
     "data": {
      "text/html": [
       "<div>\n",
       "<style scoped>\n",
       "    .dataframe tbody tr th:only-of-type {\n",
       "        vertical-align: middle;\n",
       "    }\n",
       "\n",
       "    .dataframe tbody tr th {\n",
       "        vertical-align: top;\n",
       "    }\n",
       "\n",
       "    .dataframe thead th {\n",
       "        text-align: right;\n",
       "    }\n",
       "</style>\n",
       "<table border=\"1\" class=\"dataframe\">\n",
       "  <thead>\n",
       "    <tr style=\"text-align: right;\">\n",
       "      <th></th>\n",
       "      <th>politics_hashtag</th>\n",
       "      <th>lowqual_pr2019_fc</th>\n",
       "      <th>lowqual_pr2019_fc_SCALED</th>\n",
       "      <th>lowqual_pr2019_crowd</th>\n",
       "    </tr>\n",
       "  </thead>\n",
       "  <tbody>\n",
       "    <tr>\n",
       "      <th>0</th>\n",
       "      <td>0</td>\n",
       "      <td>0.279221</td>\n",
       "      <td>-0.782386</td>\n",
       "      <td>0.598883</td>\n",
       "    </tr>\n",
       "    <tr>\n",
       "      <th>1</th>\n",
       "      <td>1</td>\n",
       "      <td>0.848639</td>\n",
       "      <td>1.597521</td>\n",
       "      <td>0.774873</td>\n",
       "    </tr>\n",
       "    <tr>\n",
       "      <th>2</th>\n",
       "      <td>0</td>\n",
       "      <td>0.242347</td>\n",
       "      <td>-0.936502</td>\n",
       "      <td>0.548727</td>\n",
       "    </tr>\n",
       "    <tr>\n",
       "      <th>3</th>\n",
       "      <td>0</td>\n",
       "      <td>0.360119</td>\n",
       "      <td>-0.444269</td>\n",
       "      <td>0.611501</td>\n",
       "    </tr>\n",
       "    <tr>\n",
       "      <th>4</th>\n",
       "      <td>1</td>\n",
       "      <td>0.698661</td>\n",
       "      <td>0.970679</td>\n",
       "      <td>0.700217</td>\n",
       "    </tr>\n",
       "  </tbody>\n",
       "</table>\n",
       "</div>"
      ],
      "text/plain": [
       "   politics_hashtag  lowqual_pr2019_fc  lowqual_pr2019_fc_SCALED  \\\n",
       "0                 0           0.279221                 -0.782386   \n",
       "1                 1           0.848639                  1.597521   \n",
       "2                 0           0.242347                 -0.936502   \n",
       "3                 0           0.360119                 -0.444269   \n",
       "4                 1           0.698661                  0.970679   \n",
       "\n",
       "   lowqual_pr2019_crowd  \n",
       "0              0.598883  \n",
       "1              0.774873  \n",
       "2              0.548727  \n",
       "3              0.611501  \n",
       "4              0.700217  "
      ]
     },
     "execution_count": 199,
     "metadata": {},
     "output_type": "execute_result"
    }
   ],
   "source": [
    "hashtag_lowquality = pd.concat([hashtag_lowquality, accounts[[\"lowqual_pr2019_crowd\"]]], axis = 1)\n",
    "hashtag_lowquality.head()"
   ]
  },
  {
   "cell_type": "markdown",
   "metadata": {},
   "source": [
    "* Again, we follow the same process"
   ]
  },
  {
   "cell_type": "code",
   "execution_count": 200,
   "metadata": {},
   "outputs": [
    {
     "data": {
      "text/html": [
       "<div>\n",
       "<style scoped>\n",
       "    .dataframe tbody tr th:only-of-type {\n",
       "        vertical-align: middle;\n",
       "    }\n",
       "\n",
       "    .dataframe tbody tr th {\n",
       "        vertical-align: top;\n",
       "    }\n",
       "\n",
       "    .dataframe thead th {\n",
       "        text-align: right;\n",
       "    }\n",
       "</style>\n",
       "<table border=\"1\" class=\"dataframe\">\n",
       "  <thead>\n",
       "    <tr style=\"text-align: right;\">\n",
       "      <th></th>\n",
       "      <th>politics_hashtag</th>\n",
       "      <th>lowqual_pr2019_fc</th>\n",
       "      <th>lowqual_pr2019_fc_SCALED</th>\n",
       "      <th>lowqual_pr2019_crowd</th>\n",
       "    </tr>\n",
       "  </thead>\n",
       "  <tbody>\n",
       "    <tr>\n",
       "      <th>count</th>\n",
       "      <td>9000.000000</td>\n",
       "      <td>8945.000000</td>\n",
       "      <td>8.945000e+03</td>\n",
       "      <td>8945.000000</td>\n",
       "    </tr>\n",
       "    <tr>\n",
       "      <th>mean</th>\n",
       "      <td>0.500556</td>\n",
       "      <td>0.466415</td>\n",
       "      <td>-2.351265e-16</td>\n",
       "      <td>0.637918</td>\n",
       "    </tr>\n",
       "    <tr>\n",
       "      <th>std</th>\n",
       "      <td>0.500027</td>\n",
       "      <td>0.239274</td>\n",
       "      <td>1.000056e+00</td>\n",
       "      <td>0.072139</td>\n",
       "    </tr>\n",
       "    <tr>\n",
       "      <th>min</th>\n",
       "      <td>0.000000</td>\n",
       "      <td>0.071429</td>\n",
       "      <td>-1.650861e+00</td>\n",
       "      <td>0.524729</td>\n",
       "    </tr>\n",
       "    <tr>\n",
       "      <th>25%</th>\n",
       "      <td>0.000000</td>\n",
       "      <td>0.235390</td>\n",
       "      <td>-9.655804e-01</td>\n",
       "      <td>0.567706</td>\n",
       "    </tr>\n",
       "    <tr>\n",
       "      <th>50%</th>\n",
       "      <td>1.000000</td>\n",
       "      <td>0.457143</td>\n",
       "      <td>-3.875435e-02</td>\n",
       "      <td>0.633167</td>\n",
       "    </tr>\n",
       "    <tr>\n",
       "      <th>75%</th>\n",
       "      <td>1.000000</td>\n",
       "      <td>0.702773</td>\n",
       "      <td>9.878643e-01</td>\n",
       "      <td>0.704621</td>\n",
       "    </tr>\n",
       "    <tr>\n",
       "      <th>max</th>\n",
       "      <td>1.000000</td>\n",
       "      <td>0.989881</td>\n",
       "      <td>2.187845e+00</td>\n",
       "      <td>0.823364</td>\n",
       "    </tr>\n",
       "  </tbody>\n",
       "</table>\n",
       "</div>"
      ],
      "text/plain": [
       "       politics_hashtag  lowqual_pr2019_fc  lowqual_pr2019_fc_SCALED  \\\n",
       "count       9000.000000        8945.000000              8.945000e+03   \n",
       "mean           0.500556           0.466415             -2.351265e-16   \n",
       "std            0.500027           0.239274              1.000056e+00   \n",
       "min            0.000000           0.071429             -1.650861e+00   \n",
       "25%            0.000000           0.235390             -9.655804e-01   \n",
       "50%            1.000000           0.457143             -3.875435e-02   \n",
       "75%            1.000000           0.702773              9.878643e-01   \n",
       "max            1.000000           0.989881              2.187845e+00   \n",
       "\n",
       "       lowqual_pr2019_crowd  \n",
       "count           8945.000000  \n",
       "mean               0.637918  \n",
       "std                0.072139  \n",
       "min                0.524729  \n",
       "25%                0.567706  \n",
       "50%                0.633167  \n",
       "75%                0.704621  \n",
       "max                0.823364  "
      ]
     },
     "execution_count": 200,
     "metadata": {},
     "output_type": "execute_result"
    }
   ],
   "source": [
    "hashtag_lowquality.describe()"
   ]
  },
  {
   "cell_type": "code",
   "execution_count": 201,
   "metadata": {},
   "outputs": [
    {
     "data": {
      "text/html": [
       "<div>\n",
       "<style scoped>\n",
       "    .dataframe tbody tr th:only-of-type {\n",
       "        vertical-align: middle;\n",
       "    }\n",
       "\n",
       "    .dataframe tbody tr th {\n",
       "        vertical-align: top;\n",
       "    }\n",
       "\n",
       "    .dataframe thead th {\n",
       "        text-align: right;\n",
       "    }\n",
       "</style>\n",
       "<table border=\"1\" class=\"dataframe\">\n",
       "  <thead>\n",
       "    <tr style=\"text-align: right;\">\n",
       "      <th></th>\n",
       "      <th>politics_hashtag</th>\n",
       "      <th>lowqual_pr2019_fc</th>\n",
       "      <th>lowqual_pr2019_fc_SCALED</th>\n",
       "      <th>lowqual_pr2019_crowd</th>\n",
       "      <th>lowqual_pr2019_crowd_SCALED</th>\n",
       "    </tr>\n",
       "  </thead>\n",
       "  <tbody>\n",
       "    <tr>\n",
       "      <th>count</th>\n",
       "      <td>9000.000000</td>\n",
       "      <td>8945.000000</td>\n",
       "      <td>8.945000e+03</td>\n",
       "      <td>8945.000000</td>\n",
       "      <td>8.945000e+03</td>\n",
       "    </tr>\n",
       "    <tr>\n",
       "      <th>mean</th>\n",
       "      <td>0.500556</td>\n",
       "      <td>0.466415</td>\n",
       "      <td>-2.351265e-16</td>\n",
       "      <td>0.637918</td>\n",
       "      <td>-8.833130e-16</td>\n",
       "    </tr>\n",
       "    <tr>\n",
       "      <th>std</th>\n",
       "      <td>0.500027</td>\n",
       "      <td>0.239274</td>\n",
       "      <td>1.000056e+00</td>\n",
       "      <td>0.072139</td>\n",
       "      <td>1.000056e+00</td>\n",
       "    </tr>\n",
       "    <tr>\n",
       "      <th>min</th>\n",
       "      <td>0.000000</td>\n",
       "      <td>0.071429</td>\n",
       "      <td>-1.650861e+00</td>\n",
       "      <td>0.524729</td>\n",
       "      <td>-1.569126e+00</td>\n",
       "    </tr>\n",
       "    <tr>\n",
       "      <th>25%</th>\n",
       "      <td>0.000000</td>\n",
       "      <td>0.235390</td>\n",
       "      <td>-9.655804e-01</td>\n",
       "      <td>0.567706</td>\n",
       "      <td>-9.733493e-01</td>\n",
       "    </tr>\n",
       "    <tr>\n",
       "      <th>50%</th>\n",
       "      <td>1.000000</td>\n",
       "      <td>0.457143</td>\n",
       "      <td>-3.875435e-02</td>\n",
       "      <td>0.633167</td>\n",
       "      <td>-6.586391e-02</td>\n",
       "    </tr>\n",
       "    <tr>\n",
       "      <th>75%</th>\n",
       "      <td>1.000000</td>\n",
       "      <td>0.702773</td>\n",
       "      <td>9.878643e-01</td>\n",
       "      <td>0.704621</td>\n",
       "      <td>9.247062e-01</td>\n",
       "    </tr>\n",
       "    <tr>\n",
       "      <th>max</th>\n",
       "      <td>1.000000</td>\n",
       "      <td>0.989881</td>\n",
       "      <td>2.187845e+00</td>\n",
       "      <td>0.823364</td>\n",
       "      <td>2.570830e+00</td>\n",
       "    </tr>\n",
       "  </tbody>\n",
       "</table>\n",
       "</div>"
      ],
      "text/plain": [
       "       politics_hashtag  lowqual_pr2019_fc  lowqual_pr2019_fc_SCALED  \\\n",
       "count       9000.000000        8945.000000              8.945000e+03   \n",
       "mean           0.500556           0.466415             -2.351265e-16   \n",
       "std            0.500027           0.239274              1.000056e+00   \n",
       "min            0.000000           0.071429             -1.650861e+00   \n",
       "25%            0.000000           0.235390             -9.655804e-01   \n",
       "50%            1.000000           0.457143             -3.875435e-02   \n",
       "75%            1.000000           0.702773              9.878643e-01   \n",
       "max            1.000000           0.989881              2.187845e+00   \n",
       "\n",
       "       lowqual_pr2019_crowd  lowqual_pr2019_crowd_SCALED  \n",
       "count           8945.000000                 8.945000e+03  \n",
       "mean               0.637918                -8.833130e-16  \n",
       "std                0.072139                 1.000056e+00  \n",
       "min                0.524729                -1.569126e+00  \n",
       "25%                0.567706                -9.733493e-01  \n",
       "50%                0.633167                -6.586391e-02  \n",
       "75%                0.704621                 9.247062e-01  \n",
       "max                0.823364                 2.570830e+00  "
      ]
     },
     "execution_count": 201,
     "metadata": {},
     "output_type": "execute_result"
    }
   ],
   "source": [
    "hashtag_lowquality.loc[:, \"lowqual_pr2019_crowd_SCALED\"] = scaler.fit_transform(hashtag_lowquality[[\"lowqual_pr2019_crowd\"]])\n",
    "hashtag_lowquality.describe()"
   ]
  },
  {
   "cell_type": "markdown",
   "metadata": {},
   "source": [
    "* Lets see what's going on with the frequencies crowd opinions on Low-quality news"
   ]
  },
  {
   "cell_type": "code",
   "execution_count": 202,
   "metadata": {},
   "outputs": [
    {
     "data": {
      "image/png": "[encoded data removed]",
      "text/plain": [
       "<Figure size 850x500 with 1 Axes>"
      ]
     },
     "metadata": {},
     "output_type": "display_data"
    }
   ],
   "source": [
    "displot = sns.displot(\n",
    "    hashtag_lowquality,\n",
    "    x=\"lowqual_pr2019_crowd_SCALED\",\n",
    "    kind=\"kde\",\n",
    "    fill=True,\n",
    "    hue=\"politics_hashtag\",\n",
    "    aspect=1.7,\n",
    "    legend=False\n",
    ")\n",
    "\n",
    "plt.xlabel(\"Low-quality news sharing\")\n",
    "plt.ylabel(\"Frequency\")\n",
    "plt.grid(()) # remove gird\n",
    "_ = plt.legend(title = \"People who shared\", labels = hashtag_labels)"
   ]
  },
  {
   "cell_type": "markdown",
   "metadata": {},
   "source": [
    "* Is there an actual difference between the scores of Trump supporters, as opposed to Biden's?"
   ]
  },
  {
   "cell_type": "markdown",
   "metadata": {},
   "source": [
    "* That being said, to figure out if the two means are unequal, although useful, is not enough information"
   ]
  },
  {
   "cell_type": "markdown",
   "metadata": {},
   "source": [
    "* We would also like to know which mean is <i>greater</i>"
   ]
  },
  {
   "cell_type": "markdown",
   "metadata": {},
   "source": [
    "* We can perform a $t$-test to figure that out, with the alternative hypothesis ($H_1$) being that one mean is greater than the other"
   ]
  },
  {
   "cell_type": "markdown",
   "metadata": {},
   "source": [
    "* Lets divide the samples into the two respective groups"
   ]
  },
  {
   "cell_type": "code",
   "execution_count": 203,
   "metadata": {},
   "outputs": [],
   "source": [
    "trump_scores = hashtag_lowquality.loc[hashtag_lowquality[\"politics_hashtag\"] == 1, [\"lowqual_pr2019_fc\"]]\n",
    "biden_scores = hashtag_lowquality.loc[hashtag_lowquality[\"politics_hashtag\"] == 0, [\"lowqual_pr2019_fc\"]]"
   ]
  },
  {
   "cell_type": "code",
   "execution_count": 204,
   "metadata": {},
   "outputs": [
    {
     "name": "stdout",
     "output_type": "stream",
     "text": [
      "Trump std: 0.15196012121154384\n",
      "Biden std: 0.14534279901301647\n"
     ]
    }
   ],
   "source": [
    "print(f\"Trump std: {trump_scores['lowqual_pr2019_fc'].std()}\\nBiden std: {biden_scores['lowqual_pr2019_fc'].std()}\")"
   ]
  },
  {
   "cell_type": "markdown",
   "metadata": {},
   "source": [
    "* The variances are almost identical, so we are good to perform the test"
   ]
  },
  {
   "cell_type": "markdown",
   "metadata": {},
   "source": [
    "* If that were not the case, we would have to use [Welch's t-test](https://en.wikipedia.org/wiki/Welch's_t-test)"
   ]
  },
  {
   "cell_type": "code",
   "execution_count": 205,
   "metadata": {},
   "outputs": [
    {
     "name": "stdout",
     "output_type": "stream",
     "text": [
      "t-test = 119.22334314832358\n",
      "Pvalue = 0.0\n"
     ]
    }
   ],
   "source": [
    "from scipy.stats import ttest_ind\n",
    "\n",
    "ttest_model = ttest_ind(\n",
    "    trump_scores,\n",
    "    biden_scores,\n",
    "    alternative=\"greater\", # set H1 as: μ1 > μ2\n",
    "    equal_var=True,\n",
    "    nan_policy = \"omit\" # skip nans\n",
    ")\n",
    "print(f\"t-test = {ttest_model.statistic[0]}\\nPvalue = {ttest_model.pvalue[0]}\")"
   ]
  },
  {
   "cell_type": "markdown",
   "metadata": {},
   "source": [
    "* Using the same confidence level as before ($a$ = 5%), we reject the hypothesis that the samples have identical means"
   ]
  },
  {
   "cell_type": "markdown",
   "metadata": {},
   "source": [
    "* That tells us, that Trump's score mean is greater than Biden's (the difference is significant)"
   ]
  },
  {
   "cell_type": "markdown",
   "metadata": {},
   "source": [
    "* Lets also the check the confidence interval around the difference of the two means"
   ]
  },
  {
   "cell_type": "code",
   "execution_count": 206,
   "metadata": {},
   "outputs": [
    {
     "name": "stdout",
     "output_type": "stream",
     "text": [
      "[0.36973456965801266, inf]\n"
     ]
    }
   ],
   "source": [
    "confidence_int = ttest_model.confidence_interval(confidence_level=0.95)\n",
    "print(f\"[{confidence_int.low[0]}, {confidence_int.high[0]}]\")"
   ]
  },
  {
   "cell_type": "markdown",
   "metadata": {},
   "source": [
    "* We can be 95% sure that the difference of the two samples will fall under the above interval"
   ]
  },
  {
   "cell_type": "markdown",
   "metadata": {},
   "source": [
    "## Effect"
   ]
  },
  {
   "cell_type": "markdown",
   "metadata": {},
   "source": [
    "* We would like to extend the above analysis to some other features of our dataset"
   ]
  },
  {
   "cell_type": "markdown",
   "metadata": {},
   "source": [
    "* Lets retrieve those features"
   ]
  },
  {
   "cell_type": "code",
   "execution_count": 207,
   "metadata": {},
   "outputs": [
    {
     "data": {
      "text/html": [
       "<div>\n",
       "<style scoped>\n",
       "    .dataframe tbody tr th:only-of-type {\n",
       "        vertical-align: middle;\n",
       "    }\n",
       "\n",
       "    .dataframe tbody tr th {\n",
       "        vertical-align: top;\n",
       "    }\n",
       "\n",
       "    .dataframe thead th {\n",
       "        text-align: right;\n",
       "    }\n",
       "</style>\n",
       "<table border=\"1\" class=\"dataframe\">\n",
       "  <thead>\n",
       "    <tr style=\"text-align: right;\">\n",
       "      <th></th>\n",
       "      <th>politics_hashtag</th>\n",
       "      <th>lowqual_pr2019_fc</th>\n",
       "      <th>lowqual_afm</th>\n",
       "      <th>lowqual_mbfc</th>\n",
       "      <th>lowqual_lasser2019</th>\n",
       "      <th>lowqual_pr2019_crowd</th>\n",
       "      <th>lowqual_pr2019_crowdrep</th>\n",
       "    </tr>\n",
       "  </thead>\n",
       "  <tbody>\n",
       "    <tr>\n",
       "      <th>0</th>\n",
       "      <td>0</td>\n",
       "      <td>0.279221</td>\n",
       "      <td>0.185315</td>\n",
       "      <td>0.292807</td>\n",
       "      <td>0.350000</td>\n",
       "      <td>0.598883</td>\n",
       "      <td>0.700800</td>\n",
       "    </tr>\n",
       "    <tr>\n",
       "      <th>1</th>\n",
       "      <td>1</td>\n",
       "      <td>0.848639</td>\n",
       "      <td>0.614156</td>\n",
       "      <td>0.513147</td>\n",
       "      <td>0.975087</td>\n",
       "      <td>0.774873</td>\n",
       "      <td>0.755118</td>\n",
       "    </tr>\n",
       "    <tr>\n",
       "      <th>2</th>\n",
       "      <td>0</td>\n",
       "      <td>0.242347</td>\n",
       "      <td>0.130950</td>\n",
       "      <td>0.242445</td>\n",
       "      <td>0.300000</td>\n",
       "      <td>0.548727</td>\n",
       "      <td>0.658118</td>\n",
       "    </tr>\n",
       "    <tr>\n",
       "      <th>3</th>\n",
       "      <td>0</td>\n",
       "      <td>0.360119</td>\n",
       "      <td>0.180055</td>\n",
       "      <td>0.277793</td>\n",
       "      <td>0.316038</td>\n",
       "      <td>0.611501</td>\n",
       "      <td>0.699165</td>\n",
       "    </tr>\n",
       "    <tr>\n",
       "      <th>4</th>\n",
       "      <td>1</td>\n",
       "      <td>0.698661</td>\n",
       "      <td>0.430655</td>\n",
       "      <td>0.554609</td>\n",
       "      <td>0.763889</td>\n",
       "      <td>0.700217</td>\n",
       "      <td>0.725429</td>\n",
       "    </tr>\n",
       "  </tbody>\n",
       "</table>\n",
       "</div>"
      ],
      "text/plain": [
       "   politics_hashtag  lowqual_pr2019_fc  lowqual_afm  lowqual_mbfc  \\\n",
       "0                 0           0.279221     0.185315      0.292807   \n",
       "1                 1           0.848639     0.614156      0.513147   \n",
       "2                 0           0.242347     0.130950      0.242445   \n",
       "3                 0           0.360119     0.180055      0.277793   \n",
       "4                 1           0.698661     0.430655      0.554609   \n",
       "\n",
       "   lowqual_lasser2019  lowqual_pr2019_crowd  lowqual_pr2019_crowdrep  \n",
       "0            0.350000              0.598883                 0.700800  \n",
       "1            0.975087              0.774873                 0.755118  \n",
       "2            0.300000              0.548727                 0.658118  \n",
       "3            0.316038              0.611501                 0.699165  \n",
       "4            0.763889              0.700217                 0.725429  "
      ]
     },
     "execution_count": 207,
     "metadata": {},
     "output_type": "execute_result"
    }
   ],
   "source": [
    "complete_ratings = accounts[[\n",
    "    \"politics_hashtag\",\n",
    "    \"lowqual_pr2019_fc\",\n",
    "    \"lowqual_afm\",\n",
    "    \"lowqual_mbfc\",\n",
    "    \"lowqual_lasser2019\",\n",
    "    \"lowqual_pr2019_crowd\",\n",
    "    \"lowqual_pr2019_crowdrep\"\n",
    "]]\n",
    "complete_ratings.head()"
   ]
  },
  {
   "cell_type": "markdown",
   "metadata": {},
   "source": [
    "* The different columns denote different rating sources"
   ]
  },
  {
   "cell_type": "markdown",
   "metadata": {},
   "source": [
    "* We should create the two respective groups"
   ]
  },
  {
   "cell_type": "code",
   "execution_count": 208,
   "metadata": {},
   "outputs": [],
   "source": [
    "political_groups = complete_ratings.groupby(\"politics_hashtag\")\n",
    "\n",
    "# drop the hashtag at it provides provides no information now per group\n",
    "biden_complete_ratings = political_groups.get_group(0).drop([\"politics_hashtag\"], axis=1)\n",
    "trump_complete_ratings = political_groups.get_group(1).drop([\"politics_hashtag\"], axis=1)"
   ]
  },
  {
   "cell_type": "markdown",
   "metadata": {},
   "source": [
    "* Before executing the analysis, it would be useful to check if there exists any difference between the variances of the two groups in any category"
   ]
  },
  {
   "cell_type": "code",
   "execution_count": 209,
   "metadata": {},
   "outputs": [
    {
     "data": {
      "text/plain": [
       "lowqual_pr2019_fc          0.145343\n",
       "lowqual_afm                0.066149\n",
       "lowqual_mbfc               0.085668\n",
       "lowqual_lasser2019         0.101740\n",
       "lowqual_pr2019_crowd       0.046797\n",
       "lowqual_pr2019_crowdrep    0.026826\n",
       "dtype: float64"
      ]
     },
     "execution_count": 209,
     "metadata": {},
     "output_type": "execute_result"
    }
   ],
   "source": [
    "biden_complete_ratings.std()"
   ]
  },
  {
   "cell_type": "code",
   "execution_count": 210,
   "metadata": {},
   "outputs": [
    {
     "data": {
      "text/plain": [
       "lowqual_pr2019_fc          0.151960\n",
       "lowqual_afm                0.089488\n",
       "lowqual_mbfc               0.078845\n",
       "lowqual_lasser2019         0.164056\n",
       "lowqual_pr2019_crowd       0.050954\n",
       "lowqual_pr2019_crowdrep    0.028014\n",
       "dtype: float64"
      ]
     },
     "execution_count": 210,
     "metadata": {},
     "output_type": "execute_result"
    }
   ],
   "source": [
    "trump_complete_ratings.std()"
   ]
  },
  {
   "cell_type": "markdown",
   "metadata": {},
   "source": [
    "* The differences are small enough for the variances to be considered 'equal', so we can continue with our analysis freely"
   ]
  },
  {
   "cell_type": "code",
   "execution_count": 211,
   "metadata": {},
   "outputs": [
    {
     "data": {
      "text/plain": [
       "TtestResult(statistic=array([119.22334315, 102.6777191 ,  97.59223108, 102.63374606,\n",
       "       102.46401374,  61.07148517]), pvalue=array([0., 0., 0., 0., 0., 0.]), df=array([8943., 8996., 8997., 8997., 8943., 8943.]))"
      ]
     },
     "execution_count": 211,
     "metadata": {},
     "output_type": "execute_result"
    }
   ],
   "source": [
    "ttest_model = ttest_ind(\n",
    "    trump_complete_ratings,\n",
    "    biden_complete_ratings,\n",
    "    alternative=\"greater\", # set H1 as: μ1 > μ2\n",
    "    equal_var=True,\n",
    "    nan_policy = \"omit\" # skip nans\n",
    ")\n",
    "ttest_model"
   ]
  },
  {
   "cell_type": "markdown",
   "metadata": {},
   "source": [
    "* Lets see the results more clearly"
   ]
  },
  {
   "cell_type": "code",
   "execution_count": 212,
   "metadata": {},
   "outputs": [
    {
     "name": "stdout",
     "output_type": "stream",
     "text": [
      "lowqual_pr2019_fc:\n",
      "\tstatistic = 119.22334314832358, pvalue = 0.0\n",
      "\n",
      "lowqual_afm:\n",
      "\tstatistic = 102.67771909991932, pvalue = 0.0\n",
      "\n",
      "lowqual_mbfc:\n",
      "\tstatistic = 97.59223108151366, pvalue = 0.0\n",
      "\n",
      "lowqual_lasser2019:\n",
      "\tstatistic = 102.63374606323765, pvalue = 0.0\n",
      "\n",
      "lowqual_pr2019_crowd:\n",
      "\tstatistic = 102.46401373884619, pvalue = 0.0\n",
      "\n",
      "lowqual_pr2019_crowdrep:\n",
      "\tstatistic = 61.07148517092751, pvalue = 0.0\n",
      "\n"
     ]
    }
   ],
   "source": [
    "for i, col in enumerate(trump_complete_ratings.columns):\n",
    "    print(f\"{col}:\")\n",
    "    print(f\"\\tstatistic = {ttest_model.statistic[i]}, pvalue = {ttest_model.pvalue[i]}\", end=\"\\n\\n\")"
   ]
  },
  {
   "cell_type": "markdown",
   "metadata": {},
   "source": [
    "* It appears that Trump's supporters score a significantly larger average rating from all rating sources"
   ]
  },
  {
   "cell_type": "markdown",
   "metadata": {},
   "source": [
    "* That is, for confidence of 95%, because $p < 0.05, \\; \\forall \\; p \\in \\text{Pvalues}$"
   ]
  },
  {
   "cell_type": "markdown",
   "metadata": {},
   "source": [
    "* It that the end of the story, though?"
   ]
  },
  {
   "cell_type": "markdown",
   "metadata": {},
   "source": [
    "* A difference in the averages, even if statistically significant, doesn't necessarily mean that it has a large $\\it{effect}$"
   ]
  },
  {
   "cell_type": "markdown",
   "metadata": {},
   "source": [
    "* That means that one average might be larger with statistical significance, but still be relatively close to the average of the second sample"
   ]
  },
  {
   "cell_type": "markdown",
   "metadata": {},
   "source": [
    "* The difference between the averages of the samples can be denoted by how many standard deviations they differ from each other"
   ]
  },
  {
   "cell_type": "markdown",
   "metadata": {},
   "source": [
    "* We will be using two metrics to calculate said difference. Cohen's $d$ and Hedge's $g$"
   ]
  },
  {
   "cell_type": "markdown",
   "metadata": {},
   "source": [
    "* To calculate them, we will be using the `pingouin` library, as it provides implementations for both metrics "
   ]
  },
  {
   "cell_type": "code",
   "execution_count": 213,
   "metadata": {},
   "outputs": [
    {
     "name": "stdout",
     "output_type": "stream",
     "text": [
      "lowqual_pr2019_fc:\n",
      "\td = 2.5211880897898826, g = 2.5209766457634544\n",
      "\n",
      "lowqual_afm:\n",
      "\td = 2.1648782742307926, g = 2.1646977824757223\n",
      "\n",
      "lowqual_mbfc:\n",
      "\td = 2.057540220941037, g = 2.057368697316872\n",
      "\n",
      "lowqual_lasser2019:\n",
      "\td = 2.1638306472835787, g = 2.1636502629241754\n",
      "\n",
      "lowqual_pr2019_crowd:\n",
      "\td = 2.166782479409766, g = 2.16660075825469\n",
      "\n",
      "lowqual_pr2019_crowdrep:\n",
      "\td = 1.291464380823202, g = 1.2913560698130968\n",
      "\n"
     ]
    }
   ],
   "source": [
    "import pingouin as pg\n",
    "\n",
    "for col in trump_complete_ratings.columns:\n",
    "    trump_ratings = trump_complete_ratings[col]\n",
    "    biden_ratings = biden_complete_ratings[col]\n",
    "    d = pg.compute_effsize(trump_ratings, biden_ratings, paired=False, eftype=\"cohen\")\n",
    "    g = pg.compute_effsize(trump_ratings, biden_ratings, paired=False, eftype=\"hedges\")\n",
    "    print(f\"{col}:\")\n",
    "    print(f\"\\td = {d}, g = {g}\", end=\"\\n\\n\")"
   ]
  },
  {
   "cell_type": "markdown",
   "metadata": {},
   "source": [
    "* It looks like Trump's averages are not only significantly larger, but the difference also has an effect"
   ]
  },
  {
   "cell_type": "markdown",
   "metadata": {},
   "source": [
    "* For `lowqual_pr2019_fc`, `lowqual_afm`, `lowqual_mbfc`, `lowqual_lasser2019` and `lowqual_pr2019_crowd`, which in turn denote the site ratings given by: fact-checker, Ad Fontes media, Media Bias/Fact Check, Laser et al. and USA citizens (971), the effect (std difference of averages) is huge"
   ]
  },
  {
   "cell_type": "markdown",
   "metadata": {},
   "source": [
    "* The column `lowqual_pr2019_crowdrep` holds the site ratings, rated by the republican participants of the above USA citizens. "
   ]
  },
  {
   "cell_type": "markdown",
   "metadata": {},
   "source": [
    "* Cohen's $d$ is still very large (1.29) and so has a great effect, but the sudden decrease, might indicate a bias from the Trump supporters"
   ]
  },
  {
   "cell_type": "markdown",
   "metadata": {},
   "source": [
    "* A way to interpret it, is that the republicans give a better rating (meaning a lower score) to the sites that they themselves often use, so a lower difference to the averages is seen"
   ]
  },
  {
   "cell_type": "markdown",
   "metadata": {},
   "source": [
    "* If the above hypothesis were true, it is normal to expect the average rating of Trump supporters, be closer to the average rating of Biden's, that gets us a smaller $d$"
   ]
  },
  {
   "cell_type": "markdown",
   "metadata": {},
   "source": [
    "* The quantitative way to interpret $d$, is that Trump's average rating is 1.29 standard deviations larger than Biden's (or 2.52 for the 8 fact checkers)"
   ]
  },
  {
   "cell_type": "markdown",
   "metadata": {},
   "source": [
    "* Hedge's $g$ appears almost identical to $d$ in all cases, probably because both of the samples have a sufficient size"
   ]
  },
  {
   "cell_type": "markdown",
   "metadata": {},
   "source": [
    "## Correlation"
   ]
  },
  {
   "cell_type": "markdown",
   "metadata": {},
   "source": [
    "* To this point, we have analyzed the difference between the two supporter parties, as well as the effect of said difference "
   ]
  },
  {
   "cell_type": "markdown",
   "metadata": {},
   "source": [
    "* Continuing, it would be useful to check whether lower-quality news sources and political view, are correlated with each other (using our dataset as the basis) "
   ]
  },
  {
   "cell_type": "markdown",
   "metadata": {},
   "source": [
    "* Lets retrieve any information that would be relevant for the next steps of the analysis"
   ]
  },
  {
   "cell_type": "markdown",
   "metadata": {},
   "source": [
    "* First, any attributes that reference the political affiliation of an account"
   ]
  },
  {
   "cell_type": "code",
   "execution_count": 214,
   "metadata": {},
   "outputs": [
    {
     "data": {
      "text/html": [
       "<div>\n",
       "<style scoped>\n",
       "    .dataframe tbody tr th:only-of-type {\n",
       "        vertical-align: middle;\n",
       "    }\n",
       "\n",
       "    .dataframe tbody tr th {\n",
       "        vertical-align: top;\n",
       "    }\n",
       "\n",
       "    .dataframe thead th {\n",
       "        text-align: right;\n",
       "    }\n",
       "</style>\n",
       "<table border=\"1\" class=\"dataframe\">\n",
       "  <thead>\n",
       "    <tr style=\"text-align: right;\">\n",
       "      <th></th>\n",
       "      <th>politics_followed</th>\n",
       "      <th>politics_hashtag</th>\n",
       "      <th>politics_sites1</th>\n",
       "      <th>politics_sites2</th>\n",
       "    </tr>\n",
       "  </thead>\n",
       "  <tbody>\n",
       "    <tr>\n",
       "      <th>0</th>\n",
       "      <td>-0.080295</td>\n",
       "      <td>0</td>\n",
       "      <td>-1.168745</td>\n",
       "      <td>-0.231902</td>\n",
       "    </tr>\n",
       "    <tr>\n",
       "      <th>1</th>\n",
       "      <td>2.296375</td>\n",
       "      <td>1</td>\n",
       "      <td>1.060905</td>\n",
       "      <td>0.405261</td>\n",
       "    </tr>\n",
       "    <tr>\n",
       "      <th>2</th>\n",
       "      <td>-2.312730</td>\n",
       "      <td>0</td>\n",
       "      <td>-0.500076</td>\n",
       "      <td>-0.171067</td>\n",
       "    </tr>\n",
       "    <tr>\n",
       "      <th>3</th>\n",
       "      <td>-1.507481</td>\n",
       "      <td>0</td>\n",
       "      <td>-0.748035</td>\n",
       "      <td>-0.085814</td>\n",
       "    </tr>\n",
       "    <tr>\n",
       "      <th>4</th>\n",
       "      <td>2.010573</td>\n",
       "      <td>1</td>\n",
       "      <td>1.347730</td>\n",
       "      <td>0.595367</td>\n",
       "    </tr>\n",
       "  </tbody>\n",
       "</table>\n",
       "</div>"
      ],
      "text/plain": [
       "   politics_followed  politics_hashtag  politics_sites1  politics_sites2\n",
       "0          -0.080295                 0        -1.168745        -0.231902\n",
       "1           2.296375                 1         1.060905         0.405261\n",
       "2          -2.312730                 0        -0.500076        -0.171067\n",
       "3          -1.507481                 0        -0.748035        -0.085814\n",
       "4           2.010573                 1         1.347730         0.595367"
      ]
     },
     "execution_count": 214,
     "metadata": {},
     "output_type": "execute_result"
    }
   ],
   "source": [
    "politics = accounts[[\"politics_followed\", \"politics_hashtag\", \"politics_sites1\", \"politics_sites2\"]]\n",
    "politics.head()"
   ]
  },
  {
   "cell_type": "markdown",
   "metadata": {},
   "source": [
    "* And, of course, the news qualities measures"
   ]
  },
  {
   "cell_type": "code",
   "execution_count": 215,
   "metadata": {},
   "outputs": [
    {
     "data": {
      "text/html": [
       "<div>\n",
       "<style scoped>\n",
       "    .dataframe tbody tr th:only-of-type {\n",
       "        vertical-align: middle;\n",
       "    }\n",
       "\n",
       "    .dataframe tbody tr th {\n",
       "        vertical-align: top;\n",
       "    }\n",
       "\n",
       "    .dataframe thead th {\n",
       "        text-align: right;\n",
       "    }\n",
       "</style>\n",
       "<table border=\"1\" class=\"dataframe\">\n",
       "  <thead>\n",
       "    <tr style=\"text-align: right;\">\n",
       "      <th></th>\n",
       "      <th>lowqual_pr2019_fc</th>\n",
       "      <th>lowqual_afm</th>\n",
       "      <th>lowqual_mbfc</th>\n",
       "      <th>lowqual_lasser2019</th>\n",
       "      <th>lowqual_pr2019_crowd</th>\n",
       "      <th>lowqual_pr2019_crowdrep</th>\n",
       "    </tr>\n",
       "  </thead>\n",
       "  <tbody>\n",
       "    <tr>\n",
       "      <th>0</th>\n",
       "      <td>0.279221</td>\n",
       "      <td>0.185315</td>\n",
       "      <td>0.292807</td>\n",
       "      <td>0.350000</td>\n",
       "      <td>0.598883</td>\n",
       "      <td>0.700800</td>\n",
       "    </tr>\n",
       "    <tr>\n",
       "      <th>1</th>\n",
       "      <td>0.848639</td>\n",
       "      <td>0.614156</td>\n",
       "      <td>0.513147</td>\n",
       "      <td>0.975087</td>\n",
       "      <td>0.774873</td>\n",
       "      <td>0.755118</td>\n",
       "    </tr>\n",
       "    <tr>\n",
       "      <th>2</th>\n",
       "      <td>0.242347</td>\n",
       "      <td>0.130950</td>\n",
       "      <td>0.242445</td>\n",
       "      <td>0.300000</td>\n",
       "      <td>0.548727</td>\n",
       "      <td>0.658118</td>\n",
       "    </tr>\n",
       "    <tr>\n",
       "      <th>3</th>\n",
       "      <td>0.360119</td>\n",
       "      <td>0.180055</td>\n",
       "      <td>0.277793</td>\n",
       "      <td>0.316038</td>\n",
       "      <td>0.611501</td>\n",
       "      <td>0.699165</td>\n",
       "    </tr>\n",
       "    <tr>\n",
       "      <th>4</th>\n",
       "      <td>0.698661</td>\n",
       "      <td>0.430655</td>\n",
       "      <td>0.554609</td>\n",
       "      <td>0.763889</td>\n",
       "      <td>0.700217</td>\n",
       "      <td>0.725429</td>\n",
       "    </tr>\n",
       "  </tbody>\n",
       "</table>\n",
       "</div>"
      ],
      "text/plain": [
       "   lowqual_pr2019_fc  lowqual_afm  lowqual_mbfc  lowqual_lasser2019  \\\n",
       "0           0.279221     0.185315      0.292807            0.350000   \n",
       "1           0.848639     0.614156      0.513147            0.975087   \n",
       "2           0.242347     0.130950      0.242445            0.300000   \n",
       "3           0.360119     0.180055      0.277793            0.316038   \n",
       "4           0.698661     0.430655      0.554609            0.763889   \n",
       "\n",
       "   lowqual_pr2019_crowd  lowqual_pr2019_crowdrep  \n",
       "0              0.598883                 0.700800  \n",
       "1              0.774873                 0.755118  \n",
       "2              0.548727                 0.658118  \n",
       "3              0.611501                 0.699165  \n",
       "4              0.700217                 0.725429  "
      ]
     },
     "execution_count": 215,
     "metadata": {},
     "output_type": "execute_result"
    }
   ],
   "source": [
    "complete_ratings_no_hashtag = complete_ratings.drop(\"politics_hashtag\", axis = 1)\n",
    "complete_ratings_no_hashtag.head()"
   ]
  },
  {
   "cell_type": "markdown",
   "metadata": {},
   "source": [
    "* Before we continue, lets put a picture on our data, to maybe pick out a pattern or two "
   ]
  },
  {
   "cell_type": "code",
   "execution_count": 216,
   "metadata": {},
   "outputs": [
    {
     "data": {
      "image/png": "[encoded data removed]",
      "text/plain": [
       "<Figure size 2000x1000 with 24 Axes>"
      ]
     },
     "metadata": {},
     "output_type": "display_data"
    }
   ],
   "source": [
    "fig, axes = plt.subplots(nrows=4, ncols=6, figsize=(20,10))\n",
    "\n",
    "for row_index, row_label in enumerate(politics.columns):\n",
    "    y = politics[row_label]\n",
    "    for col_index, col_label in enumerate(complete_ratings_no_hashtag.columns):\n",
    "        x = complete_ratings_no_hashtag[col_label]\n",
    "\n",
    "        # get current axes\n",
    "        ax = axes[row_index, col_index]\n",
    "\n",
    "        # plot\n",
    "        pd.concat([x, y], axis=1) \\\n",
    "            .plot.scatter(\n",
    "                x=col_label,\n",
    "                y=row_label,\n",
    "                ax=ax, # draw on the current axes\n",
    "                xlabel=\"\",\n",
    "                ylabel=\"\"\n",
    "            )\n",
    "\n",
    "        # set axes labels only on grid plots\n",
    "        if col_index == 0:\n",
    "            ax.set_ylabel(row_label)\n",
    "        if row_index == 3:\n",
    "            ax.set_xlabel(col_label)\n",
    "\n",
    "plt.show()"
   ]
  },
  {
   "cell_type": "markdown",
   "metadata": {},
   "source": [
    "* At a first view, it would appear that some combinations are unrelated to each other"
   ]
  },
  {
   "cell_type": "markdown",
   "metadata": {},
   "source": [
    "* We can pick out a kind of positive relationship between \n",
    "    * `lowqual_pr2019_fc`,\n",
    "    * `lowqual_afm`,\n",
    "    * `lowqual_lasser2019`\n",
    "    * `lowqual_pr2019_crowd`"
   ]
  },
  {
   "cell_type": "markdown",
   "metadata": {},
   "source": [
    "* And `politics_sites1` and `politics_sites2`"
   ]
  },
  {
   "cell_type": "markdown",
   "metadata": {},
   "source": [
    "* But still, we can't reach to a solid conclusion by just looking at the graphical representations"
   ]
  },
  {
   "cell_type": "markdown",
   "metadata": {},
   "source": [
    "* We will use Pearson's correlation coefficient, $r$"
   ]
  },
  {
   "cell_type": "markdown",
   "metadata": {},
   "source": [
    "* We can be confident with our choice of correlation method, as it appears most of our data follow a linear relationship"
   ]
  },
  {
   "cell_type": "markdown",
   "metadata": {},
   "source": [
    "* If we suspected that that was not the case, we would also test Spearman's $r$"
   ]
  },
  {
   "cell_type": "markdown",
   "metadata": {},
   "source": [
    "* Lets create the structure of the data we want to check"
   ]
  },
  {
   "cell_type": "code",
   "execution_count": 217,
   "metadata": {},
   "outputs": [
    {
     "data": {
      "text/html": [
       "<div>\n",
       "<style scoped>\n",
       "    .dataframe tbody tr th:only-of-type {\n",
       "        vertical-align: middle;\n",
       "    }\n",
       "\n",
       "    .dataframe tbody tr th {\n",
       "        vertical-align: top;\n",
       "    }\n",
       "\n",
       "    .dataframe thead th {\n",
       "        text-align: right;\n",
       "    }\n",
       "</style>\n",
       "<table border=\"1\" class=\"dataframe\">\n",
       "  <thead>\n",
       "    <tr style=\"text-align: right;\">\n",
       "      <th></th>\n",
       "      <th>politics_followed</th>\n",
       "      <th>politics_hashtag</th>\n",
       "      <th>politics_sites1</th>\n",
       "      <th>politics_sites2</th>\n",
       "    </tr>\n",
       "  </thead>\n",
       "  <tbody>\n",
       "    <tr>\n",
       "      <th>lowqual_pr2019_fc</th>\n",
       "      <td>0.809501</td>\n",
       "      <td>0.783463</td>\n",
       "      <td>0.876237</td>\n",
       "      <td>0.854197</td>\n",
       "    </tr>\n",
       "    <tr>\n",
       "      <th>lowqual_afm</th>\n",
       "      <td>0.768887</td>\n",
       "      <td>0.734562</td>\n",
       "      <td>0.845285</td>\n",
       "      <td>0.833632</td>\n",
       "    </tr>\n",
       "    <tr>\n",
       "      <th>lowqual_mbfc</th>\n",
       "      <td>0.748146</td>\n",
       "      <td>0.717101</td>\n",
       "      <td>0.774779</td>\n",
       "      <td>0.774266</td>\n",
       "    </tr>\n",
       "    <tr>\n",
       "      <th>lowqual_lasser2019</th>\n",
       "      <td>0.777250</td>\n",
       "      <td>0.734398</td>\n",
       "      <td>0.835576</td>\n",
       "      <td>0.851794</td>\n",
       "    </tr>\n",
       "    <tr>\n",
       "      <th>lowqual_pr2019_crowd</th>\n",
       "      <td>0.754001</td>\n",
       "      <td>0.734856</td>\n",
       "      <td>0.811904</td>\n",
       "      <td>0.784861</td>\n",
       "    </tr>\n",
       "    <tr>\n",
       "      <th>lowqual_pr2019_crowdrep</th>\n",
       "      <td>0.540993</td>\n",
       "      <td>0.542505</td>\n",
       "      <td>0.576336</td>\n",
       "      <td>0.552613</td>\n",
       "    </tr>\n",
       "  </tbody>\n",
       "</table>\n",
       "</div>"
      ],
      "text/plain": [
       "                         politics_followed  politics_hashtag  politics_sites1  \\\n",
       "lowqual_pr2019_fc                 0.809501          0.783463         0.876237   \n",
       "lowqual_afm                       0.768887          0.734562         0.845285   \n",
       "lowqual_mbfc                      0.748146          0.717101         0.774779   \n",
       "lowqual_lasser2019                0.777250          0.734398         0.835576   \n",
       "lowqual_pr2019_crowd              0.754001          0.734856         0.811904   \n",
       "lowqual_pr2019_crowdrep           0.540993          0.542505         0.576336   \n",
       "\n",
       "                         politics_sites2  \n",
       "lowqual_pr2019_fc               0.854197  \n",
       "lowqual_afm                     0.833632  \n",
       "lowqual_mbfc                    0.774266  \n",
       "lowqual_lasser2019              0.851794  \n",
       "lowqual_pr2019_crowd            0.784861  \n",
       "lowqual_pr2019_crowdrep         0.552613  "
      ]
     },
     "execution_count": 217,
     "metadata": {},
     "output_type": "execute_result"
    }
   ],
   "source": [
    "correlation_matrix = pd.concat([politics, complete_ratings_no_hashtag], axis=1) \\\n",
    "    .corr(method = \"pearson\") \\\n",
    "    .drop([\"lowqual_pr2019_fc\", \"lowqual_afm\", \"lowqual_mbfc\",  # remove unneeded columns\n",
    "        \"lowqual_lasser2019\", \"lowqual_pr2019_crowd\", \"lowqual_pr2019_crowdrep\"], axis = 1) \\\n",
    "    .drop([\"politics_followed\",\"politics_hashtag\",\"politics_sites1\",\"politics_sites2\"], axis = 0) # remove unneeded columns\n",
    "correlation_matrix"
   ]
  },
  {
   "cell_type": "markdown",
   "metadata": {},
   "source": [
    "* Lets also display it with more colors"
   ]
  },
  {
   "cell_type": "code",
   "execution_count": 218,
   "metadata": {},
   "outputs": [
    {
     "data": {
      "image/png": "[encoded data removed]",
      "text/plain": [
       "<Figure size 640x480 with 2 Axes>"
      ]
     },
     "metadata": {},
     "output_type": "display_data"
    }
   ],
   "source": [
    "sns.heatmap(correlation_matrix, annot = True, cmap = \"crest\", linewidths = 0.1)\n",
    "_ = plt.xticks(rotation = 30) # rotate x labels"
   ]
  },
  {
   "cell_type": "markdown",
   "metadata": {},
   "source": [
    "* Pearson's $r$ agrees with out initial thought, as it appears the positive relationships are largest in the combinations we suspected"
   ]
  },
  {
   "cell_type": "markdown",
   "metadata": {},
   "source": [
    "* The method also revealed various other relationships that perhaps we would have missed if we just sticked to the diagrams"
   ]
  },
  {
   "cell_type": "markdown",
   "metadata": {},
   "source": [
    "* Using the basis of the above methods of correlation, we can say with confidence that lower-quality news sharing is positively related with conservative ideology (as we have many $r$ > 0.7)"
   ]
  },
  {
   "cell_type": "markdown",
   "metadata": {},
   "source": [
    "* Most of the rating sources, once again, have not many differences with each other on the same variables"
   ]
  },
  {
   "cell_type": "markdown",
   "metadata": {},
   "source": [
    "* More specifically, if we ignore the last row:\n",
    "    * `politics_followed` $r$ $\\in$ [0.75, 0.81]\n",
    "    * `politics_hashtag` $r$ $\\in$ [0.73, 0.78]\n",
    "    * `politics_sites1` $r$ $\\in$ [0.77, 0.88]\n",
    "    * `politics_sites2` $r$ $\\in$ [0.77, 0.85]"
   ]
  },
  {
   "cell_type": "markdown",
   "metadata": {},
   "source": [
    "* But again, the site ratings coming from opinions of republicans, appear way less related to conservative ideology"
   ]
  },
  {
   "cell_type": "markdown",
   "metadata": {},
   "source": [
    "* That means that if we used said group's opinion as a basis, we would reach the conclusion that being 'more' conservative has less of an effect to the sharing of lower-quality news sources (but still exists has a positive effect as all $r$ > 0)"
   ]
  },
  {
   "cell_type": "markdown",
   "metadata": {},
   "source": [
    "## Forecasting"
   ]
  },
  {
   "cell_type": "markdown",
   "metadata": {},
   "source": [
    "### Single Predictors"
   ]
  },
  {
   "cell_type": "markdown",
   "metadata": {},
   "source": [
    "* Thus far, we have only been interested in descriptive measures "
   ]
  },
  {
   "cell_type": "markdown",
   "metadata": {},
   "source": [
    "* We are now ready to take it up a notch, by moving to predictive statistics"
   ]
  },
  {
   "cell_type": "markdown",
   "metadata": {},
   "source": [
    "* What we will aim for, is to see if we can predict wether an account will get suspended "
   ]
  },
  {
   "cell_type": "markdown",
   "metadata": {},
   "source": [
    "* To do that, we will use as information its political orientation, as well as its various ratings based on the sources we have already talked about"
   ]
  },
  {
   "cell_type": "markdown",
   "metadata": {},
   "source": [
    "* Lets retrieve the above predictors"
   ]
  },
  {
   "cell_type": "code",
   "execution_count": 219,
   "metadata": {},
   "outputs": [
    {
     "data": {
      "text/html": [
       "<div>\n",
       "<style scoped>\n",
       "    .dataframe tbody tr th:only-of-type {\n",
       "        vertical-align: middle;\n",
       "    }\n",
       "\n",
       "    .dataframe tbody tr th {\n",
       "        vertical-align: top;\n",
       "    }\n",
       "\n",
       "    .dataframe thead th {\n",
       "        text-align: right;\n",
       "    }\n",
       "</style>\n",
       "<table border=\"1\" class=\"dataframe\">\n",
       "  <thead>\n",
       "    <tr style=\"text-align: right;\">\n",
       "      <th></th>\n",
       "      <th>politics_followed</th>\n",
       "      <th>politics_hashtag</th>\n",
       "      <th>politics_sites1</th>\n",
       "      <th>politics_sites2</th>\n",
       "      <th>lowqual_pr2019_fc</th>\n",
       "      <th>lowqual_afm</th>\n",
       "      <th>lowqual_mbfc</th>\n",
       "      <th>lowqual_lasser2019</th>\n",
       "      <th>lowqual_pr2019_crowd</th>\n",
       "    </tr>\n",
       "  </thead>\n",
       "  <tbody>\n",
       "    <tr>\n",
       "      <th>0</th>\n",
       "      <td>-0.080295</td>\n",
       "      <td>0</td>\n",
       "      <td>-1.168745</td>\n",
       "      <td>-0.231902</td>\n",
       "      <td>0.279221</td>\n",
       "      <td>0.185315</td>\n",
       "      <td>0.292807</td>\n",
       "      <td>0.350000</td>\n",
       "      <td>0.598883</td>\n",
       "    </tr>\n",
       "    <tr>\n",
       "      <th>1</th>\n",
       "      <td>2.296375</td>\n",
       "      <td>1</td>\n",
       "      <td>1.060905</td>\n",
       "      <td>0.405261</td>\n",
       "      <td>0.848639</td>\n",
       "      <td>0.614156</td>\n",
       "      <td>0.513147</td>\n",
       "      <td>0.975087</td>\n",
       "      <td>0.774873</td>\n",
       "    </tr>\n",
       "    <tr>\n",
       "      <th>2</th>\n",
       "      <td>-2.312730</td>\n",
       "      <td>0</td>\n",
       "      <td>-0.500076</td>\n",
       "      <td>-0.171067</td>\n",
       "      <td>0.242347</td>\n",
       "      <td>0.130950</td>\n",
       "      <td>0.242445</td>\n",
       "      <td>0.300000</td>\n",
       "      <td>0.548727</td>\n",
       "    </tr>\n",
       "    <tr>\n",
       "      <th>3</th>\n",
       "      <td>-1.507481</td>\n",
       "      <td>0</td>\n",
       "      <td>-0.748035</td>\n",
       "      <td>-0.085814</td>\n",
       "      <td>0.360119</td>\n",
       "      <td>0.180055</td>\n",
       "      <td>0.277793</td>\n",
       "      <td>0.316038</td>\n",
       "      <td>0.611501</td>\n",
       "    </tr>\n",
       "    <tr>\n",
       "      <th>4</th>\n",
       "      <td>2.010573</td>\n",
       "      <td>1</td>\n",
       "      <td>1.347730</td>\n",
       "      <td>0.595367</td>\n",
       "      <td>0.698661</td>\n",
       "      <td>0.430655</td>\n",
       "      <td>0.554609</td>\n",
       "      <td>0.763889</td>\n",
       "      <td>0.700217</td>\n",
       "    </tr>\n",
       "  </tbody>\n",
       "</table>\n",
       "</div>"
      ],
      "text/plain": [
       "   politics_followed  politics_hashtag  politics_sites1  politics_sites2  \\\n",
       "0          -0.080295                 0        -1.168745        -0.231902   \n",
       "1           2.296375                 1         1.060905         0.405261   \n",
       "2          -2.312730                 0        -0.500076        -0.171067   \n",
       "3          -1.507481                 0        -0.748035        -0.085814   \n",
       "4           2.010573                 1         1.347730         0.595367   \n",
       "\n",
       "   lowqual_pr2019_fc  lowqual_afm  lowqual_mbfc  lowqual_lasser2019  \\\n",
       "0           0.279221     0.185315      0.292807            0.350000   \n",
       "1           0.848639     0.614156      0.513147            0.975087   \n",
       "2           0.242347     0.130950      0.242445            0.300000   \n",
       "3           0.360119     0.180055      0.277793            0.316038   \n",
       "4           0.698661     0.430655      0.554609            0.763889   \n",
       "\n",
       "   lowqual_pr2019_crowd  \n",
       "0              0.598883  \n",
       "1              0.774873  \n",
       "2              0.548727  \n",
       "3              0.611501  \n",
       "4              0.700217  "
      ]
     },
     "execution_count": 219,
     "metadata": {},
     "output_type": "execute_result"
    }
   ],
   "source": [
    "predictors = pd.concat([\n",
    "        politics,\n",
    "        complete_ratings_no_hashtag.drop([\"lowqual_pr2019_crowdrep\"],axis = 1).dropna()\n",
    "    ], axis = 1\n",
    ")\n",
    "predictors.head()"
   ]
  },
  {
   "cell_type": "markdown",
   "metadata": {},
   "source": [
    "* To execute the predictions, we will use a $Probit$ regression model"
   ]
  },
  {
   "cell_type": "markdown",
   "metadata": {},
   "source": [
    "* For practical reasons, the reader can think of the model as a variation of logistic regression (called logit)"
   ]
  },
  {
   "cell_type": "markdown",
   "metadata": {},
   "source": [
    "* The difference of probit, when compared with logit, is its use of the inverse of the [cumulative distribution function](https://en.wikipedia.org/wiki/Cumulative_distribution_function) as the link function"
   ]
  },
  {
   "cell_type": "markdown",
   "metadata": {},
   "source": [
    "* For a more detailed explanation, the reader is advised to check [probit model](https://en.wikipedia.org/wiki/Probit_model)"
   ]
  },
  {
   "cell_type": "markdown",
   "metadata": {},
   "source": [
    "* We will start our forecasting by trying to predict a suspension, based on a $single$ predictor"
   ]
  },
  {
   "cell_type": "markdown",
   "metadata": {},
   "source": [
    "* But we will need to answer the following question: how can we evaluate between different predictors, to know which one to pick?"
   ]
  },
  {
   "cell_type": "markdown",
   "metadata": {},
   "source": [
    "* Various evaluation methods exist, but we will stick to the AUC of the ROC as our evaluation criteria"
   ]
  },
  {
   "cell_type": "markdown",
   "metadata": {},
   "source": [
    "* The ROC curve of a prediction model, is the line that gets formed when the independent variable is the False Positive Rate, and the dependant, the True Positive Rate"
   ]
  },
  {
   "cell_type": "markdown",
   "metadata": {},
   "source": [
    "* The AUC, is simply the area covered under the ROC"
   ]
  },
  {
   "cell_type": "markdown",
   "metadata": {},
   "source": [
    "* A model with a good prediction history, will have a larger AUC score"
   ]
  },
  {
   "cell_type": "markdown",
   "metadata": {},
   "source": [
    "* The maximum score is equal to 1"
   ]
  },
  {
   "cell_type": "markdown",
   "metadata": {},
   "source": [
    "* To test our models, we will get them to predict a suspension (Y), using the same values (X) that we used for fitting"
   ]
  },
  {
   "cell_type": "markdown",
   "metadata": {},
   "source": [
    "* Lets check the AUC of our different predictors"
   ]
  },
  {
   "cell_type": "code",
   "execution_count": 220,
   "metadata": {},
   "outputs": [
    {
     "name": "stdout",
     "output_type": "stream",
     "text": [
      "pvalues:\n",
      "\tpredictor | intercept | exog variable\n",
      "\tpolitics_followed \t0.0 \t5.242903230689675e-90 \n",
      "\tpolitics_hashtag \t0.0 \t2.7998648842714855e-103 \n",
      "\tpolitics_sites1 \t0.0 \t2.741576426106363e-106 \n",
      "\tpolitics_sites2 \t0.0 \t9.149510025755729e-110 \n",
      "\tlowqual_pr2019_fc \t0.0 \t1.3102236384111418e-102 \n",
      "\tlowqual_afm \t0.0 \t2.7022260242768716e-113 \n",
      "\tlowqual_mbfc \t8.68195553842913e-272 \t4.0891551782673717e-101 \n",
      "\tlowqual_lasser2019 \t0.0 \t3.344296580411762e-107 \n",
      "\tlowqual_pr2019_crowd \t2.9853477156816417e-153 \t4.9905920241336375e-89 \n"
     ]
    }
   ],
   "source": [
    "from statsmodels.discrete.discrete_model import Probit\n",
    "from statsmodels.tools import add_constant\n",
    "from sklearn.metrics import roc_auc_score\n",
    "\n",
    "auc_results = dict()\n",
    "\n",
    "print(\"pvalues:\\n\\tpredictor | intercept | exog variable\")\n",
    "for predictor in predictors.columns:\n",
    "    # create temp dataframe to completely remove nans\n",
    "    temp = pd.concat([accounts[\"suspended\"], predictors[predictor]], axis = 1).dropna()\n",
    "\n",
    "    # fit regression model on full dataset\n",
    "    probit_model = Probit(temp[\"suspended\"], add_constant(temp[predictor])).fit(disp = False) # silence verbose\n",
    "\n",
    "    print(f\"\\t{predictor}\", end=\" \")\n",
    "    for pvalue in probit_model.pvalues:\n",
    "        print(f\"\\t{pvalue}\", end=\" \")\n",
    "    print()\n",
    "\n",
    "    # save evaluation results of model predictions\n",
    "    auc_results[predictor] = roc_auc_score(y_true = temp[\"suspended\"], y_score = probit_model.predict())\n",
    "\n",
    "auc_results = pd.DataFrame(\n",
    "    auc_results.items(),\n",
    "    columns = [\"predictor\", \"auc\"]\n",
    ")"
   ]
  },
  {
   "cell_type": "markdown",
   "metadata": {},
   "source": [
    "* By taking a peak at the pvalues of the coefficients of the different predictors (as well as the respective intercept in each model), we can say with confidence that they are all significant (< 0.05)"
   ]
  },
  {
   "cell_type": "markdown",
   "metadata": {},
   "source": [
    "* That is, when they are used alone in a model"
   ]
  },
  {
   "cell_type": "markdown",
   "metadata": {},
   "source": [
    "* That tells us that each model is a good representative of the population, but doesn't say much for the actual quality of the models"
   ]
  },
  {
   "cell_type": "markdown",
   "metadata": {},
   "source": [
    "* We need to derive that from the AUC scores"
   ]
  },
  {
   "cell_type": "code",
   "execution_count": 221,
   "metadata": {},
   "outputs": [
    {
     "data": {
      "text/html": [
       "<div>\n",
       "<style scoped>\n",
       "    .dataframe tbody tr th:only-of-type {\n",
       "        vertical-align: middle;\n",
       "    }\n",
       "\n",
       "    .dataframe tbody tr th {\n",
       "        vertical-align: top;\n",
       "    }\n",
       "\n",
       "    .dataframe thead th {\n",
       "        text-align: right;\n",
       "    }\n",
       "</style>\n",
       "<table border=\"1\" class=\"dataframe\">\n",
       "  <thead>\n",
       "    <tr style=\"text-align: right;\">\n",
       "      <th></th>\n",
       "      <th>predictor</th>\n",
       "      <th>auc</th>\n",
       "    </tr>\n",
       "  </thead>\n",
       "  <tbody>\n",
       "    <tr>\n",
       "      <th>0</th>\n",
       "      <td>politics_followed</td>\n",
       "      <td>0.715641</td>\n",
       "    </tr>\n",
       "    <tr>\n",
       "      <th>1</th>\n",
       "      <td>politics_hashtag</td>\n",
       "      <td>0.678796</td>\n",
       "    </tr>\n",
       "    <tr>\n",
       "      <th>2</th>\n",
       "      <td>politics_sites1</td>\n",
       "      <td>0.700531</td>\n",
       "    </tr>\n",
       "    <tr>\n",
       "      <th>3</th>\n",
       "      <td>politics_sites2</td>\n",
       "      <td>0.704819</td>\n",
       "    </tr>\n",
       "    <tr>\n",
       "      <th>4</th>\n",
       "      <td>lowqual_pr2019_fc</td>\n",
       "      <td>0.698401</td>\n",
       "    </tr>\n",
       "    <tr>\n",
       "      <th>5</th>\n",
       "      <td>lowqual_afm</td>\n",
       "      <td>0.715227</td>\n",
       "    </tr>\n",
       "    <tr>\n",
       "      <th>6</th>\n",
       "      <td>lowqual_mbfc</td>\n",
       "      <td>0.706449</td>\n",
       "    </tr>\n",
       "    <tr>\n",
       "      <th>7</th>\n",
       "      <td>lowqual_lasser2019</td>\n",
       "      <td>0.704945</td>\n",
       "    </tr>\n",
       "    <tr>\n",
       "      <th>8</th>\n",
       "      <td>lowqual_pr2019_crowd</td>\n",
       "      <td>0.685669</td>\n",
       "    </tr>\n",
       "  </tbody>\n",
       "</table>\n",
       "</div>"
      ],
      "text/plain": [
       "              predictor       auc\n",
       "0     politics_followed  0.715641\n",
       "1      politics_hashtag  0.678796\n",
       "2       politics_sites1  0.700531\n",
       "3       politics_sites2  0.704819\n",
       "4     lowqual_pr2019_fc  0.698401\n",
       "5           lowqual_afm  0.715227\n",
       "6          lowqual_mbfc  0.706449\n",
       "7    lowqual_lasser2019  0.704945\n",
       "8  lowqual_pr2019_crowd  0.685669"
      ]
     },
     "execution_count": 221,
     "metadata": {},
     "output_type": "execute_result"
    }
   ],
   "source": [
    "auc_results"
   ]
  },
  {
   "cell_type": "markdown",
   "metadata": {},
   "source": [
    "* It appears that the models formed using the single predictors, achieve good prediction power"
   ]
  },
  {
   "cell_type": "markdown",
   "metadata": {},
   "source": [
    "* We can reach that conclusion because all AUC $\\in (0.67, 0.72)$ (all scores are close to 1)"
   ]
  },
  {
   "cell_type": "markdown",
   "metadata": {},
   "source": [
    "* But we are also interested in the predictive power of the rating sources, when compared with the political orientations"
   ]
  },
  {
   "cell_type": "markdown",
   "metadata": {},
   "source": [
    "* Lets take the averages to get an estimation"
   ]
  },
  {
   "cell_type": "code",
   "execution_count": 222,
   "metadata": {},
   "outputs": [
    {
     "name": "stdout",
     "output_type": "stream",
     "text": [
      "political orientation = 0.6999470407874572\n",
      "Low-quality news sharing = 0.7021380835311405\n"
     ]
    }
   ],
   "source": [
    "print(f\"political orientation = {auc_results.iloc[:4]['auc'].mean()}\\nLow-quality news sharing = {auc_results.iloc[4:]['auc'].mean()}\")"
   ]
  },
  {
   "cell_type": "markdown",
   "metadata": {},
   "source": [
    "* It's pretty clear that these two predictor categories have almost identical predictive powers "
   ]
  },
  {
   "cell_type": "markdown",
   "metadata": {},
   "source": [
    "* To put it more simply, if we wanted to predict whether an account will get suspended, using $one$ predictor, we can use either their political orientation, or the ratings they received"
   ]
  },
  {
   "cell_type": "markdown",
   "metadata": {},
   "source": [
    "* Next to the AUC scores, it would be also useful to see a confidence interval, for the values they can take"
   ]
  },
  {
   "cell_type": "markdown",
   "metadata": {},
   "source": [
    "* In order to achieve that, we would have to fit every model multiple times, each time with a different training set (because if we fitted using the same training set, we would get the same results)"
   ]
  },
  {
   "cell_type": "markdown",
   "metadata": {},
   "source": [
    "* The training sets we will use, will be different subsets of the starting data set, that are chosen using stochastic sampling with replacement "
   ]
  },
  {
   "cell_type": "markdown",
   "metadata": {},
   "source": [
    "* By fitting each model various times, we will get slightly different models, that we can again evaluate using the AUC  "
   ]
  },
  {
   "cell_type": "markdown",
   "metadata": {},
   "source": [
    "* Using the different AUC scores that were harvested, we can draw a confidence interval to get a better understanding of each model's power"
   ]
  },
  {
   "cell_type": "markdown",
   "metadata": {},
   "source": [
    "* The process we just described, is called $bootstrapping$"
   ]
  },
  {
   "cell_type": "markdown",
   "metadata": {},
   "source": [
    "* Using bootstrapping, lets create confidence intervals for each predictor, by creating 100 different estimators for each one"
   ]
  },
  {
   "cell_type": "code",
   "execution_count": 223,
   "metadata": {},
   "outputs": [
    {
     "data": {
      "text/html": [
       "<div>\n",
       "<style scoped>\n",
       "    .dataframe tbody tr th:only-of-type {\n",
       "        vertical-align: middle;\n",
       "    }\n",
       "\n",
       "    .dataframe tbody tr th {\n",
       "        vertical-align: top;\n",
       "    }\n",
       "\n",
       "    .dataframe thead th {\n",
       "        text-align: right;\n",
       "    }\n",
       "</style>\n",
       "<table border=\"1\" class=\"dataframe\">\n",
       "  <thead>\n",
       "    <tr style=\"text-align: right;\">\n",
       "      <th></th>\n",
       "      <th>predictor</th>\n",
       "      <th>auc</th>\n",
       "      <th>conf_lb</th>\n",
       "      <th>conf_ub</th>\n",
       "    </tr>\n",
       "  </thead>\n",
       "  <tbody>\n",
       "    <tr>\n",
       "      <th>0</th>\n",
       "      <td>politics_followed</td>\n",
       "      <td>0.715641</td>\n",
       "      <td>0.699405</td>\n",
       "      <td>0.736021</td>\n",
       "    </tr>\n",
       "    <tr>\n",
       "      <th>1</th>\n",
       "      <td>politics_hashtag</td>\n",
       "      <td>0.678796</td>\n",
       "      <td>0.669116</td>\n",
       "      <td>0.687378</td>\n",
       "    </tr>\n",
       "    <tr>\n",
       "      <th>2</th>\n",
       "      <td>politics_sites1</td>\n",
       "      <td>0.700531</td>\n",
       "      <td>0.683534</td>\n",
       "      <td>0.715443</td>\n",
       "    </tr>\n",
       "    <tr>\n",
       "      <th>3</th>\n",
       "      <td>politics_sites2</td>\n",
       "      <td>0.704819</td>\n",
       "      <td>0.686749</td>\n",
       "      <td>0.725204</td>\n",
       "    </tr>\n",
       "    <tr>\n",
       "      <th>4</th>\n",
       "      <td>lowqual_pr2019_fc</td>\n",
       "      <td>0.698401</td>\n",
       "      <td>0.684021</td>\n",
       "      <td>0.712205</td>\n",
       "    </tr>\n",
       "    <tr>\n",
       "      <th>5</th>\n",
       "      <td>lowqual_afm</td>\n",
       "      <td>0.715227</td>\n",
       "      <td>0.698179</td>\n",
       "      <td>0.728417</td>\n",
       "    </tr>\n",
       "    <tr>\n",
       "      <th>6</th>\n",
       "      <td>lowqual_mbfc</td>\n",
       "      <td>0.706449</td>\n",
       "      <td>0.692425</td>\n",
       "      <td>0.721432</td>\n",
       "    </tr>\n",
       "    <tr>\n",
       "      <th>7</th>\n",
       "      <td>lowqual_lasser2019</td>\n",
       "      <td>0.704945</td>\n",
       "      <td>0.693080</td>\n",
       "      <td>0.720980</td>\n",
       "    </tr>\n",
       "    <tr>\n",
       "      <th>8</th>\n",
       "      <td>lowqual_pr2019_crowd</td>\n",
       "      <td>0.685669</td>\n",
       "      <td>0.671820</td>\n",
       "      <td>0.702542</td>\n",
       "    </tr>\n",
       "  </tbody>\n",
       "</table>\n",
       "</div>"
      ],
      "text/plain": [
       "              predictor       auc   conf_lb   conf_ub\n",
       "0     politics_followed  0.715641  0.699405  0.736021\n",
       "1      politics_hashtag  0.678796  0.669116  0.687378\n",
       "2       politics_sites1  0.700531  0.683534  0.715443\n",
       "3       politics_sites2  0.704819  0.686749  0.725204\n",
       "4     lowqual_pr2019_fc  0.698401  0.684021  0.712205\n",
       "5           lowqual_afm  0.715227  0.698179  0.728417\n",
       "6          lowqual_mbfc  0.706449  0.692425  0.721432\n",
       "7    lowqual_lasser2019  0.704945  0.693080  0.720980\n",
       "8  lowqual_pr2019_crowd  0.685669  0.671820  0.702542"
      ]
     },
     "execution_count": 223,
     "metadata": {},
     "output_type": "execute_result"
    }
   ],
   "source": [
    "from scipy.stats import bootstrap\n",
    "\n",
    "# return auc score of probit prediction fitted on subset denoted by indices\n",
    "def probit_auc(indices):\n",
    "    temp_model = Probit(temp.loc[indices, \"suspended\"], add_constant(temp.loc[indices, predictor])).fit(disp = False)\n",
    "    return roc_auc_score(y_true = temp.loc[indices, \"suspended\"], y_score = temp_model.predict())\n",
    "\n",
    "n_estimators = 100\n",
    "predictor_results = dict()\n",
    "\n",
    "for predictor in predictors.columns:\n",
    "    # create temp dataframe to completely remove nans\n",
    "    temp = pd.concat([accounts[\"suspended\"], predictors[predictor]], axis = 1).dropna()\n",
    "\n",
    "    # fit regression model on full dataset\n",
    "    probit_model = Probit(temp[\"suspended\"], add_constant(temp[predictor])).fit(disp = False) # silence verbose\n",
    "\n",
    "    # execute 100 estimators on bootstrap pipeline\n",
    "    bootstrap_pipe = bootstrap(\n",
    "        (temp.index,),\n",
    "        probit_auc,\n",
    "        confidence_level = 0.95,\n",
    "        method = 'percentile',\n",
    "        n_resamples = n_estimators\n",
    "    )\n",
    "\n",
    "    # save evaluation of model\n",
    "    predictor_results[predictor] = {\n",
    "        \"auc\": roc_auc_score(y_true = temp[\"suspended\"], y_score = probit_model.predict()),\n",
    "        \"conf\": (bootstrap_pipe.confidence_interval[0], bootstrap_pipe.confidence_interval[1])\n",
    "    }\n",
    "\n",
    "# calculate the range for each conf interval\n",
    "predictors_results = pd.DataFrame(\n",
    "    ((predictor, data[\"auc\"], data[\"conf\"][0], data[\"conf\"][1]) for predictor, data in predictor_results.items()),\n",
    "    columns = [\"predictor\", \"auc\", \"conf_lb\", \"conf_ub\"]\n",
    ")\n",
    "predictors_results"
   ]
  },
  {
   "cell_type": "markdown",
   "metadata": {},
   "source": [
    "* As we can see, we now have lower and upper limits on our evaluations"
   ]
  },
  {
   "cell_type": "markdown",
   "metadata": {},
   "source": [
    "* This gives us much better confidence about the quality of each predictor"
   ]
  },
  {
   "cell_type": "markdown",
   "metadata": {},
   "source": [
    "* Lets paint the above findings so we can get a better look"
   ]
  },
  {
   "cell_type": "markdown",
   "metadata": {},
   "source": [
    "* We should first distribute the predictors into respective classes, so we can differentiate them in the future chart "
   ]
  },
  {
   "cell_type": "code",
   "execution_count": 224,
   "metadata": {},
   "outputs": [
    {
     "data": {
      "text/html": [
       "<div>\n",
       "<style scoped>\n",
       "    .dataframe tbody tr th:only-of-type {\n",
       "        vertical-align: middle;\n",
       "    }\n",
       "\n",
       "    .dataframe tbody tr th {\n",
       "        vertical-align: top;\n",
       "    }\n",
       "\n",
       "    .dataframe thead th {\n",
       "        text-align: right;\n",
       "    }\n",
       "</style>\n",
       "<table border=\"1\" class=\"dataframe\">\n",
       "  <thead>\n",
       "    <tr style=\"text-align: right;\">\n",
       "      <th></th>\n",
       "      <th>predictor</th>\n",
       "      <th>auc</th>\n",
       "      <th>conf_lb</th>\n",
       "      <th>conf_ub</th>\n",
       "      <th>class</th>\n",
       "    </tr>\n",
       "  </thead>\n",
       "  <tbody>\n",
       "    <tr>\n",
       "      <th>0</th>\n",
       "      <td>politics_followed</td>\n",
       "      <td>0.715641</td>\n",
       "      <td>0.699405</td>\n",
       "      <td>0.736021</td>\n",
       "      <td>Political orientation</td>\n",
       "    </tr>\n",
       "    <tr>\n",
       "      <th>1</th>\n",
       "      <td>politics_hashtag</td>\n",
       "      <td>0.678796</td>\n",
       "      <td>0.669116</td>\n",
       "      <td>0.687378</td>\n",
       "      <td>Political orientation</td>\n",
       "    </tr>\n",
       "    <tr>\n",
       "      <th>2</th>\n",
       "      <td>politics_sites1</td>\n",
       "      <td>0.700531</td>\n",
       "      <td>0.683534</td>\n",
       "      <td>0.715443</td>\n",
       "      <td>Political orientation</td>\n",
       "    </tr>\n",
       "    <tr>\n",
       "      <th>3</th>\n",
       "      <td>politics_sites2</td>\n",
       "      <td>0.704819</td>\n",
       "      <td>0.686749</td>\n",
       "      <td>0.725204</td>\n",
       "      <td>Political orientation</td>\n",
       "    </tr>\n",
       "    <tr>\n",
       "      <th>4</th>\n",
       "      <td>lowqual_pr2019_fc</td>\n",
       "      <td>0.698401</td>\n",
       "      <td>0.684021</td>\n",
       "      <td>0.712205</td>\n",
       "      <td>Low-quality news sharing</td>\n",
       "    </tr>\n",
       "    <tr>\n",
       "      <th>5</th>\n",
       "      <td>lowqual_afm</td>\n",
       "      <td>0.715227</td>\n",
       "      <td>0.698179</td>\n",
       "      <td>0.728417</td>\n",
       "      <td>Low-quality news sharing</td>\n",
       "    </tr>\n",
       "    <tr>\n",
       "      <th>6</th>\n",
       "      <td>lowqual_mbfc</td>\n",
       "      <td>0.706449</td>\n",
       "      <td>0.692425</td>\n",
       "      <td>0.721432</td>\n",
       "      <td>Low-quality news sharing</td>\n",
       "    </tr>\n",
       "    <tr>\n",
       "      <th>7</th>\n",
       "      <td>lowqual_lasser2019</td>\n",
       "      <td>0.704945</td>\n",
       "      <td>0.693080</td>\n",
       "      <td>0.720980</td>\n",
       "      <td>Low-quality news sharing</td>\n",
       "    </tr>\n",
       "    <tr>\n",
       "      <th>8</th>\n",
       "      <td>lowqual_pr2019_crowd</td>\n",
       "      <td>0.685669</td>\n",
       "      <td>0.671820</td>\n",
       "      <td>0.702542</td>\n",
       "      <td>Low-quality news sharing</td>\n",
       "    </tr>\n",
       "  </tbody>\n",
       "</table>\n",
       "</div>"
      ],
      "text/plain": [
       "              predictor       auc   conf_lb   conf_ub  \\\n",
       "0     politics_followed  0.715641  0.699405  0.736021   \n",
       "1      politics_hashtag  0.678796  0.669116  0.687378   \n",
       "2       politics_sites1  0.700531  0.683534  0.715443   \n",
       "3       politics_sites2  0.704819  0.686749  0.725204   \n",
       "4     lowqual_pr2019_fc  0.698401  0.684021  0.712205   \n",
       "5           lowqual_afm  0.715227  0.698179  0.728417   \n",
       "6          lowqual_mbfc  0.706449  0.692425  0.721432   \n",
       "7    lowqual_lasser2019  0.704945  0.693080  0.720980   \n",
       "8  lowqual_pr2019_crowd  0.685669  0.671820  0.702542   \n",
       "\n",
       "                      class  \n",
       "0     Political orientation  \n",
       "1     Political orientation  \n",
       "2     Political orientation  \n",
       "3     Political orientation  \n",
       "4  Low-quality news sharing  \n",
       "5  Low-quality news sharing  \n",
       "6  Low-quality news sharing  \n",
       "7  Low-quality news sharing  \n",
       "8  Low-quality news sharing  "
      ]
     },
     "execution_count": 224,
     "metadata": {},
     "output_type": "execute_result"
    }
   ],
   "source": [
    "predictors_results[\"class\"] = \"Low-quality news sharing\"\n",
    "predictors_results.loc[:3, \"class\"] = \"Political orientation\"\n",
    "predictors_results"
   ]
  },
  {
   "cell_type": "markdown",
   "metadata": {},
   "source": [
    "* Also define some basic properties to make the chart look more appealing"
   ]
  },
  {
   "cell_type": "code",
   "execution_count": 225,
   "metadata": {},
   "outputs": [],
   "source": [
    "# set colors based on predictor class\n",
    "colors = {\n",
    "    \"Political orientation\": \"purple\",\n",
    "    \"Low-quality news sharing\": \"green\"\n",
    "}\n",
    "\n",
    "# rename predictors\n",
    "bar_labels = {\n",
    "    \"politics_followed\": \"Accounts\\nfollowed\",\n",
    "    \"politics_hashtag\": \"Hashtag \\nShared\",\n",
    "    \"lowqual_pr2019_crowd\": \"Layperson \\nratings\",\n",
    "    \"lowqual_lasser2019\": \"Lasser\\n ratings\",\n",
    "    \"lowqual_mbfc\": \"MFBC \\nratings\",\n",
    "    \"lowqual_afm\": \"AFM \\nratings\",\n",
    "    \"lowqual_pr2019_fc\": \"Fact-\\nChecker\\n ratings\",\n",
    "    \"politics_sites2\": \"News \\nsites\\n shared 2\",\n",
    "    \"politics_sites1\": \"News\\n sites\\n shared 1\"\n",
    "}"
   ]
  },
  {
   "cell_type": "markdown",
   "metadata": {},
   "source": [
    "* And, finally, paint the picture"
   ]
  },
  {
   "cell_type": "code",
   "execution_count": 226,
   "metadata": {},
   "outputs": [
    {
     "data": {
      "image/png": "[encoded data removed]",
      "text/plain": [
       "<Figure size 1000x500 with 1 Axes>"
      ]
     },
     "metadata": {},
     "output_type": "display_data"
    }
   ],
   "source": [
    "from matplotlib.patches import Patch\n",
    "\n",
    "# define bar labels\n",
    "predictor_labels = [bar_labels[p] for p in predictors_results[\"predictor\"]]\n",
    "\n",
    "# define bar colors\n",
    "predictor_colors = [colors[c] for c in predictors_results[\"class\"]]\n",
    "\n",
    "# define bar confidence intervals\n",
    "predictor_conf = [\n",
    "    predictors_results[\"auc\"] - predictors_results[\"conf_lb\"],\n",
    "    predictors_results[\"conf_ub\"] - predictors_results[\"auc\"]\n",
    "]\n",
    "\n",
    "figure, ax = plt.subplots(figsize = (10,5))\n",
    "\n",
    "# draw chart\n",
    "ax.bar(\n",
    "    predictors_results[\"predictor\"],\n",
    "    predictors_results[\"auc\"],\n",
    "    yerr = predictor_conf,\n",
    "    capsize = 5,\n",
    "    width = 0.7,\n",
    "    tick_label = predictor_labels,\n",
    "    color = predictor_colors\n",
    ")\n",
    "\n",
    "# define patches for legend\n",
    "handles = [Patch(color=color, label=label) for label, color in colors.items()]\n",
    "\n",
    "ax.set_ylim(0.5, 0.8)\n",
    "_ = ax.legend(handles=handles, title=\"Classes\")"
   ]
  },
  {
   "cell_type": "markdown",
   "metadata": {},
   "source": [
    "### Multiple Predictors"
   ]
  },
  {
   "cell_type": "markdown",
   "metadata": {},
   "source": [
    "* We have witnessed that you can achieve good prediction power (with significance), using many - single - predictors"
   ]
  },
  {
   "cell_type": "markdown",
   "metadata": {},
   "source": [
    "* If we wanted to use just one variable to make our predictions, we have the luxury of choosing from a vast set, with not too many expected differences"
   ]
  },
  {
   "cell_type": "markdown",
   "metadata": {},
   "source": [
    "* Why stop there?"
   ]
  },
  {
   "cell_type": "markdown",
   "metadata": {},
   "source": [
    "* By combining the knowledge of multiple predictors, perhaps we can achieve greater results"
   ]
  },
  {
   "cell_type": "markdown",
   "metadata": {},
   "source": [
    "* Before continuing that thought, lets start with some data preprocessing"
   ]
  },
  {
   "cell_type": "markdown",
   "metadata": {},
   "source": [
    "* Lets fill any missing values with the respective mean of the available observations from the accounts"
   ]
  },
  {
   "cell_type": "code",
   "execution_count": 227,
   "metadata": {},
   "outputs": [
    {
     "data": {
      "text/html": [
       "<div>\n",
       "<style scoped>\n",
       "    .dataframe tbody tr th:only-of-type {\n",
       "        vertical-align: middle;\n",
       "    }\n",
       "\n",
       "    .dataframe tbody tr th {\n",
       "        vertical-align: top;\n",
       "    }\n",
       "\n",
       "    .dataframe thead th {\n",
       "        text-align: right;\n",
       "    }\n",
       "</style>\n",
       "<table border=\"1\" class=\"dataframe\">\n",
       "  <thead>\n",
       "    <tr style=\"text-align: right;\">\n",
       "      <th></th>\n",
       "      <th>politics_sites2</th>\n",
       "      <th>politics_sites1</th>\n",
       "      <th>politics_followed</th>\n",
       "      <th>lowqual_pr2019_crowd</th>\n",
       "      <th>lowqual_pr2019_fc</th>\n",
       "      <th>lowqual_afm</th>\n",
       "      <th>lowqual_mbfc</th>\n",
       "      <th>lowqual_lasser2019</th>\n",
       "      <th>suspended</th>\n",
       "      <th>politics_hashtag</th>\n",
       "      <th>...</th>\n",
       "      <th>valence_neg</th>\n",
       "      <th>valence_neu</th>\n",
       "      <th>valence_pos</th>\n",
       "      <th>politics_sites2_ideo_std</th>\n",
       "      <th>hashtag_ideo_std</th>\n",
       "      <th>barbera_std</th>\n",
       "      <th>politics_sites1_std</th>\n",
       "      <th>repeated_tweet_count</th>\n",
       "      <th>freq_pr_1h</th>\n",
       "      <th>bad_domain_count</th>\n",
       "    </tr>\n",
       "  </thead>\n",
       "  <tbody>\n",
       "    <tr>\n",
       "      <th>0</th>\n",
       "      <td>-0.231902</td>\n",
       "      <td>-1.168745</td>\n",
       "      <td>-0.080295</td>\n",
       "      <td>0.598883</td>\n",
       "      <td>0.279221</td>\n",
       "      <td>0.185315</td>\n",
       "      <td>0.292807</td>\n",
       "      <td>0.350000</td>\n",
       "      <td>0</td>\n",
       "      <td>0</td>\n",
       "      <td>...</td>\n",
       "      <td>0.109935</td>\n",
       "      <td>0.813230</td>\n",
       "      <td>0.076835</td>\n",
       "      <td>0.274317</td>\n",
       "      <td>0.0</td>\n",
       "      <td>0.909460</td>\n",
       "      <td>69</td>\n",
       "      <td>86.0</td>\n",
       "      <td>30</td>\n",
       "      <td>7</td>\n",
       "    </tr>\n",
       "    <tr>\n",
       "      <th>1</th>\n",
       "      <td>0.405261</td>\n",
       "      <td>1.060905</td>\n",
       "      <td>2.296375</td>\n",
       "      <td>0.774873</td>\n",
       "      <td>0.848639</td>\n",
       "      <td>0.614156</td>\n",
       "      <td>0.513147</td>\n",
       "      <td>0.975087</td>\n",
       "      <td>0</td>\n",
       "      <td>1</td>\n",
       "      <td>...</td>\n",
       "      <td>0.115985</td>\n",
       "      <td>0.793715</td>\n",
       "      <td>0.090250</td>\n",
       "      <td>0.351800</td>\n",
       "      <td>0.0</td>\n",
       "      <td>0.157056</td>\n",
       "      <td>623</td>\n",
       "      <td>133.0</td>\n",
       "      <td>26</td>\n",
       "      <td>20</td>\n",
       "    </tr>\n",
       "    <tr>\n",
       "      <th>2</th>\n",
       "      <td>-0.171067</td>\n",
       "      <td>-0.500076</td>\n",
       "      <td>-2.312730</td>\n",
       "      <td>0.548727</td>\n",
       "      <td>0.242347</td>\n",
       "      <td>0.130950</td>\n",
       "      <td>0.242445</td>\n",
       "      <td>0.300000</td>\n",
       "      <td>0</td>\n",
       "      <td>0</td>\n",
       "      <td>...</td>\n",
       "      <td>0.085765</td>\n",
       "      <td>0.817340</td>\n",
       "      <td>0.096915</td>\n",
       "      <td>0.279591</td>\n",
       "      <td>0.0</td>\n",
       "      <td>0.445349</td>\n",
       "      <td>32</td>\n",
       "      <td>3.0</td>\n",
       "      <td>3</td>\n",
       "      <td>6</td>\n",
       "    </tr>\n",
       "    <tr>\n",
       "      <th>3</th>\n",
       "      <td>-0.085814</td>\n",
       "      <td>-0.748035</td>\n",
       "      <td>-1.507481</td>\n",
       "      <td>0.611501</td>\n",
       "      <td>0.360119</td>\n",
       "      <td>0.180055</td>\n",
       "      <td>0.277793</td>\n",
       "      <td>0.316038</td>\n",
       "      <td>0</td>\n",
       "      <td>0</td>\n",
       "      <td>...</td>\n",
       "      <td>0.108680</td>\n",
       "      <td>0.781135</td>\n",
       "      <td>0.110190</td>\n",
       "      <td>0.290277</td>\n",
       "      <td>0.0</td>\n",
       "      <td>0.256665</td>\n",
       "      <td>55</td>\n",
       "      <td>104.0</td>\n",
       "      <td>29</td>\n",
       "      <td>22</td>\n",
       "    </tr>\n",
       "    <tr>\n",
       "      <th>4</th>\n",
       "      <td>0.595367</td>\n",
       "      <td>1.347730</td>\n",
       "      <td>2.010573</td>\n",
       "      <td>0.700217</td>\n",
       "      <td>0.698661</td>\n",
       "      <td>0.430655</td>\n",
       "      <td>0.554609</td>\n",
       "      <td>0.763889</td>\n",
       "      <td>0</td>\n",
       "      <td>1</td>\n",
       "      <td>...</td>\n",
       "      <td>0.065145</td>\n",
       "      <td>0.860550</td>\n",
       "      <td>0.074320</td>\n",
       "      <td>0.300823</td>\n",
       "      <td>0.0</td>\n",
       "      <td>0.431149</td>\n",
       "      <td>37</td>\n",
       "      <td>36.0</td>\n",
       "      <td>8</td>\n",
       "      <td>8</td>\n",
       "    </tr>\n",
       "  </tbody>\n",
       "</table>\n",
       "<p>5 rows × 42 columns</p>\n",
       "</div>"
      ],
      "text/plain": [
       "   politics_sites2  politics_sites1  politics_followed  lowqual_pr2019_crowd  \\\n",
       "0        -0.231902        -1.168745          -0.080295              0.598883   \n",
       "1         0.405261         1.060905           2.296375              0.774873   \n",
       "2        -0.171067        -0.500076          -2.312730              0.548727   \n",
       "3        -0.085814        -0.748035          -1.507481              0.611501   \n",
       "4         0.595367         1.347730           2.010573              0.700217   \n",
       "\n",
       "   lowqual_pr2019_fc  lowqual_afm  lowqual_mbfc  lowqual_lasser2019  \\\n",
       "0           0.279221     0.185315      0.292807            0.350000   \n",
       "1           0.848639     0.614156      0.513147            0.975087   \n",
       "2           0.242347     0.130950      0.242445            0.300000   \n",
       "3           0.360119     0.180055      0.277793            0.316038   \n",
       "4           0.698661     0.430655      0.554609            0.763889   \n",
       "\n",
       "   suspended  politics_hashtag  ...  valence_neg  valence_neu  valence_pos  \\\n",
       "0          0                 0  ...     0.109935     0.813230     0.076835   \n",
       "1          0                 1  ...     0.115985     0.793715     0.090250   \n",
       "2          0                 0  ...     0.085765     0.817340     0.096915   \n",
       "3          0                 0  ...     0.108680     0.781135     0.110190   \n",
       "4          0                 1  ...     0.065145     0.860550     0.074320   \n",
       "\n",
       "   politics_sites2_ideo_std  hashtag_ideo_std  barbera_std  \\\n",
       "0                  0.274317               0.0     0.909460   \n",
       "1                  0.351800               0.0     0.157056   \n",
       "2                  0.279591               0.0     0.445349   \n",
       "3                  0.290277               0.0     0.256665   \n",
       "4                  0.300823               0.0     0.431149   \n",
       "\n",
       "   politics_sites1_std  repeated_tweet_count  freq_pr_1h  bad_domain_count  \n",
       "0                   69                  86.0          30                 7  \n",
       "1                  623                 133.0          26                20  \n",
       "2                   32                   3.0           3                 6  \n",
       "3                   55                 104.0          29                22  \n",
       "4                   37                  36.0           8                 8  \n",
       "\n",
       "[5 rows x 42 columns]"
      ]
     },
     "execution_count": 227,
     "metadata": {},
     "output_type": "execute_result"
    }
   ],
   "source": [
    "accounts_cleaned = accounts.fillna(accounts.mean())\n",
    "accounts_cleaned.head()"
   ]
  },
  {
   "cell_type": "markdown",
   "metadata": {},
   "source": [
    "* This way, we retain valuable data that were already available (as opposed to dropping them), while still, keeping our data close to the ordinary"
   ]
  },
  {
   "cell_type": "markdown",
   "metadata": {},
   "source": [
    "* We will also use some of the tweeter metrics for each account"
   ]
  },
  {
   "cell_type": "markdown",
   "metadata": {},
   "source": [
    "* But first, we should log transform them using base 10"
   ]
  },
  {
   "cell_type": "code",
   "execution_count": 228,
   "metadata": {},
   "outputs": [],
   "source": [
    "accounts_cleaned[[\n",
    "    \"log_repeated_tweet_count\",\n",
    "    \"log_freq_pr_1h\",\n",
    "    \"log_num_followers\",\n",
    "    \"log_num_friends\"]] = np.log10(\n",
    "                            accounts_cleaned[[\n",
    "                                \"repeated_tweet_count\",\n",
    "                                \"freq_pr_1h\",\n",
    "                                \"num_followers\",\n",
    "                                \"num_friends\"\n",
    "                            ]] + 1  # add 1 to avoid log(0)\n",
    "                        )"
   ]
  },
  {
   "cell_type": "markdown",
   "metadata": {},
   "source": [
    "* Lets also introduce a new variable, that will denote the ratio of friends over follower of an account (and log transform again)"
   ]
  },
  {
   "cell_type": "code",
   "execution_count": null,
   "metadata": {},
   "outputs": [],
   "source": [
    "accounts_cleaned[\"log_fol\"] = np.log10(\n",
    "    (accounts_cleaned[\"num_friends\"] + 1) / # add 1 to avoid log(0)\n",
    "    (accounts_cleaned[\"num_followers\"] + 1)  # add 1 to avoid div(0)\n",
    ")"
   ]
  },
  {
   "cell_type": "markdown",
   "metadata": {},
   "source": [
    "* Our original data might be susceptible to outliers"
   ]
  },
  {
   "cell_type": "markdown",
   "metadata": {},
   "source": [
    "* Outliers often influence analyses negatively, so we will try to avoid them wherever we can"
   ]
  },
  {
   "cell_type": "markdown",
   "metadata": {},
   "source": [
    "* So how will we?"
   ]
  },
  {
   "cell_type": "markdown",
   "metadata": {},
   "source": [
    "* We will use [winsorization](https://en.wikipedia.org/wiki/Winsorizing)"
   ]
  },
  {
   "cell_type": "markdown",
   "metadata": {},
   "source": [
    "* The way it works, is that it resets outliers to a specified percentile (upper or lower) of the data"
   ]
  },
  {
   "cell_type": "markdown",
   "metadata": {},
   "source": [
    "* Because of some specific properties of the data, we will use different percentiles for different features"
   ]
  },
  {
   "cell_type": "markdown",
   "metadata": {},
   "source": [
    "* The first group will be winsorized from both sides at the top 1%"
   ]
  },
  {
   "cell_type": "code",
   "execution_count": 230,
   "metadata": {},
   "outputs": [],
   "source": [
    "winsorized_cols = [\n",
    "    \"valence_neg\",\n",
    "    \"valence_neu\",\n",
    "    \"valence_pos\",\n",
    "    \"barbera_std\",\n",
    "    \"politics_sites1_std\",\n",
    "    \"politics_sites2_ideo_std\"\n",
    "]\n",
    "\n",
    "accounts_cleaned[winsorized_cols] = \\\n",
    "        accounts_cleaned[winsorized_cols].apply(\n",
    "                stats.mstats.winsorize,\n",
    "                limits=(0.01, 0.01) # winsorize from both sides, top 1%\n",
    "        )"
   ]
  },
  {
   "cell_type": "markdown",
   "metadata": {},
   "source": [
    "* The second set of features will get winsorized from the upper side, again at the top 1% "
   ]
  },
  {
   "cell_type": "code",
   "execution_count": 231,
   "metadata": {},
   "outputs": [],
   "source": [
    "winsorized_cols = [\n",
    "    \"moral_outrage\",\n",
    "    \"rewire_abuse\",\n",
    "    \"rewire_hate\",\n",
    "    \"rewire_profanity\",\n",
    "    \"rewire_violent\",\n",
    "    \"rewire_sexually_explicit\",\n",
    "    \"jigsaw_toxicity\",\n",
    "    \"jigsaw_severe_toxicity\",\n",
    "    \"jigsaw_idenity_attack\",\n",
    "    \"jigsaw_insult\",\n",
    "    \"jigsaw_profanity\",\n",
    "    \"jigsaw_threat\"\n",
    "]\n",
    "\n",
    "accounts_cleaned[winsorized_cols] = \\\n",
    "        accounts_cleaned[winsorized_cols].apply(\n",
    "                stats.mstats.winsorize,\n",
    "                limits=(0, 0.01) # winsorize from upper side, top 1%\n",
    "        )"
   ]
  },
  {
   "cell_type": "markdown",
   "metadata": {},
   "source": [
    "* We will use the following features for our predictions (and some others)"
   ]
  },
  {
   "cell_type": "code",
   "execution_count": 232,
   "metadata": {},
   "outputs": [],
   "source": [
    "normalized_cols = [\n",
    "    \"lowqual_pr2019_fc\",\n",
    "    \"lowqual_afm\",\n",
    "    \"lowqual_lasser2019\",\n",
    "    \"lowqual_mbfc\",\n",
    "    \"politics_hashtag\",\n",
    "    \"politics_followed\",\n",
    "    \"politics_sites1\",\n",
    "    \"politics_sites2\",\n",
    "    \"log_num_followers\",\n",
    "    \"log_num_friends\",\n",
    "    \"log_fol\",\n",
    "    \"rewire_abuse\",\n",
    "    \"rewire_hate\",\n",
    "    \"rewire_profanity\",\n",
    "    \"rewire_violent\",\n",
    "    \"rewire_sexually_explicit\",\n",
    "    \"jigsaw_toxicity\",\n",
    "    \"jigsaw_severe_toxicity\",\n",
    "    \"jigsaw_idenity_attack\",\n",
    "    \"jigsaw_insult\",\n",
    "    \"jigsaw_profanity\",\n",
    "    \"jigsaw_threat\",\n",
    "    \"valence_neg\",\n",
    "    \"valence_neu\",\n",
    "    \"valence_pos\"\n",
    "]"
   ]
  },
  {
   "cell_type": "markdown",
   "metadata": {},
   "source": [
    "* They're a lot"
   ]
  },
  {
   "cell_type": "markdown",
   "metadata": {},
   "source": [
    "* Many of these features explain a similar theme"
   ]
  },
  {
   "cell_type": "markdown",
   "metadata": {},
   "source": [
    "* For example, `lowqual_pr2019_fc`, `lowqual_afm`, `lowqual_lasser2019` and `lowqual_mbfc` explain the low-quality news sharing scores of an account "
   ]
  },
  {
   "cell_type": "markdown",
   "metadata": {},
   "source": [
    "* Perhaps we can 'merge' these groups into principle components, so we can describe the same information (with some minimal loss), using less variables"
   ]
  },
  {
   "cell_type": "markdown",
   "metadata": {},
   "source": [
    "* We will use PCA to do that"
   ]
  },
  {
   "cell_type": "markdown",
   "metadata": {},
   "source": [
    "* From an experimental empirical analysis, we know that we should create:\n",
    "    * 1 PC for `lowqual_pr2019_fc`, `lowqual_afm`, `lowqual_lasser2019`, `lowqual_mbfc` <br><br>\n",
    "    * 1 PC for `politics_hashtag`, `politics_followed`, `politics_sites1`, `politics_sites2` <br><br>\n",
    "    * 1 PC for `log_followers`, `log_friends`, `log_fol` <br><br>\n",
    "    * 3 PC for `rewire_abuse`, `rewire_hate`, `rewire_profanity`, `rewire_violent`, `rewire_sexually_explicit`, `jigsaw_toxicity`, `jigsaw_severe_toxicity`, `jigsaw_idenity_attack`, `jigsaw_insult`, `jigsaw_profanity`, `jigsaw_threat` <br><br>\n",
    "    * 1 PC for `valence_neg`, `valence_neu`, `valence_pos`"
   ]
  },
  {
   "cell_type": "markdown",
   "metadata": {},
   "source": [
    "* We should remember that PCA is influenced by the variances of the original features"
   ]
  },
  {
   "cell_type": "code",
   "execution_count": 233,
   "metadata": {},
   "outputs": [
    {
     "data": {
      "text/plain": [
       "lowqual_pr2019_fc           0.238542\n",
       "lowqual_afm                 0.115966\n",
       "lowqual_lasser2019          0.201139\n",
       "lowqual_mbfc                0.118104\n",
       "politics_hashtag            0.500027\n",
       "politics_followed           1.467387\n",
       "politics_sites1             0.896221\n",
       "politics_sites2             0.305400\n",
       "log_num_followers           0.816299\n",
       "log_num_friends             0.640642\n",
       "log_fol                     0.435208\n",
       "rewire_abuse                0.056932\n",
       "rewire_hate                 0.027449\n",
       "rewire_profanity            0.037159\n",
       "rewire_violent              0.013846\n",
       "rewire_sexually_explicit    0.004712\n",
       "jigsaw_toxicity             0.043723\n",
       "jigsaw_severe_toxicity      0.013099\n",
       "jigsaw_idenity_attack       0.018955\n",
       "jigsaw_insult               0.043116\n",
       "jigsaw_profanity            0.028581\n",
       "jigsaw_threat               0.010623\n",
       "valence_neg                 0.019413\n",
       "valence_neu                 0.035437\n",
       "valence_pos                 0.026785\n",
       "dtype: float64"
      ]
     },
     "execution_count": 233,
     "metadata": {},
     "output_type": "execute_result"
    }
   ],
   "source": [
    "accounts_cleaned[normalized_cols].std()"
   ]
  },
  {
   "cell_type": "markdown",
   "metadata": {},
   "source": [
    "* It would be wrong to apply PCA directly on the above data, as many of them have different variances (because of their respective scale)"
   ]
  },
  {
   "cell_type": "markdown",
   "metadata": {},
   "source": [
    "* We should first standardize them"
   ]
  },
  {
   "cell_type": "code",
   "execution_count": 234,
   "metadata": {},
   "outputs": [],
   "source": [
    "accounts_cleaned[normalized_cols] = StandardScaler().fit_transform(\n",
    "    accounts_cleaned[normalized_cols]\n",
    ")"
   ]
  },
  {
   "cell_type": "markdown",
   "metadata": {},
   "source": [
    "* Now all of the features have a variance of 1"
   ]
  },
  {
   "cell_type": "code",
   "execution_count": 235,
   "metadata": {},
   "outputs": [
    {
     "data": {
      "text/plain": [
       "lowqual_pr2019_fc           1.000056\n",
       "lowqual_afm                 1.000056\n",
       "lowqual_lasser2019          1.000056\n",
       "lowqual_mbfc                1.000056\n",
       "politics_hashtag            1.000056\n",
       "politics_followed           1.000056\n",
       "politics_sites1             1.000056\n",
       "politics_sites2             1.000056\n",
       "log_num_followers           1.000056\n",
       "log_num_friends             1.000056\n",
       "log_fol                     1.000056\n",
       "rewire_abuse                1.000056\n",
       "rewire_hate                 1.000056\n",
       "rewire_profanity            1.000056\n",
       "rewire_violent              1.000056\n",
       "rewire_sexually_explicit    1.000056\n",
       "jigsaw_toxicity             1.000056\n",
       "jigsaw_severe_toxicity      1.000056\n",
       "jigsaw_idenity_attack       1.000056\n",
       "jigsaw_insult               1.000056\n",
       "jigsaw_profanity            1.000056\n",
       "jigsaw_threat               1.000056\n",
       "valence_neg                 1.000056\n",
       "valence_neu                 1.000056\n",
       "valence_pos                 1.000056\n",
       "dtype: float64"
      ]
     },
     "execution_count": 235,
     "metadata": {},
     "output_type": "execute_result"
    }
   ],
   "source": [
    "accounts_cleaned[normalized_cols].std()"
   ]
  },
  {
   "cell_type": "markdown",
   "metadata": {},
   "source": [
    "* Lets now continue with the PCA, starting with the misinformation columns"
   ]
  },
  {
   "cell_type": "code",
   "execution_count": 236,
   "metadata": {},
   "outputs": [],
   "source": [
    "from sklearn.decomposition import PCA\n",
    "\n",
    "misinfo_pca_model = PCA(n_components=1).fit(\n",
    "    accounts_cleaned[[\n",
    "        \"lowqual_pr2019_fc\",\n",
    "        \"lowqual_afm\",\n",
    "        \"lowqual_lasser2019\",\n",
    "        \"lowqual_mbfc\"\n",
    "]])"
   ]
  },
  {
   "cell_type": "markdown",
   "metadata": {},
   "source": [
    "* We managed to explain the low-quality news sharing data pretty well:"
   ]
  },
  {
   "cell_type": "code",
   "execution_count": 237,
   "metadata": {},
   "outputs": [
    {
     "data": {
      "text/plain": [
       "array([0.87255953])"
      ]
     },
     "execution_count": 237,
     "metadata": {},
     "output_type": "execute_result"
    }
   ],
   "source": [
    "misinfo_pca_model.explained_variance_ratio_"
   ]
  },
  {
   "cell_type": "markdown",
   "metadata": {},
   "source": [
    "* That means that the new feature (composed from the original 4) explains 87% of the original's data variance"
   ]
  },
  {
   "cell_type": "markdown",
   "metadata": {},
   "source": [
    "* Lets project the old dimensions into the new one (that we will call `pc1_misinfo`)"
   ]
  },
  {
   "cell_type": "code",
   "execution_count": 238,
   "metadata": {},
   "outputs": [],
   "source": [
    "accounts_cleaned[\"pc1_misinfo\"] = misinfo_pca_model.transform(\n",
    "    accounts_cleaned[[\n",
    "        \"lowqual_pr2019_fc\",\n",
    "        \"lowqual_afm\",\n",
    "        \"lowqual_lasser2019\",\n",
    "        \"lowqual_mbfc\"\n",
    "]])"
   ]
  },
  {
   "cell_type": "markdown",
   "metadata": {},
   "source": [
    "* Continuing with the politics dimensions"
   ]
  },
  {
   "cell_type": "code",
   "execution_count": 239,
   "metadata": {},
   "outputs": [],
   "source": [
    "politics_pca_model = PCA(n_components=1).fit(\n",
    "    accounts_cleaned[[\n",
    "        \"politics_hashtag\",\n",
    "        \"politics_followed\",\n",
    "        \"politics_sites1\",\n",
    "        \"politics_sites2\"\n",
    "]])"
   ]
  },
  {
   "cell_type": "markdown",
   "metadata": {},
   "source": [
    "* And the explained variance ratio of the principle component"
   ]
  },
  {
   "cell_type": "code",
   "execution_count": 240,
   "metadata": {},
   "outputs": [
    {
     "data": {
      "text/plain": [
       "array([0.87952937])"
      ]
     },
     "execution_count": 240,
     "metadata": {},
     "output_type": "execute_result"
    }
   ],
   "source": [
    "politics_pca_model.explained_variance_ratio_"
   ]
  },
  {
   "cell_type": "markdown",
   "metadata": {},
   "source": [
    "* It appears that by using one component instead of four, we can explain the variance of the politics measures, in the same level (about 88%) as we can with the low-quality news ratings"
   ]
  },
  {
   "cell_type": "markdown",
   "metadata": {},
   "source": [
    "* The new component will be called `pc1_politics`"
   ]
  },
  {
   "cell_type": "code",
   "execution_count": 241,
   "metadata": {},
   "outputs": [],
   "source": [
    "accounts_cleaned[\"pc1_politics\"] = politics_pca_model.transform(\n",
    "    accounts_cleaned[[\n",
    "        \"politics_hashtag\",\n",
    "        \"politics_followed\",\n",
    "        \"politics_sites1\",\n",
    "        \"politics_sites2\"\n",
    "]])"
   ]
  },
  {
   "cell_type": "markdown",
   "metadata": {},
   "source": [
    "* We will also need a new variable that takes as values, the absolute value of `pc1_politics`"
   ]
  },
  {
   "cell_type": "markdown",
   "metadata": {},
   "source": [
    "* The `extremity` denotes a user’s extent of ideological extremity "
   ]
  },
  {
   "cell_type": "code",
   "execution_count": 242,
   "metadata": {},
   "outputs": [],
   "source": [
    "accounts_cleaned[\"extremity\"] = np.abs(accounts_cleaned[\"pc1_politics\"])"
   ]
  },
  {
   "cell_type": "markdown",
   "metadata": {},
   "source": [
    "* For our third set of features, we will once again create a single principle component"
   ]
  },
  {
   "cell_type": "code",
   "execution_count": 243,
   "metadata": {},
   "outputs": [
    {
     "data": {
      "text/plain": [
       "array([0.70462969])"
      ]
     },
     "execution_count": 243,
     "metadata": {},
     "output_type": "execute_result"
    }
   ],
   "source": [
    "fol_pca_model = PCA(n_components=1).fit(\n",
    "    accounts_cleaned[[\n",
    "        \"log_num_followers\",\n",
    "        \"log_num_friends\",\n",
    "        \"log_fol\",\n",
    "]])\n",
    "fol_pca_model.explained_variance_ratio_"
   ]
  },
  {
   "cell_type": "markdown",
   "metadata": {},
   "source": [
    "* We can explain only 70% of these three features using a single component, it seems"
   ]
  },
  {
   "cell_type": "markdown",
   "metadata": {},
   "source": [
    "* That means that we lost more information when we went from multiple features to one, in the tweeter metrics, than when we made the same move with `pc1_politics` or `pc1_misinfo`"
   ]
  },
  {
   "cell_type": "markdown",
   "metadata": {},
   "source": [
    "* We will reference the tweeter metrics as `pc1_fol`"
   ]
  },
  {
   "cell_type": "code",
   "execution_count": 244,
   "metadata": {},
   "outputs": [],
   "source": [
    "accounts_cleaned[\"pc1_fol\"] = fol_pca_model.transform(\n",
    "    accounts_cleaned[[\n",
    "        \"log_num_followers\",\n",
    "        \"log_num_friends\",\n",
    "        \"log_fol\",\n",
    "]])"
   ]
  },
  {
   "cell_type": "markdown",
   "metadata": {},
   "source": [
    "* For our next set, that contains the features for harmful language, we will create three principle components"
   ]
  },
  {
   "cell_type": "code",
   "execution_count": 245,
   "metadata": {},
   "outputs": [
    {
     "data": {
      "text/plain": [
       "array([0.5616608 , 0.11871792, 0.10703707])"
      ]
     },
     "execution_count": 245,
     "metadata": {},
     "output_type": "execute_result"
    }
   ],
   "source": [
    "hl_pca_model = PCA(n_components=3).fit(\n",
    "    accounts_cleaned[[\n",
    "        \"rewire_abuse\",\n",
    "        \"rewire_hate\",\n",
    "        \"rewire_profanity\",\n",
    "        \"rewire_violent\",\n",
    "        \"rewire_sexually_explicit\",\n",
    "        \"jigsaw_toxicity\",\n",
    "        \"jigsaw_severe_toxicity\",\n",
    "        \"jigsaw_idenity_attack\",\n",
    "        \"jigsaw_insult\",\n",
    "        \"jigsaw_profanity\",\n",
    "        \"jigsaw_threat\"\n",
    "    ]]\n",
    ")\n",
    "hl_pca_model.explained_variance_ratio_"
   ]
  },
  {
   "cell_type": "markdown",
   "metadata": {},
   "source": [
    "* The first PC explains 56% of the data's variance, the second PC, 11.8% and the third, 10.7%"
   ]
  },
  {
   "cell_type": "markdown",
   "metadata": {},
   "source": [
    "* When creating PCs, it is normal for the explained variance to drop with each component"
   ]
  },
  {
   "cell_type": "markdown",
   "metadata": {},
   "source": [
    "* That's because each component tries to explain the variance that the last one failed to"
   ]
  },
  {
   "cell_type": "markdown",
   "metadata": {},
   "source": [
    "* In total, we have:"
   ]
  },
  {
   "cell_type": "code",
   "execution_count": 246,
   "metadata": {},
   "outputs": [
    {
     "data": {
      "text/plain": [
       "np.float64(0.7874157847381196)"
      ]
     },
     "execution_count": 246,
     "metadata": {},
     "output_type": "execute_result"
    }
   ],
   "source": [
    "hl_pca_model.explained_variance_ratio_.sum()"
   ]
  },
  {
   "cell_type": "markdown",
   "metadata": {},
   "source": [
    "* But why use three components, instead of one? Lets try to interpret them"
   ]
  },
  {
   "cell_type": "code",
   "execution_count": 247,
   "metadata": {},
   "outputs": [
    {
     "data": {
      "text/plain": [
       "array([[ 0.32530845,  0.23538337,  0.25255674,  0.23252186,  0.12526899,\n",
       "         0.38547179,  0.33586086,  0.30692208,  0.37440778,  0.3617071 ,\n",
       "         0.28039267],\n",
       "       [ 0.34409751,  0.5765375 , -0.23191386,  0.06740265, -0.53686584,\n",
       "         0.13232154, -0.30099609, -0.04947252,  0.13741195, -0.20511297,\n",
       "        -0.17646751],\n",
       "       [-0.30773448, -0.03195551, -0.43039704, -0.03699539, -0.37270948,\n",
       "        -0.07810217,  0.24571418,  0.46254153, -0.03715369, -0.15336206,\n",
       "         0.52291043]])"
      ]
     },
     "execution_count": 247,
     "metadata": {},
     "output_type": "execute_result"
    }
   ],
   "source": [
    "hl_pca_model.components_"
   ]
  },
  {
   "cell_type": "markdown",
   "metadata": {},
   "source": [
    "* Each PC is a linear combination of the original features"
   ]
  },
  {
   "cell_type": "markdown",
   "metadata": {},
   "source": [
    "* That means that the first PC is equal to $0.32 * X_1 + 0.23 * X_2 + ...$"
   ]
  },
  {
   "cell_type": "markdown",
   "metadata": {},
   "source": [
    "* The third PC is equal to $-0.3 * X_1 -0.03 * X_2 + ...$"
   ]
  },
  {
   "cell_type": "markdown",
   "metadata": {},
   "source": [
    "* Where $X_1$ is `rewire_abuse`, $X_2$ `rewire_hate` and so on"
   ]
  },
  {
   "cell_type": "markdown",
   "metadata": {},
   "source": [
    "* As we can see, the first component gives similar weights (called loadings) to all the original features, with the larger load given to `jigsaw_toxicity`"
   ]
  },
  {
   "cell_type": "markdown",
   "metadata": {},
   "source": [
    "* We know from the [documentation](https://developers.perspectiveapi.com/s/about-the-api-training-data?language=en_US) of the jigsaw API that 'toxic' is any language that is \"rude, disrespectful, unreasonable, or otherwise somewhat likely to make a user leave a discussion or give up on sharing their perspective\""
   ]
  },
  {
   "cell_type": "markdown",
   "metadata": {},
   "source": [
    "* So we might reach the conclusion that the first PC captures the knowledge of general $\\textit{toxicity}$ (as it gives similar loadings to insults, profanity etc)"
   ]
  },
  {
   "cell_type": "markdown",
   "metadata": {},
   "source": [
    "* The second PC gives the heavier loads to `rewire_hate` and `rewire_sexually_explicit` (on the negative side)"
   ]
  },
  {
   "cell_type": "markdown",
   "metadata": {},
   "source": [
    "* We know from rewire's [demo](https://www.youtube.com/watch?v=tmQWXHIScfs&ab_channel=RewireOnline) of the API, that they define 'hate' as \"abuse targeted at protected groups or characteristics such as gender, race or religion\""
   ]
  },
  {
   "cell_type": "markdown",
   "metadata": {},
   "source": [
    "* The second PC probably captures the information of sexually abusive language (as it gives some generous weight to `rewire_abuse` as well)"
   ]
  },
  {
   "cell_type": "markdown",
   "metadata": {},
   "source": [
    "* The last PC gives sufficient weights to `jigsaw_threat`, `jigsaw_idenity_attack` and `rewire_profanity` (on the negative side)"
   ]
  },
  {
   "cell_type": "markdown",
   "metadata": {},
   "source": [
    "* From this [page](https://support.perspectiveapi.com/s/about-the-api-attributes-and-languages?language=en_US) of documentation, we understand that 'identity_attack' means \"negative or hateful comments targeting someone because of their identity\", while 'threat' describes \"an intention to inflict pain, injury, or violence against an individual or group\""
   ]
  },
  {
   "cell_type": "markdown",
   "metadata": {},
   "source": [
    "* The third PC mostly captures information of aggression and profane language"
   ]
  },
  {
   "cell_type": "markdown",
   "metadata": {},
   "source": [
    "* If we kept only the first PC, we would not be able to distinguish between the different kinds of harmful language, and would not manage to explain their variances"
   ]
  },
  {
   "cell_type": "markdown",
   "metadata": {},
   "source": [
    "* Projection:"
   ]
  },
  {
   "cell_type": "code",
   "execution_count": 248,
   "metadata": {},
   "outputs": [],
   "source": [
    "accounts_cleaned[[\"pc1_harmful_language\",\n",
    "                \"pc2_harmful_language\",\n",
    "                \"pc3_harmful_language\"]] = hl_pca_model.transform(\n",
    "                        accounts_cleaned[[\n",
    "                            \"rewire_abuse\",\n",
    "                            \"rewire_hate\",\n",
    "                            \"rewire_profanity\",\n",
    "                            \"rewire_violent\",\n",
    "                            \"rewire_sexually_explicit\",\n",
    "                            \"jigsaw_toxicity\",\n",
    "                            \"jigsaw_severe_toxicity\",\n",
    "                            \"jigsaw_idenity_attack\",\n",
    "                            \"jigsaw_insult\",\n",
    "                            \"jigsaw_profanity\",\n",
    "                            \"jigsaw_threat\"\n",
    "                        ]]\n",
    "                )"
   ]
  },
  {
   "cell_type": "markdown",
   "metadata": {},
   "source": [
    "* And we finish with the last set"
   ]
  },
  {
   "cell_type": "code",
   "execution_count": 249,
   "metadata": {},
   "outputs": [
    {
     "data": {
      "text/plain": [
       "array([0.7079432])"
      ]
     },
     "execution_count": 249,
     "metadata": {},
     "output_type": "execute_result"
    }
   ],
   "source": [
    "val_pca_model = PCA(n_components=1).fit(\n",
    "    accounts_cleaned[[\n",
    "        \"valence_neg\",\n",
    "        \"valence_neu\",\n",
    "        \"valence_pos\"\n",
    "    ]]\n",
    ")\n",
    "val_pca_model.explained_variance_ratio_"
   ]
  },
  {
   "cell_type": "markdown",
   "metadata": {},
   "source": [
    "* After conducting all the PCAs, its obvious that the variables that are harder to explain using a single feature, are `log_followers`, `log_friends`, `log_fol` (the PC has the smallest explained variance ratio)"
   ]
  },
  {
   "cell_type": "code",
   "execution_count": 250,
   "metadata": {},
   "outputs": [],
   "source": [
    "accounts_cleaned[\"pc1_valence\"] = val_pca_model.transform(\n",
    "    accounts_cleaned[[\n",
    "        \"valence_neg\",\n",
    "        \"valence_neu\",\n",
    "        \"valence_pos\"\n",
    "    ]]\n",
    ")"
   ]
  },
  {
   "cell_type": "markdown",
   "metadata": {},
   "source": [
    "* What did we achieve?"
   ]
  },
  {
   "cell_type": "markdown",
   "metadata": {},
   "source": [
    "* We managed to reduce the number of independent variables of our future regression"
   ]
  },
  {
   "cell_type": "markdown",
   "metadata": {},
   "source": [
    "* Now we can use all of the above components, as well as the rest of the features we would like to use as predictors, in a probit"
   ]
  },
  {
   "cell_type": "markdown",
   "metadata": {},
   "source": [
    "* Now that we have a new set of features (because of the PCAs), we should check the variances of the resulting features (and the other ones we will use for the regression)"
   ]
  },
  {
   "cell_type": "code",
   "execution_count": 251,
   "metadata": {},
   "outputs": [
    {
     "data": {
      "text/plain": [
       "pc1_politics                  1.875769\n",
       "pc1_misinfo                   1.868322\n",
       "pc1_fol                       1.454003\n",
       "pc1_harmful_language          2.485750\n",
       "pc2_harmful_language          1.142822\n",
       "pc3_harmful_language          1.085145\n",
       "pc1_valence                   1.457417\n",
       "tweets_in_2wk               990.761184\n",
       "botsentinel_score            20.393098\n",
       "extremity                     0.560697\n",
       "moral_outrage                 0.061418\n",
       "liwc_political                0.145147\n",
       "log_freq_pr_1h                0.347347\n",
       "log_repeated_tweet_count      0.697156\n",
       "barbera_std                   0.287247\n",
       "politics_sites1_std          70.982196\n",
       "politics_sites2_ideo_std      0.068959\n",
       "dtype: float64"
      ]
     },
     "execution_count": 251,
     "metadata": {},
     "output_type": "execute_result"
    }
   ],
   "source": [
    "normalized_cols = [\n",
    "    \"pc1_politics\",\n",
    "    \"pc1_misinfo\",\n",
    "    \"pc1_fol\",\n",
    "    \"pc1_harmful_language\",\n",
    "    \"pc2_harmful_language\",\n",
    "    \"pc3_harmful_language\",\n",
    "    \"pc1_valence\",\n",
    "    \"tweets_in_2wk\",\n",
    "    \"botsentinel_score\",\n",
    "    \"extremity\",\n",
    "    \"moral_outrage\",\n",
    "    \"liwc_political\",\n",
    "    \"log_freq_pr_1h\",\n",
    "    \"log_repeated_tweet_count\",\n",
    "    \"barbera_std\",\n",
    "    \"politics_sites1_std\",\n",
    "    \"politics_sites2_ideo_std\"\n",
    "]\n",
    "\n",
    "accounts_cleaned[normalized_cols].std()"
   ]
  },
  {
   "cell_type": "markdown",
   "metadata": {},
   "source": [
    "* Lets standardize one final time, before the regression"
   ]
  },
  {
   "cell_type": "code",
   "execution_count": 252,
   "metadata": {},
   "outputs": [],
   "source": [
    "accounts_cleaned[normalized_cols] = StandardScaler().fit_transform(accounts_cleaned[normalized_cols])"
   ]
  },
  {
   "cell_type": "markdown",
   "metadata": {},
   "source": [
    "* We are now free to perform the probit on the above independent variables"
   ]
  },
  {
   "cell_type": "code",
   "execution_count": 253,
   "metadata": {},
   "outputs": [],
   "source": [
    "probit_model = Probit(\n",
    "    accounts_cleaned[\"suspended\"],\n",
    "    add_constant(accounts_cleaned[normalized_cols]) # add intercept\n",
    ").fit(disp = False)"
   ]
  },
  {
   "cell_type": "markdown",
   "metadata": {},
   "source": [
    "* Lets see a summary of our model"
   ]
  },
  {
   "cell_type": "code",
   "execution_count": 254,
   "metadata": {},
   "outputs": [
    {
     "data": {
      "text/html": [
       "<table class=\"simpletable\">\n",
       "<caption>Probit Regression Results</caption>\n",
       "<tr>\n",
       "  <th>Dep. Variable:</th>       <td>suspended</td>    <th>  No. Observations:  </th>   <td>  9000</td>  \n",
       "</tr>\n",
       "<tr>\n",
       "  <th>Model:</th>                <td>Probit</td>      <th>  Df Residuals:      </th>   <td>  8982</td>  \n",
       "</tr>\n",
       "<tr>\n",
       "  <th>Method:</th>                 <td>MLE</td>       <th>  Df Model:          </th>   <td>    17</td>  \n",
       "</tr>\n",
       "<tr>\n",
       "  <th>Date:</th>            <td>Fri, 06 Dec 2024</td> <th>  Pseudo R-squ.:     </th>   <td>0.1762</td>  \n",
       "</tr>\n",
       "<tr>\n",
       "  <th>Time:</th>                <td>19:44:53</td>     <th>  Log-Likelihood:    </th>  <td> -2723.7</td> \n",
       "</tr>\n",
       "<tr>\n",
       "  <th>converged:</th>             <td>True</td>       <th>  LL-Null:           </th>  <td> -3306.3</td> \n",
       "</tr>\n",
       "<tr>\n",
       "  <th>Covariance Type:</th>     <td>nonrobust</td>    <th>  LLR p-value:       </th> <td>3.877e-237</td>\n",
       "</tr>\n",
       "</table>\n",
       "<table class=\"simpletable\">\n",
       "<tr>\n",
       "              <td></td>                <th>coef</th>     <th>std err</th>      <th>z</th>      <th>P>|z|</th>  <th>[0.025</th>    <th>0.975]</th>  \n",
       "</tr>\n",
       "<tr>\n",
       "  <th>const</th>                    <td>   -1.4273</td> <td>    0.023</td> <td>  -61.086</td> <td> 0.000</td> <td>   -1.473</td> <td>   -1.381</td>\n",
       "</tr>\n",
       "<tr>\n",
       "  <th>pc1_politics</th>             <td>    0.1341</td> <td>    0.053</td> <td>    2.535</td> <td> 0.011</td> <td>    0.030</td> <td>    0.238</td>\n",
       "</tr>\n",
       "<tr>\n",
       "  <th>pc1_misinfo</th>              <td>    0.2448</td> <td>    0.046</td> <td>    5.265</td> <td> 0.000</td> <td>    0.154</td> <td>    0.336</td>\n",
       "</tr>\n",
       "<tr>\n",
       "  <th>pc1_fol</th>                  <td>    0.0013</td> <td>    0.021</td> <td>    0.064</td> <td> 0.949</td> <td>   -0.040</td> <td>    0.042</td>\n",
       "</tr>\n",
       "<tr>\n",
       "  <th>pc1_harmful_language</th>     <td>    0.1761</td> <td>    0.026</td> <td>    6.750</td> <td> 0.000</td> <td>    0.125</td> <td>    0.227</td>\n",
       "</tr>\n",
       "<tr>\n",
       "  <th>pc2_harmful_language</th>     <td>   -0.0830</td> <td>    0.026</td> <td>   -3.226</td> <td> 0.001</td> <td>   -0.133</td> <td>   -0.033</td>\n",
       "</tr>\n",
       "<tr>\n",
       "  <th>pc3_harmful_language</th>     <td>   -0.0662</td> <td>    0.021</td> <td>   -3.216</td> <td> 0.001</td> <td>   -0.107</td> <td>   -0.026</td>\n",
       "</tr>\n",
       "<tr>\n",
       "  <th>pc1_valence</th>              <td>    0.0410</td> <td>    0.023</td> <td>    1.819</td> <td> 0.069</td> <td>   -0.003</td> <td>    0.085</td>\n",
       "</tr>\n",
       "<tr>\n",
       "  <th>tweets_in_2wk</th>            <td>    0.3316</td> <td>    0.021</td> <td>   15.934</td> <td> 0.000</td> <td>    0.291</td> <td>    0.372</td>\n",
       "</tr>\n",
       "<tr>\n",
       "  <th>botsentinel_score</th>        <td>    0.1825</td> <td>    0.039</td> <td>    4.724</td> <td> 0.000</td> <td>    0.107</td> <td>    0.258</td>\n",
       "</tr>\n",
       "<tr>\n",
       "  <th>extremity</th>                <td>   -0.1199</td> <td>    0.023</td> <td>   -5.295</td> <td> 0.000</td> <td>   -0.164</td> <td>   -0.076</td>\n",
       "</tr>\n",
       "<tr>\n",
       "  <th>moral_outrage</th>            <td>    0.0170</td> <td>    0.034</td> <td>    0.501</td> <td> 0.616</td> <td>   -0.049</td> <td>    0.083</td>\n",
       "</tr>\n",
       "<tr>\n",
       "  <th>liwc_political</th>           <td>   -0.0226</td> <td>    0.029</td> <td>   -0.790</td> <td> 0.429</td> <td>   -0.079</td> <td>    0.033</td>\n",
       "</tr>\n",
       "<tr>\n",
       "  <th>log_freq_pr_1h</th>           <td>    0.1222</td> <td>    0.023</td> <td>    5.351</td> <td> 0.000</td> <td>    0.077</td> <td>    0.167</td>\n",
       "</tr>\n",
       "<tr>\n",
       "  <th>log_repeated_tweet_count</th> <td>   -0.0074</td> <td>    0.023</td> <td>   -0.326</td> <td> 0.745</td> <td>   -0.052</td> <td>    0.037</td>\n",
       "</tr>\n",
       "<tr>\n",
       "  <th>barbera_std</th>              <td>   -0.0303</td> <td>    0.024</td> <td>   -1.276</td> <td> 0.202</td> <td>   -0.077</td> <td>    0.016</td>\n",
       "</tr>\n",
       "<tr>\n",
       "  <th>politics_sites1_std</th>      <td>   -0.0259</td> <td>    0.021</td> <td>   -1.224</td> <td> 0.221</td> <td>   -0.067</td> <td>    0.016</td>\n",
       "</tr>\n",
       "<tr>\n",
       "  <th>politics_sites2_ideo_std</th> <td>    0.0612</td> <td>    0.022</td> <td>    2.752</td> <td> 0.006</td> <td>    0.018</td> <td>    0.105</td>\n",
       "</tr>\n",
       "</table>"
      ],
      "text/latex": [
       "\\begin{center}\n",
       "\\begin{tabular}{lclc}\n",
       "\\toprule\n",
       "\\textbf{Dep. Variable:}              &    suspended     & \\textbf{  No. Observations:  } &     9000    \\\\\n",
       "\\textbf{Model:}                      &      Probit      & \\textbf{  Df Residuals:      } &     8982    \\\\\n",
       "\\textbf{Method:}                     &       MLE        & \\textbf{  Df Model:          } &       17    \\\\\n",
       "\\textbf{Date:}                       & Fri, 06 Dec 2024 & \\textbf{  Pseudo R-squ.:     } &   0.1762    \\\\\n",
       "\\textbf{Time:}                       &     19:44:53     & \\textbf{  Log-Likelihood:    } &   -2723.7   \\\\\n",
       "\\textbf{converged:}                  &       True       & \\textbf{  LL-Null:           } &   -3306.3   \\\\\n",
       "\\textbf{Covariance Type:}            &    nonrobust     & \\textbf{  LLR p-value:       } & 3.877e-237  \\\\\n",
       "\\bottomrule\n",
       "\\end{tabular}\n",
       "\\begin{tabular}{lcccccc}\n",
       "                                     & \\textbf{coef} & \\textbf{std err} & \\textbf{z} & \\textbf{P$> |$z$|$} & \\textbf{[0.025} & \\textbf{0.975]}  \\\\\n",
       "\\midrule\n",
       "\\textbf{const}                       &      -1.4273  &        0.023     &   -61.086  &         0.000        &       -1.473    &       -1.381     \\\\\n",
       "\\textbf{pc1\\_politics}               &       0.1341  &        0.053     &     2.535  &         0.011        &        0.030    &        0.238     \\\\\n",
       "\\textbf{pc1\\_misinfo}                &       0.2448  &        0.046     &     5.265  &         0.000        &        0.154    &        0.336     \\\\\n",
       "\\textbf{pc1\\_fol}                    &       0.0013  &        0.021     &     0.064  &         0.949        &       -0.040    &        0.042     \\\\\n",
       "\\textbf{pc1\\_harmful\\_language}      &       0.1761  &        0.026     &     6.750  &         0.000        &        0.125    &        0.227     \\\\\n",
       "\\textbf{pc2\\_harmful\\_language}      &      -0.0830  &        0.026     &    -3.226  &         0.001        &       -0.133    &       -0.033     \\\\\n",
       "\\textbf{pc3\\_harmful\\_language}      &      -0.0662  &        0.021     &    -3.216  &         0.001        &       -0.107    &       -0.026     \\\\\n",
       "\\textbf{pc1\\_valence}                &       0.0410  &        0.023     &     1.819  &         0.069        &       -0.003    &        0.085     \\\\\n",
       "\\textbf{tweets\\_in\\_2wk}             &       0.3316  &        0.021     &    15.934  &         0.000        &        0.291    &        0.372     \\\\\n",
       "\\textbf{botsentinel\\_score}          &       0.1825  &        0.039     &     4.724  &         0.000        &        0.107    &        0.258     \\\\\n",
       "\\textbf{extremity}                   &      -0.1199  &        0.023     &    -5.295  &         0.000        &       -0.164    &       -0.076     \\\\\n",
       "\\textbf{moral\\_outrage}              &       0.0170  &        0.034     &     0.501  &         0.616        &       -0.049    &        0.083     \\\\\n",
       "\\textbf{liwc\\_political}             &      -0.0226  &        0.029     &    -0.790  &         0.429        &       -0.079    &        0.033     \\\\\n",
       "\\textbf{log\\_freq\\_pr\\_1h}           &       0.1222  &        0.023     &     5.351  &         0.000        &        0.077    &        0.167     \\\\\n",
       "\\textbf{log\\_repeated\\_tweet\\_count} &      -0.0074  &        0.023     &    -0.326  &         0.745        &       -0.052    &        0.037     \\\\\n",
       "\\textbf{barbera\\_std}                &      -0.0303  &        0.024     &    -1.276  &         0.202        &       -0.077    &        0.016     \\\\\n",
       "\\textbf{politics\\_sites1\\_std}       &      -0.0259  &        0.021     &    -1.224  &         0.221        &       -0.067    &        0.016     \\\\\n",
       "\\textbf{politics\\_sites2\\_ideo\\_std} &       0.0612  &        0.022     &     2.752  &         0.006        &        0.018    &        0.105     \\\\\n",
       "\\bottomrule\n",
       "\\end{tabular}\n",
       "%\\caption{Probit Regression Results}\n",
       "\\end{center}"
      ],
      "text/plain": [
       "<class 'statsmodels.iolib.summary.Summary'>\n",
       "\"\"\"\n",
       "                          Probit Regression Results                           \n",
       "==============================================================================\n",
       "Dep. Variable:              suspended   No. Observations:                 9000\n",
       "Model:                         Probit   Df Residuals:                     8982\n",
       "Method:                           MLE   Df Model:                           17\n",
       "Date:                Fri, 06 Dec 2024   Pseudo R-squ.:                  0.1762\n",
       "Time:                        19:44:53   Log-Likelihood:                -2723.7\n",
       "converged:                       True   LL-Null:                       -3306.3\n",
       "Covariance Type:            nonrobust   LLR p-value:                3.877e-237\n",
       "============================================================================================\n",
       "                               coef    std err          z      P>|z|      [0.025      0.975]\n",
       "--------------------------------------------------------------------------------------------\n",
       "const                       -1.4273      0.023    -61.086      0.000      -1.473      -1.381\n",
       "pc1_politics                 0.1341      0.053      2.535      0.011       0.030       0.238\n",
       "pc1_misinfo                  0.2448      0.046      5.265      0.000       0.154       0.336\n",
       "pc1_fol                      0.0013      0.021      0.064      0.949      -0.040       0.042\n",
       "pc1_harmful_language         0.1761      0.026      6.750      0.000       0.125       0.227\n",
       "pc2_harmful_language        -0.0830      0.026     -3.226      0.001      -0.133      -0.033\n",
       "pc3_harmful_language        -0.0662      0.021     -3.216      0.001      -0.107      -0.026\n",
       "pc1_valence                  0.0410      0.023      1.819      0.069      -0.003       0.085\n",
       "tweets_in_2wk                0.3316      0.021     15.934      0.000       0.291       0.372\n",
       "botsentinel_score            0.1825      0.039      4.724      0.000       0.107       0.258\n",
       "extremity                   -0.1199      0.023     -5.295      0.000      -0.164      -0.076\n",
       "moral_outrage                0.0170      0.034      0.501      0.616      -0.049       0.083\n",
       "liwc_political              -0.0226      0.029     -0.790      0.429      -0.079       0.033\n",
       "log_freq_pr_1h               0.1222      0.023      5.351      0.000       0.077       0.167\n",
       "log_repeated_tweet_count    -0.0074      0.023     -0.326      0.745      -0.052       0.037\n",
       "barbera_std                 -0.0303      0.024     -1.276      0.202      -0.077       0.016\n",
       "politics_sites1_std         -0.0259      0.021     -1.224      0.221      -0.067       0.016\n",
       "politics_sites2_ideo_std     0.0612      0.022      2.752      0.006       0.018       0.105\n",
       "============================================================================================\n",
       "\"\"\""
      ]
     },
     "execution_count": 254,
     "metadata": {},
     "output_type": "execute_result"
    }
   ],
   "source": [
    "probit_model.summary()"
   ]
  },
  {
   "cell_type": "markdown",
   "metadata": {},
   "source": [
    "* Before interpreting the results of the probit, we should be careful"
   ]
  },
  {
   "cell_type": "markdown",
   "metadata": {},
   "source": [
    "* Since we used multiple regression, with multiple hypotheses (one for each independent variable + one for the constant), we should take into account the number of tests performed when evaluating our results"
   ]
  },
  {
   "cell_type": "markdown",
   "metadata": {},
   "source": [
    "* To do that, we will use two correction methods for our pvalues. The `Bonferroni` and The `Holm-Bonferroni` corrections"
   ]
  },
  {
   "cell_type": "markdown",
   "metadata": {},
   "source": [
    "* Both of the corrections use a variable $m$, that denotes the number of tests performed, to adjust the pvalues"
   ]
  },
  {
   "cell_type": "markdown",
   "metadata": {},
   "source": [
    "* For us, m will be 18, for the 18 hypothesis we have (variables of regression + intercept)"
   ]
  },
  {
   "cell_type": "code",
   "execution_count": 255,
   "metadata": {},
   "outputs": [
    {
     "data": {
      "text/plain": [
       "18"
      ]
     },
     "execution_count": 255,
     "metadata": {},
     "output_type": "execute_result"
    }
   ],
   "source": [
    "m = accounts_cleaned[normalized_cols].shape[1] + 1 # add 1 for the intercept\n",
    "m"
   ]
  },
  {
   "cell_type": "markdown",
   "metadata": {},
   "source": [
    "* For the details of the implementation, the reader should check [Bonferroni correction\n",
    "](https://en.wikipedia.org/wiki/Bonferroni_correction) and [Holm–Bonferroni method\n",
    "](https://en.wikipedia.org/wiki/Holm%E2%80%93Bonferroni_method)"
   ]
  },
  {
   "cell_type": "markdown",
   "metadata": {},
   "source": [
    "* Thankfully, a python implementation exists for both corrections"
   ]
  },
  {
   "cell_type": "code",
   "execution_count": 256,
   "metadata": {},
   "outputs": [
    {
     "data": {
      "text/html": [
       "<div>\n",
       "<style scoped>\n",
       "    .dataframe tbody tr th:only-of-type {\n",
       "        vertical-align: middle;\n",
       "    }\n",
       "\n",
       "    .dataframe tbody tr th {\n",
       "        vertical-align: top;\n",
       "    }\n",
       "\n",
       "    .dataframe thead th {\n",
       "        text-align: right;\n",
       "    }\n",
       "</style>\n",
       "<table border=\"1\" class=\"dataframe\">\n",
       "  <thead>\n",
       "    <tr style=\"text-align: right;\">\n",
       "      <th></th>\n",
       "      <th>predictor</th>\n",
       "      <th>bonferroni</th>\n",
       "      <th>bonferroni_holm</th>\n",
       "    </tr>\n",
       "  </thead>\n",
       "  <tbody>\n",
       "    <tr>\n",
       "      <th>0</th>\n",
       "      <td>const</td>\n",
       "      <td>0.000000e+00</td>\n",
       "      <td>0.000000e+00</td>\n",
       "    </tr>\n",
       "    <tr>\n",
       "      <th>1</th>\n",
       "      <td>pc1_politics</td>\n",
       "      <td>2.023140e-01</td>\n",
       "      <td>8.991734e-02</td>\n",
       "    </tr>\n",
       "    <tr>\n",
       "      <th>2</th>\n",
       "      <td>pc1_misinfo</td>\n",
       "      <td>2.521111e-06</td>\n",
       "      <td>1.820803e-06</td>\n",
       "    </tr>\n",
       "    <tr>\n",
       "      <th>3</th>\n",
       "      <td>pc1_fol</td>\n",
       "      <td>1.000000e+00</td>\n",
       "      <td>1.000000e+00</td>\n",
       "    </tr>\n",
       "    <tr>\n",
       "      <th>4</th>\n",
       "      <td>pc1_harmful_language</td>\n",
       "      <td>2.653911e-10</td>\n",
       "      <td>2.359032e-10</td>\n",
       "    </tr>\n",
       "    <tr>\n",
       "      <th>5</th>\n",
       "      <td>pc2_harmful_language</td>\n",
       "      <td>2.257444e-02</td>\n",
       "      <td>1.379549e-02</td>\n",
       "    </tr>\n",
       "    <tr>\n",
       "      <th>6</th>\n",
       "      <td>pc3_harmful_language</td>\n",
       "      <td>2.337223e-02</td>\n",
       "      <td>1.379549e-02</td>\n",
       "    </tr>\n",
       "    <tr>\n",
       "      <th>7</th>\n",
       "      <td>pc1_valence</td>\n",
       "      <td>1.000000e+00</td>\n",
       "      <td>4.819487e-01</td>\n",
       "    </tr>\n",
       "    <tr>\n",
       "      <th>8</th>\n",
       "      <td>tweets_in_2wk</td>\n",
       "      <td>6.637746e-56</td>\n",
       "      <td>6.268982e-56</td>\n",
       "    </tr>\n",
       "    <tr>\n",
       "      <th>9</th>\n",
       "      <td>botsentinel_score</td>\n",
       "      <td>4.154074e-05</td>\n",
       "      <td>2.769383e-05</td>\n",
       "    </tr>\n",
       "    <tr>\n",
       "      <th>10</th>\n",
       "      <td>extremity</td>\n",
       "      <td>2.143310e-06</td>\n",
       "      <td>1.667019e-06</td>\n",
       "    </tr>\n",
       "    <tr>\n",
       "      <th>11</th>\n",
       "      <td>moral_outrage</td>\n",
       "      <td>1.000000e+00</td>\n",
       "      <td>1.000000e+00</td>\n",
       "    </tr>\n",
       "    <tr>\n",
       "      <th>12</th>\n",
       "      <td>liwc_political</td>\n",
       "      <td>1.000000e+00</td>\n",
       "      <td>1.000000e+00</td>\n",
       "    </tr>\n",
       "    <tr>\n",
       "      <th>13</th>\n",
       "      <td>log_freq_pr_1h</td>\n",
       "      <td>1.577605e-06</td>\n",
       "      <td>1.314671e-06</td>\n",
       "    </tr>\n",
       "    <tr>\n",
       "      <th>14</th>\n",
       "      <td>log_repeated_tweet_count</td>\n",
       "      <td>1.000000e+00</td>\n",
       "      <td>1.000000e+00</td>\n",
       "    </tr>\n",
       "    <tr>\n",
       "      <th>15</th>\n",
       "      <td>barbera_std</td>\n",
       "      <td>1.000000e+00</td>\n",
       "      <td>1.000000e+00</td>\n",
       "    </tr>\n",
       "    <tr>\n",
       "      <th>16</th>\n",
       "      <td>politics_sites1_std</td>\n",
       "      <td>1.000000e+00</td>\n",
       "      <td>1.000000e+00</td>\n",
       "    </tr>\n",
       "    <tr>\n",
       "      <th>17</th>\n",
       "      <td>politics_sites2_ideo_std</td>\n",
       "      <td>1.066096e-01</td>\n",
       "      <td>5.330481e-02</td>\n",
       "    </tr>\n",
       "  </tbody>\n",
       "</table>\n",
       "</div>"
      ],
      "text/plain": [
       "                   predictor    bonferroni  bonferroni_holm\n",
       "0                      const  0.000000e+00     0.000000e+00\n",
       "1               pc1_politics  2.023140e-01     8.991734e-02\n",
       "2                pc1_misinfo  2.521111e-06     1.820803e-06\n",
       "3                    pc1_fol  1.000000e+00     1.000000e+00\n",
       "4       pc1_harmful_language  2.653911e-10     2.359032e-10\n",
       "5       pc2_harmful_language  2.257444e-02     1.379549e-02\n",
       "6       pc3_harmful_language  2.337223e-02     1.379549e-02\n",
       "7                pc1_valence  1.000000e+00     4.819487e-01\n",
       "8              tweets_in_2wk  6.637746e-56     6.268982e-56\n",
       "9          botsentinel_score  4.154074e-05     2.769383e-05\n",
       "10                 extremity  2.143310e-06     1.667019e-06\n",
       "11             moral_outrage  1.000000e+00     1.000000e+00\n",
       "12            liwc_political  1.000000e+00     1.000000e+00\n",
       "13            log_freq_pr_1h  1.577605e-06     1.314671e-06\n",
       "14  log_repeated_tweet_count  1.000000e+00     1.000000e+00\n",
       "15               barbera_std  1.000000e+00     1.000000e+00\n",
       "16       politics_sites1_std  1.000000e+00     1.000000e+00\n",
       "17  politics_sites2_ideo_std  1.066096e-01     5.330481e-02"
      ]
     },
     "execution_count": 256,
     "metadata": {},
     "output_type": "execute_result"
    }
   ],
   "source": [
    "from statsmodels.stats.multitest import multipletests\n",
    "\n",
    "# use a = 5%\n",
    "reject_bonferroni, pvalues_bonferroni, _, _ = multipletests(probit_model.pvalues, alpha=0.05, method='bonferroni')\n",
    "reject_holm, pvalues_holm, _, _ = multipletests(probit_model.pvalues, alpha=0.05, method='holm')\n",
    "\n",
    "adjusted_probit_results = pd.DataFrame({\n",
    "    \"predictor\": probit_model.model.exog_names,\n",
    "    \"bonferroni\": pvalues_bonferroni,\n",
    "    \"bonferroni_holm\": pvalues_holm\n",
    "})\n",
    "\n",
    "adjusted_probit_results"
   ]
  },
  {
   "cell_type": "markdown",
   "metadata": {},
   "source": [
    "* The function, besides the adjusted pvalues, also returned a list of rejections (based on the percentage of $a$ we have given, 5%)"
   ]
  },
  {
   "cell_type": "markdown",
   "metadata": {},
   "source": [
    "* Lets see which hypotheses we would reject, when using the Bonferroni correction"
   ]
  },
  {
   "cell_type": "code",
   "execution_count": 267,
   "metadata": {},
   "outputs": [
    {
     "data": {
      "text/html": [
       "<div>\n",
       "<style scoped>\n",
       "    .dataframe tbody tr th:only-of-type {\n",
       "        vertical-align: middle;\n",
       "    }\n",
       "\n",
       "    .dataframe tbody tr th {\n",
       "        vertical-align: top;\n",
       "    }\n",
       "\n",
       "    .dataframe thead th {\n",
       "        text-align: right;\n",
       "    }\n",
       "</style>\n",
       "<table border=\"1\" class=\"dataframe\">\n",
       "  <thead>\n",
       "    <tr style=\"text-align: right;\">\n",
       "      <th></th>\n",
       "      <th>predictor</th>\n",
       "      <th>bonferroni</th>\n",
       "      <th>bonferroni_holm</th>\n",
       "    </tr>\n",
       "  </thead>\n",
       "  <tbody>\n",
       "    <tr>\n",
       "      <th>0</th>\n",
       "      <td>const</td>\n",
       "      <td>0.000000e+00</td>\n",
       "      <td>0.000000e+00</td>\n",
       "    </tr>\n",
       "    <tr>\n",
       "      <th>2</th>\n",
       "      <td>pc1_misinfo</td>\n",
       "      <td>2.521111e-06</td>\n",
       "      <td>1.820803e-06</td>\n",
       "    </tr>\n",
       "    <tr>\n",
       "      <th>4</th>\n",
       "      <td>pc1_harmful_language</td>\n",
       "      <td>2.653911e-10</td>\n",
       "      <td>2.359032e-10</td>\n",
       "    </tr>\n",
       "    <tr>\n",
       "      <th>5</th>\n",
       "      <td>pc2_harmful_language</td>\n",
       "      <td>2.257444e-02</td>\n",
       "      <td>1.379549e-02</td>\n",
       "    </tr>\n",
       "    <tr>\n",
       "      <th>6</th>\n",
       "      <td>pc3_harmful_language</td>\n",
       "      <td>2.337223e-02</td>\n",
       "      <td>1.379549e-02</td>\n",
       "    </tr>\n",
       "    <tr>\n",
       "      <th>8</th>\n",
       "      <td>tweets_in_2wk</td>\n",
       "      <td>6.637746e-56</td>\n",
       "      <td>6.268982e-56</td>\n",
       "    </tr>\n",
       "    <tr>\n",
       "      <th>9</th>\n",
       "      <td>botsentinel_score</td>\n",
       "      <td>4.154074e-05</td>\n",
       "      <td>2.769383e-05</td>\n",
       "    </tr>\n",
       "    <tr>\n",
       "      <th>10</th>\n",
       "      <td>extremity</td>\n",
       "      <td>2.143310e-06</td>\n",
       "      <td>1.667019e-06</td>\n",
       "    </tr>\n",
       "    <tr>\n",
       "      <th>13</th>\n",
       "      <td>log_freq_pr_1h</td>\n",
       "      <td>1.577605e-06</td>\n",
       "      <td>1.314671e-06</td>\n",
       "    </tr>\n",
       "  </tbody>\n",
       "</table>\n",
       "</div>"
      ],
      "text/plain": [
       "               predictor    bonferroni  bonferroni_holm\n",
       "0                  const  0.000000e+00     0.000000e+00\n",
       "2            pc1_misinfo  2.521111e-06     1.820803e-06\n",
       "4   pc1_harmful_language  2.653911e-10     2.359032e-10\n",
       "5   pc2_harmful_language  2.257444e-02     1.379549e-02\n",
       "6   pc3_harmful_language  2.337223e-02     1.379549e-02\n",
       "8          tweets_in_2wk  6.637746e-56     6.268982e-56\n",
       "9      botsentinel_score  4.154074e-05     2.769383e-05\n",
       "10             extremity  2.143310e-06     1.667019e-06\n",
       "13        log_freq_pr_1h  1.577605e-06     1.314671e-06"
      ]
     },
     "execution_count": 267,
     "metadata": {},
     "output_type": "execute_result"
    }
   ],
   "source": [
    "adjusted_probit_results.loc[reject_bonferroni]"
   ]
  },
  {
   "cell_type": "markdown",
   "metadata": {},
   "source": [
    "* And when using the Bonferroni-Holms"
   ]
  },
  {
   "cell_type": "code",
   "execution_count": 268,
   "metadata": {},
   "outputs": [
    {
     "data": {
      "text/html": [
       "<div>\n",
       "<style scoped>\n",
       "    .dataframe tbody tr th:only-of-type {\n",
       "        vertical-align: middle;\n",
       "    }\n",
       "\n",
       "    .dataframe tbody tr th {\n",
       "        vertical-align: top;\n",
       "    }\n",
       "\n",
       "    .dataframe thead th {\n",
       "        text-align: right;\n",
       "    }\n",
       "</style>\n",
       "<table border=\"1\" class=\"dataframe\">\n",
       "  <thead>\n",
       "    <tr style=\"text-align: right;\">\n",
       "      <th></th>\n",
       "      <th>predictor</th>\n",
       "      <th>bonferroni</th>\n",
       "      <th>bonferroni_holm</th>\n",
       "    </tr>\n",
       "  </thead>\n",
       "  <tbody>\n",
       "    <tr>\n",
       "      <th>0</th>\n",
       "      <td>const</td>\n",
       "      <td>0.000000e+00</td>\n",
       "      <td>0.000000e+00</td>\n",
       "    </tr>\n",
       "    <tr>\n",
       "      <th>2</th>\n",
       "      <td>pc1_misinfo</td>\n",
       "      <td>2.521111e-06</td>\n",
       "      <td>1.820803e-06</td>\n",
       "    </tr>\n",
       "    <tr>\n",
       "      <th>4</th>\n",
       "      <td>pc1_harmful_language</td>\n",
       "      <td>2.653911e-10</td>\n",
       "      <td>2.359032e-10</td>\n",
       "    </tr>\n",
       "    <tr>\n",
       "      <th>5</th>\n",
       "      <td>pc2_harmful_language</td>\n",
       "      <td>2.257444e-02</td>\n",
       "      <td>1.379549e-02</td>\n",
       "    </tr>\n",
       "    <tr>\n",
       "      <th>6</th>\n",
       "      <td>pc3_harmful_language</td>\n",
       "      <td>2.337223e-02</td>\n",
       "      <td>1.379549e-02</td>\n",
       "    </tr>\n",
       "    <tr>\n",
       "      <th>8</th>\n",
       "      <td>tweets_in_2wk</td>\n",
       "      <td>6.637746e-56</td>\n",
       "      <td>6.268982e-56</td>\n",
       "    </tr>\n",
       "    <tr>\n",
       "      <th>9</th>\n",
       "      <td>botsentinel_score</td>\n",
       "      <td>4.154074e-05</td>\n",
       "      <td>2.769383e-05</td>\n",
       "    </tr>\n",
       "    <tr>\n",
       "      <th>10</th>\n",
       "      <td>extremity</td>\n",
       "      <td>2.143310e-06</td>\n",
       "      <td>1.667019e-06</td>\n",
       "    </tr>\n",
       "    <tr>\n",
       "      <th>13</th>\n",
       "      <td>log_freq_pr_1h</td>\n",
       "      <td>1.577605e-06</td>\n",
       "      <td>1.314671e-06</td>\n",
       "    </tr>\n",
       "  </tbody>\n",
       "</table>\n",
       "</div>"
      ],
      "text/plain": [
       "               predictor    bonferroni  bonferroni_holm\n",
       "0                  const  0.000000e+00     0.000000e+00\n",
       "2            pc1_misinfo  2.521111e-06     1.820803e-06\n",
       "4   pc1_harmful_language  2.653911e-10     2.359032e-10\n",
       "5   pc2_harmful_language  2.257444e-02     1.379549e-02\n",
       "6   pc3_harmful_language  2.337223e-02     1.379549e-02\n",
       "8          tweets_in_2wk  6.637746e-56     6.268982e-56\n",
       "9      botsentinel_score  4.154074e-05     2.769383e-05\n",
       "10             extremity  2.143310e-06     1.667019e-06\n",
       "13        log_freq_pr_1h  1.577605e-06     1.314671e-06"
      ]
     },
     "execution_count": 268,
     "metadata": {},
     "output_type": "execute_result"
    }
   ],
   "source": [
    "adjusted_probit_results.loc[reject_holm]"
   ]
  },
  {
   "cell_type": "markdown",
   "metadata": {},
   "source": [
    "* It looks like both methods agree that `pc1_misinfo`, `pc1_harmful_languages`, `pc2_harmful_languages`, `pc3_harmful_languages`, `tweets_in_2wk`, `botsentinel_score`, `extremity` and `log_freq_pr_1h` have significant coefficients when trying to predict account suspensions"
   ]
  },
  {
   "cell_type": "markdown",
   "metadata": {},
   "source": [
    "* That is because we rejected the null hypothesis (because $pvalue$ < $a$) that the coefficients equal 0 (and thus have an effect on the prediction model)"
   ]
  },
  {
   "cell_type": "markdown",
   "metadata": {},
   "source": [
    "* Using more simple wording, using the above model and some adjustments at the end, we proved that from the above features, the only subset of them that is associated with suspensions, are measures of misinformation, harmful language, chance of being bot etc.. and not political orientation"
   ]
  },
  {
   "cell_type": "markdown",
   "metadata": {},
   "source": [
    "* Measures like political orientation (`pc1_politics`) and political sites an account shares (`politics_sites1_std`, `politics_sites2_ideo_std`), are insignificant measures when trying to predict account suspensions ($pvalue$ > $a$)"
   ]
  },
  {
   "cell_type": "code",
   "execution_count": 269,
   "metadata": {},
   "outputs": [
    {
     "data": {
      "text/html": [
       "<div>\n",
       "<style scoped>\n",
       "    .dataframe tbody tr th:only-of-type {\n",
       "        vertical-align: middle;\n",
       "    }\n",
       "\n",
       "    .dataframe tbody tr th {\n",
       "        vertical-align: top;\n",
       "    }\n",
       "\n",
       "    .dataframe thead th {\n",
       "        text-align: right;\n",
       "    }\n",
       "</style>\n",
       "<table border=\"1\" class=\"dataframe\">\n",
       "  <thead>\n",
       "    <tr style=\"text-align: right;\">\n",
       "      <th></th>\n",
       "      <th>predictor</th>\n",
       "      <th>bonferroni</th>\n",
       "      <th>bonferroni_holm</th>\n",
       "    </tr>\n",
       "  </thead>\n",
       "  <tbody>\n",
       "    <tr>\n",
       "      <th>1</th>\n",
       "      <td>pc1_politics</td>\n",
       "      <td>0.202314</td>\n",
       "      <td>0.089917</td>\n",
       "    </tr>\n",
       "    <tr>\n",
       "      <th>3</th>\n",
       "      <td>pc1_fol</td>\n",
       "      <td>1.000000</td>\n",
       "      <td>1.000000</td>\n",
       "    </tr>\n",
       "    <tr>\n",
       "      <th>7</th>\n",
       "      <td>pc1_valence</td>\n",
       "      <td>1.000000</td>\n",
       "      <td>0.481949</td>\n",
       "    </tr>\n",
       "    <tr>\n",
       "      <th>11</th>\n",
       "      <td>moral_outrage</td>\n",
       "      <td>1.000000</td>\n",
       "      <td>1.000000</td>\n",
       "    </tr>\n",
       "    <tr>\n",
       "      <th>12</th>\n",
       "      <td>liwc_political</td>\n",
       "      <td>1.000000</td>\n",
       "      <td>1.000000</td>\n",
       "    </tr>\n",
       "    <tr>\n",
       "      <th>14</th>\n",
       "      <td>log_repeated_tweet_count</td>\n",
       "      <td>1.000000</td>\n",
       "      <td>1.000000</td>\n",
       "    </tr>\n",
       "    <tr>\n",
       "      <th>15</th>\n",
       "      <td>barbera_std</td>\n",
       "      <td>1.000000</td>\n",
       "      <td>1.000000</td>\n",
       "    </tr>\n",
       "    <tr>\n",
       "      <th>16</th>\n",
       "      <td>politics_sites1_std</td>\n",
       "      <td>1.000000</td>\n",
       "      <td>1.000000</td>\n",
       "    </tr>\n",
       "    <tr>\n",
       "      <th>17</th>\n",
       "      <td>politics_sites2_ideo_std</td>\n",
       "      <td>0.106610</td>\n",
       "      <td>0.053305</td>\n",
       "    </tr>\n",
       "  </tbody>\n",
       "</table>\n",
       "</div>"
      ],
      "text/plain": [
       "                   predictor  bonferroni  bonferroni_holm\n",
       "1               pc1_politics    0.202314         0.089917\n",
       "3                    pc1_fol    1.000000         1.000000\n",
       "7                pc1_valence    1.000000         0.481949\n",
       "11             moral_outrage    1.000000         1.000000\n",
       "12            liwc_political    1.000000         1.000000\n",
       "14  log_repeated_tweet_count    1.000000         1.000000\n",
       "15               barbera_std    1.000000         1.000000\n",
       "16       politics_sites1_std    1.000000         1.000000\n",
       "17  politics_sites2_ideo_std    0.106610         0.053305"
      ]
     },
     "execution_count": 269,
     "metadata": {},
     "output_type": "execute_result"
    }
   ],
   "source": [
    "adjusted_probit_results.loc[~reject_holm]"
   ]
  },
  {
   "cell_type": "markdown",
   "metadata": {},
   "source": [
    "* We should remember, though, that political orientation is correlated ($r$) with the low-quality news sharing (as we have seen [here](#correlation))\n"
   ]
  },
  {
   "cell_type": "markdown",
   "metadata": {},
   "source": [
    "* So the analyses can be influenced from that correlation"
   ]
  },
  {
   "cell_type": "markdown",
   "metadata": {},
   "source": [
    "* We have already seen evidence of that influence, when we tried to predict suspension [using single variables](#single-predictors) "
   ]
  },
  {
   "cell_type": "markdown",
   "metadata": {},
   "source": [
    "* When we placed the political orientation measures on a regression model by themselves, they were significant "
   ]
  },
  {
   "cell_type": "markdown",
   "metadata": {},
   "source": [
    "* Now we know that the reason we reached that conclusion (that political orientation was significant), was because of the heavy correlation that the measures have with the low-quality news sharing measures "
   ]
  },
  {
   "cell_type": "markdown",
   "metadata": {},
   "source": [
    "* Can we achieve greater prediction quality using the above model?"
   ]
  },
  {
   "cell_type": "markdown",
   "metadata": {},
   "source": [
    "* Lets fit a new model using only the significant variables"
   ]
  },
  {
   "cell_type": "code",
   "execution_count": 260,
   "metadata": {},
   "outputs": [
    {
     "data": {
      "text/html": [
       "<div>\n",
       "<style scoped>\n",
       "    .dataframe tbody tr th:only-of-type {\n",
       "        vertical-align: middle;\n",
       "    }\n",
       "\n",
       "    .dataframe tbody tr th {\n",
       "        vertical-align: top;\n",
       "    }\n",
       "\n",
       "    .dataframe thead th {\n",
       "        text-align: right;\n",
       "    }\n",
       "</style>\n",
       "<table border=\"1\" class=\"dataframe\">\n",
       "  <thead>\n",
       "    <tr style=\"text-align: right;\">\n",
       "      <th></th>\n",
       "      <th>pc1_misinfo</th>\n",
       "      <th>pc1_harmful_language</th>\n",
       "      <th>pc2_harmful_language</th>\n",
       "      <th>pc3_harmful_language</th>\n",
       "      <th>tweets_in_2wk</th>\n",
       "      <th>botsentinel_score</th>\n",
       "      <th>extremity</th>\n",
       "      <th>log_freq_pr_1h</th>\n",
       "    </tr>\n",
       "  </thead>\n",
       "  <tbody>\n",
       "    <tr>\n",
       "      <th>0</th>\n",
       "      <td>-0.879590</td>\n",
       "      <td>0.970918</td>\n",
       "      <td>0.707154</td>\n",
       "      <td>-0.018457</td>\n",
       "      <td>-0.098523</td>\n",
       "      <td>-0.860011</td>\n",
       "      <td>0.092133</td>\n",
       "      <td>0.997574</td>\n",
       "    </tr>\n",
       "    <tr>\n",
       "      <th>1</th>\n",
       "      <td>2.097758</td>\n",
       "      <td>0.498986</td>\n",
       "      <td>1.753992</td>\n",
       "      <td>1.085275</td>\n",
       "      <td>-0.487135</td>\n",
       "      <td>0.954429</td>\n",
       "      <td>0.846622</td>\n",
       "      <td>0.824833</td>\n",
       "    </tr>\n",
       "    <tr>\n",
       "      <th>2</th>\n",
       "      <td>-1.226120</td>\n",
       "      <td>0.726641</td>\n",
       "      <td>0.484802</td>\n",
       "      <td>-0.172794</td>\n",
       "      <td>-0.282231</td>\n",
       "      <td>-0.761933</td>\n",
       "      <td>0.562890</td>\n",
       "      <td>-1.562835</td>\n",
       "    </tr>\n",
       "    <tr>\n",
       "      <th>3</th>\n",
       "      <td>-0.879824</td>\n",
       "      <td>0.916173</td>\n",
       "      <td>-0.096462</td>\n",
       "      <td>-0.837125</td>\n",
       "      <td>-0.748565</td>\n",
       "      <td>-0.418661</td>\n",
       "      <td>0.082398</td>\n",
       "      <td>0.956574</td>\n",
       "    </tr>\n",
       "    <tr>\n",
       "      <th>4</th>\n",
       "      <td>1.298818</td>\n",
       "      <td>-0.881639</td>\n",
       "      <td>0.531197</td>\n",
       "      <td>0.259413</td>\n",
       "      <td>-0.481079</td>\n",
       "      <td>1.150585</td>\n",
       "      <td>1.531402</td>\n",
       "      <td>-0.548858</td>\n",
       "    </tr>\n",
       "    <tr>\n",
       "      <th>...</th>\n",
       "      <td>...</td>\n",
       "      <td>...</td>\n",
       "      <td>...</td>\n",
       "      <td>...</td>\n",
       "      <td>...</td>\n",
       "      <td>...</td>\n",
       "      <td>...</td>\n",
       "      <td>...</td>\n",
       "    </tr>\n",
       "    <tr>\n",
       "      <th>8995</th>\n",
       "      <td>-0.573657</td>\n",
       "      <td>2.317862</td>\n",
       "      <td>-1.617703</td>\n",
       "      <td>0.326884</td>\n",
       "      <td>-0.788940</td>\n",
       "      <td>0.071729</td>\n",
       "      <td>-1.012417</td>\n",
       "      <td>0.624342</td>\n",
       "    </tr>\n",
       "    <tr>\n",
       "      <th>8996</th>\n",
       "      <td>1.292699</td>\n",
       "      <td>-0.632710</td>\n",
       "      <td>0.235849</td>\n",
       "      <td>-0.334181</td>\n",
       "      <td>1.913173</td>\n",
       "      <td>0.856351</td>\n",
       "      <td>0.722331</td>\n",
       "      <td>0.870306</td>\n",
       "    </tr>\n",
       "    <tr>\n",
       "      <th>8997</th>\n",
       "      <td>-0.635768</td>\n",
       "      <td>1.390152</td>\n",
       "      <td>-1.126217</td>\n",
       "      <td>-2.122251</td>\n",
       "      <td>-0.282231</td>\n",
       "      <td>-0.467700</td>\n",
       "      <td>-0.390575</td>\n",
       "      <td>0.624342</td>\n",
       "    </tr>\n",
       "    <tr>\n",
       "      <th>8998</th>\n",
       "      <td>1.260779</td>\n",
       "      <td>1.968777</td>\n",
       "      <td>-1.759550</td>\n",
       "      <td>-3.089350</td>\n",
       "      <td>-0.459882</td>\n",
       "      <td>1.199624</td>\n",
       "      <td>0.306619</td>\n",
       "      <td>0.170570</td>\n",
       "    </tr>\n",
       "    <tr>\n",
       "      <th>8999</th>\n",
       "      <td>-0.970084</td>\n",
       "      <td>-0.385575</td>\n",
       "      <td>0.575487</td>\n",
       "      <td>0.292542</td>\n",
       "      <td>2.297747</td>\n",
       "      <td>-0.761933</td>\n",
       "      <td>0.296804</td>\n",
       "      <td>1.463563</td>\n",
       "    </tr>\n",
       "  </tbody>\n",
       "</table>\n",
       "<p>9000 rows × 8 columns</p>\n",
       "</div>"
      ],
      "text/plain": [
       "      pc1_misinfo  pc1_harmful_language  pc2_harmful_language  \\\n",
       "0       -0.879590              0.970918              0.707154   \n",
       "1        2.097758              0.498986              1.753992   \n",
       "2       -1.226120              0.726641              0.484802   \n",
       "3       -0.879824              0.916173             -0.096462   \n",
       "4        1.298818             -0.881639              0.531197   \n",
       "...           ...                   ...                   ...   \n",
       "8995    -0.573657              2.317862             -1.617703   \n",
       "8996     1.292699             -0.632710              0.235849   \n",
       "8997    -0.635768              1.390152             -1.126217   \n",
       "8998     1.260779              1.968777             -1.759550   \n",
       "8999    -0.970084             -0.385575              0.575487   \n",
       "\n",
       "      pc3_harmful_language  tweets_in_2wk  botsentinel_score  extremity  \\\n",
       "0                -0.018457      -0.098523          -0.860011   0.092133   \n",
       "1                 1.085275      -0.487135           0.954429   0.846622   \n",
       "2                -0.172794      -0.282231          -0.761933   0.562890   \n",
       "3                -0.837125      -0.748565          -0.418661   0.082398   \n",
       "4                 0.259413      -0.481079           1.150585   1.531402   \n",
       "...                    ...            ...                ...        ...   \n",
       "8995              0.326884      -0.788940           0.071729  -1.012417   \n",
       "8996             -0.334181       1.913173           0.856351   0.722331   \n",
       "8997             -2.122251      -0.282231          -0.467700  -0.390575   \n",
       "8998             -3.089350      -0.459882           1.199624   0.306619   \n",
       "8999              0.292542       2.297747          -0.761933   0.296804   \n",
       "\n",
       "      log_freq_pr_1h  \n",
       "0           0.997574  \n",
       "1           0.824833  \n",
       "2          -1.562835  \n",
       "3           0.956574  \n",
       "4          -0.548858  \n",
       "...              ...  \n",
       "8995        0.624342  \n",
       "8996        0.870306  \n",
       "8997        0.624342  \n",
       "8998        0.170570  \n",
       "8999        1.463563  \n",
       "\n",
       "[9000 rows x 8 columns]"
      ]
     },
     "execution_count": 260,
     "metadata": {},
     "output_type": "execute_result"
    }
   ],
   "source": [
    "significant = accounts_cleaned[normalized_cols].loc[:, reject_holm[1:]]\n",
    "significant"
   ]
  },
  {
   "cell_type": "code",
   "execution_count": 261,
   "metadata": {},
   "outputs": [
    {
     "data": {
      "text/plain": [
       "np.float64(0.7963104025130041)"
      ]
     },
     "execution_count": 261,
     "metadata": {},
     "output_type": "execute_result"
    }
   ],
   "source": [
    "probit_model = Probit(\n",
    "    accounts_cleaned[\"suspended\"],\n",
    "    add_constant(significant)\n",
    ").fit(disp=False)\n",
    "\n",
    "roc_auc_score(y_true = accounts_cleaned[\"suspended\"], y_score = probit_model.predict())"
   ]
  },
  {
   "cell_type": "markdown",
   "metadata": {},
   "source": [
    "* That's an improvement. If we remember, when using [single predictors](#single-predictors), all the scores fell under 0.75 "
   ]
  },
  {
   "cell_type": "markdown",
   "metadata": {},
   "source": [
    "* So we have a more powerful forecasting model"
   ]
  },
  {
   "cell_type": "markdown",
   "metadata": {},
   "source": [
    "* Just for demonstration purposes, lets see what happens when we fit a model using all the features (even the insignificant ones)"
   ]
  },
  {
   "cell_type": "code",
   "execution_count": 262,
   "metadata": {},
   "outputs": [
    {
     "data": {
      "text/plain": [
       "np.float64(0.7984939436992574)"
      ]
     },
     "execution_count": 262,
     "metadata": {},
     "output_type": "execute_result"
    }
   ],
   "source": [
    "probit_model = Probit(\n",
    "    accounts_cleaned[\"suspended\"],\n",
    "    add_constant(accounts_cleaned[normalized_cols]) # include significant + insignificant features\n",
    ").fit(disp=False)\n",
    "\n",
    "roc_auc_score(y_true = accounts_cleaned[\"suspended\"], y_score = probit_model.predict())"
   ]
  },
  {
   "cell_type": "markdown",
   "metadata": {},
   "source": [
    "* Interesting. No change"
   ]
  },
  {
   "cell_type": "markdown",
   "metadata": {},
   "source": [
    "* That is because the rest of the features (that include political orientation) give 0 improvement on the power of the our forecaster "
   ]
  },
  {
   "cell_type": "markdown",
   "metadata": {},
   "source": [
    "* So we reach the same conclusion"
   ]
  },
  {
   "cell_type": "markdown",
   "metadata": {},
   "source": [
    "* Lets perform the same analysis using logit"
   ]
  },
  {
   "cell_type": "code",
   "execution_count": 263,
   "metadata": {},
   "outputs": [],
   "source": [
    "from statsmodels.discrete.discrete_model import Logit\n",
    "\n",
    "logit_model = Logit(\n",
    "    accounts_cleaned[\"suspended\"],\n",
    "    add_constant(accounts_cleaned[normalized_cols]) # add intercept\n",
    ").fit(disp=False)"
   ]
  },
  {
   "cell_type": "markdown",
   "metadata": {},
   "source": [
    "* And adjust the results using the same methods"
   ]
  },
  {
   "cell_type": "code",
   "execution_count": 264,
   "metadata": {},
   "outputs": [
    {
     "data": {
      "text/html": [
       "<div>\n",
       "<style scoped>\n",
       "    .dataframe tbody tr th:only-of-type {\n",
       "        vertical-align: middle;\n",
       "    }\n",
       "\n",
       "    .dataframe tbody tr th {\n",
       "        vertical-align: top;\n",
       "    }\n",
       "\n",
       "    .dataframe thead th {\n",
       "        text-align: right;\n",
       "    }\n",
       "</style>\n",
       "<table border=\"1\" class=\"dataframe\">\n",
       "  <thead>\n",
       "    <tr style=\"text-align: right;\">\n",
       "      <th></th>\n",
       "      <th>predictor</th>\n",
       "      <th>bonferonni</th>\n",
       "      <th>bonferonni_holm</th>\n",
       "    </tr>\n",
       "  </thead>\n",
       "  <tbody>\n",
       "    <tr>\n",
       "      <th>0</th>\n",
       "      <td>const</td>\n",
       "      <td>0.000000e+00</td>\n",
       "      <td>0.000000e+00</td>\n",
       "    </tr>\n",
       "    <tr>\n",
       "      <th>1</th>\n",
       "      <td>pc1_politics</td>\n",
       "      <td>1.326509e-01</td>\n",
       "      <td>6.632547e-02</td>\n",
       "    </tr>\n",
       "    <tr>\n",
       "      <th>2</th>\n",
       "      <td>pc1_misinfo</td>\n",
       "      <td>1.047577e-06</td>\n",
       "      <td>8.147822e-07</td>\n",
       "    </tr>\n",
       "    <tr>\n",
       "      <th>3</th>\n",
       "      <td>pc1_fol</td>\n",
       "      <td>1.000000e+00</td>\n",
       "      <td>1.000000e+00</td>\n",
       "    </tr>\n",
       "    <tr>\n",
       "      <th>4</th>\n",
       "      <td>pc1_harmful_language</td>\n",
       "      <td>2.925993e-09</td>\n",
       "      <td>2.600883e-09</td>\n",
       "    </tr>\n",
       "    <tr>\n",
       "      <th>5</th>\n",
       "      <td>pc2_harmful_language</td>\n",
       "      <td>2.966350e-02</td>\n",
       "      <td>1.725188e-02</td>\n",
       "    </tr>\n",
       "    <tr>\n",
       "      <th>6</th>\n",
       "      <td>pc3_harmful_language</td>\n",
       "      <td>2.823035e-02</td>\n",
       "      <td>1.725188e-02</td>\n",
       "    </tr>\n",
       "    <tr>\n",
       "      <th>7</th>\n",
       "      <td>pc1_valence</td>\n",
       "      <td>1.000000e+00</td>\n",
       "      <td>6.241609e-01</td>\n",
       "    </tr>\n",
       "    <tr>\n",
       "      <th>8</th>\n",
       "      <td>tweets_in_2wk</td>\n",
       "      <td>8.620326e-58</td>\n",
       "      <td>8.141419e-58</td>\n",
       "    </tr>\n",
       "    <tr>\n",
       "      <th>9</th>\n",
       "      <td>botsentinel_score</td>\n",
       "      <td>1.340343e-05</td>\n",
       "      <td>8.935618e-06</td>\n",
       "    </tr>\n",
       "    <tr>\n",
       "      <th>10</th>\n",
       "      <td>extremity</td>\n",
       "      <td>8.834342e-08</td>\n",
       "      <td>7.361952e-08</td>\n",
       "    </tr>\n",
       "    <tr>\n",
       "      <th>11</th>\n",
       "      <td>moral_outrage</td>\n",
       "      <td>1.000000e+00</td>\n",
       "      <td>1.000000e+00</td>\n",
       "    </tr>\n",
       "    <tr>\n",
       "      <th>12</th>\n",
       "      <td>liwc_political</td>\n",
       "      <td>1.000000e+00</td>\n",
       "      <td>1.000000e+00</td>\n",
       "    </tr>\n",
       "    <tr>\n",
       "      <th>13</th>\n",
       "      <td>log_freq_pr_1h</td>\n",
       "      <td>9.322854e-06</td>\n",
       "      <td>6.733172e-06</td>\n",
       "    </tr>\n",
       "    <tr>\n",
       "      <th>14</th>\n",
       "      <td>log_repeated_tweet_count</td>\n",
       "      <td>1.000000e+00</td>\n",
       "      <td>1.000000e+00</td>\n",
       "    </tr>\n",
       "    <tr>\n",
       "      <th>15</th>\n",
       "      <td>barbera_std</td>\n",
       "      <td>1.000000e+00</td>\n",
       "      <td>1.000000e+00</td>\n",
       "    </tr>\n",
       "    <tr>\n",
       "      <th>16</th>\n",
       "      <td>politics_sites1_std</td>\n",
       "      <td>1.000000e+00</td>\n",
       "      <td>1.000000e+00</td>\n",
       "    </tr>\n",
       "    <tr>\n",
       "      <th>17</th>\n",
       "      <td>politics_sites2_ideo_std</td>\n",
       "      <td>1.668053e-01</td>\n",
       "      <td>7.413568e-02</td>\n",
       "    </tr>\n",
       "  </tbody>\n",
       "</table>\n",
       "</div>"
      ],
      "text/plain": [
       "                   predictor    bonferonni  bonferonni_holm\n",
       "0                      const  0.000000e+00     0.000000e+00\n",
       "1               pc1_politics  1.326509e-01     6.632547e-02\n",
       "2                pc1_misinfo  1.047577e-06     8.147822e-07\n",
       "3                    pc1_fol  1.000000e+00     1.000000e+00\n",
       "4       pc1_harmful_language  2.925993e-09     2.600883e-09\n",
       "5       pc2_harmful_language  2.966350e-02     1.725188e-02\n",
       "6       pc3_harmful_language  2.823035e-02     1.725188e-02\n",
       "7                pc1_valence  1.000000e+00     6.241609e-01\n",
       "8              tweets_in_2wk  8.620326e-58     8.141419e-58\n",
       "9          botsentinel_score  1.340343e-05     8.935618e-06\n",
       "10                 extremity  8.834342e-08     7.361952e-08\n",
       "11             moral_outrage  1.000000e+00     1.000000e+00\n",
       "12            liwc_political  1.000000e+00     1.000000e+00\n",
       "13            log_freq_pr_1h  9.322854e-06     6.733172e-06\n",
       "14  log_repeated_tweet_count  1.000000e+00     1.000000e+00\n",
       "15               barbera_std  1.000000e+00     1.000000e+00\n",
       "16       politics_sites1_std  1.000000e+00     1.000000e+00\n",
       "17  politics_sites2_ideo_std  1.668053e-01     7.413568e-02"
      ]
     },
     "execution_count": 264,
     "metadata": {},
     "output_type": "execute_result"
    }
   ],
   "source": [
    "reject_bonferonni, pvalues_bonferonni, _, _ = multipletests(logit_model.pvalues, alpha=0.05, method='bonferroni')\n",
    "reject_holm, pvalues_holm, _, _ = multipletests(logit_model.pvalues, alpha=0.05, method='holm')\n",
    "\n",
    "adjusted_logit_results = pd.DataFrame({\n",
    "    \"predictor\": logit_model.model.exog_names,\n",
    "    \"bonferonni\": pvalues_bonferonni,\n",
    "    \"bonferonni_holm\": pvalues_holm\n",
    "})\n",
    "\n",
    "adjusted_logit_results"
   ]
  },
  {
   "cell_type": "code",
   "execution_count": 265,
   "metadata": {},
   "outputs": [
    {
     "data": {
      "text/html": [
       "<div>\n",
       "<style scoped>\n",
       "    .dataframe tbody tr th:only-of-type {\n",
       "        vertical-align: middle;\n",
       "    }\n",
       "\n",
       "    .dataframe tbody tr th {\n",
       "        vertical-align: top;\n",
       "    }\n",
       "\n",
       "    .dataframe thead th {\n",
       "        text-align: right;\n",
       "    }\n",
       "</style>\n",
       "<table border=\"1\" class=\"dataframe\">\n",
       "  <thead>\n",
       "    <tr style=\"text-align: right;\">\n",
       "      <th></th>\n",
       "      <th>predictor</th>\n",
       "      <th>bonferonni</th>\n",
       "      <th>bonferonni_holm</th>\n",
       "    </tr>\n",
       "  </thead>\n",
       "  <tbody>\n",
       "    <tr>\n",
       "      <th>0</th>\n",
       "      <td>const</td>\n",
       "      <td>0.000000e+00</td>\n",
       "      <td>0.000000e+00</td>\n",
       "    </tr>\n",
       "    <tr>\n",
       "      <th>2</th>\n",
       "      <td>pc1_misinfo</td>\n",
       "      <td>1.047577e-06</td>\n",
       "      <td>8.147822e-07</td>\n",
       "    </tr>\n",
       "    <tr>\n",
       "      <th>4</th>\n",
       "      <td>pc1_harmful_language</td>\n",
       "      <td>2.925993e-09</td>\n",
       "      <td>2.600883e-09</td>\n",
       "    </tr>\n",
       "    <tr>\n",
       "      <th>5</th>\n",
       "      <td>pc2_harmful_language</td>\n",
       "      <td>2.966350e-02</td>\n",
       "      <td>1.725188e-02</td>\n",
       "    </tr>\n",
       "    <tr>\n",
       "      <th>6</th>\n",
       "      <td>pc3_harmful_language</td>\n",
       "      <td>2.823035e-02</td>\n",
       "      <td>1.725188e-02</td>\n",
       "    </tr>\n",
       "    <tr>\n",
       "      <th>8</th>\n",
       "      <td>tweets_in_2wk</td>\n",
       "      <td>8.620326e-58</td>\n",
       "      <td>8.141419e-58</td>\n",
       "    </tr>\n",
       "    <tr>\n",
       "      <th>9</th>\n",
       "      <td>botsentinel_score</td>\n",
       "      <td>1.340343e-05</td>\n",
       "      <td>8.935618e-06</td>\n",
       "    </tr>\n",
       "    <tr>\n",
       "      <th>10</th>\n",
       "      <td>extremity</td>\n",
       "      <td>8.834342e-08</td>\n",
       "      <td>7.361952e-08</td>\n",
       "    </tr>\n",
       "    <tr>\n",
       "      <th>13</th>\n",
       "      <td>log_freq_pr_1h</td>\n",
       "      <td>9.322854e-06</td>\n",
       "      <td>6.733172e-06</td>\n",
       "    </tr>\n",
       "  </tbody>\n",
       "</table>\n",
       "</div>"
      ],
      "text/plain": [
       "               predictor    bonferonni  bonferonni_holm\n",
       "0                  const  0.000000e+00     0.000000e+00\n",
       "2            pc1_misinfo  1.047577e-06     8.147822e-07\n",
       "4   pc1_harmful_language  2.925993e-09     2.600883e-09\n",
       "5   pc2_harmful_language  2.966350e-02     1.725188e-02\n",
       "6   pc3_harmful_language  2.823035e-02     1.725188e-02\n",
       "8          tweets_in_2wk  8.620326e-58     8.141419e-58\n",
       "9      botsentinel_score  1.340343e-05     8.935618e-06\n",
       "10             extremity  8.834342e-08     7.361952e-08\n",
       "13        log_freq_pr_1h  9.322854e-06     6.733172e-06"
      ]
     },
     "execution_count": 265,
     "metadata": {},
     "output_type": "execute_result"
    }
   ],
   "source": [
    "adjusted_logit_results[reject_bonferonni]"
   ]
  },
  {
   "cell_type": "code",
   "execution_count": 266,
   "metadata": {},
   "outputs": [
    {
     "data": {
      "text/html": [
       "<div>\n",
       "<style scoped>\n",
       "    .dataframe tbody tr th:only-of-type {\n",
       "        vertical-align: middle;\n",
       "    }\n",
       "\n",
       "    .dataframe tbody tr th {\n",
       "        vertical-align: top;\n",
       "    }\n",
       "\n",
       "    .dataframe thead th {\n",
       "        text-align: right;\n",
       "    }\n",
       "</style>\n",
       "<table border=\"1\" class=\"dataframe\">\n",
       "  <thead>\n",
       "    <tr style=\"text-align: right;\">\n",
       "      <th></th>\n",
       "      <th>predictor</th>\n",
       "      <th>bonferonni</th>\n",
       "      <th>bonferonni_holm</th>\n",
       "    </tr>\n",
       "  </thead>\n",
       "  <tbody>\n",
       "    <tr>\n",
       "      <th>0</th>\n",
       "      <td>const</td>\n",
       "      <td>0.000000e+00</td>\n",
       "      <td>0.000000e+00</td>\n",
       "    </tr>\n",
       "    <tr>\n",
       "      <th>2</th>\n",
       "      <td>pc1_misinfo</td>\n",
       "      <td>1.047577e-06</td>\n",
       "      <td>8.147822e-07</td>\n",
       "    </tr>\n",
       "    <tr>\n",
       "      <th>4</th>\n",
       "      <td>pc1_harmful_language</td>\n",
       "      <td>2.925993e-09</td>\n",
       "      <td>2.600883e-09</td>\n",
       "    </tr>\n",
       "    <tr>\n",
       "      <th>5</th>\n",
       "      <td>pc2_harmful_language</td>\n",
       "      <td>2.966350e-02</td>\n",
       "      <td>1.725188e-02</td>\n",
       "    </tr>\n",
       "    <tr>\n",
       "      <th>6</th>\n",
       "      <td>pc3_harmful_language</td>\n",
       "      <td>2.823035e-02</td>\n",
       "      <td>1.725188e-02</td>\n",
       "    </tr>\n",
       "    <tr>\n",
       "      <th>8</th>\n",
       "      <td>tweets_in_2wk</td>\n",
       "      <td>8.620326e-58</td>\n",
       "      <td>8.141419e-58</td>\n",
       "    </tr>\n",
       "    <tr>\n",
       "      <th>9</th>\n",
       "      <td>botsentinel_score</td>\n",
       "      <td>1.340343e-05</td>\n",
       "      <td>8.935618e-06</td>\n",
       "    </tr>\n",
       "    <tr>\n",
       "      <th>10</th>\n",
       "      <td>extremity</td>\n",
       "      <td>8.834342e-08</td>\n",
       "      <td>7.361952e-08</td>\n",
       "    </tr>\n",
       "    <tr>\n",
       "      <th>13</th>\n",
       "      <td>log_freq_pr_1h</td>\n",
       "      <td>9.322854e-06</td>\n",
       "      <td>6.733172e-06</td>\n",
       "    </tr>\n",
       "  </tbody>\n",
       "</table>\n",
       "</div>"
      ],
      "text/plain": [
       "               predictor    bonferonni  bonferonni_holm\n",
       "0                  const  0.000000e+00     0.000000e+00\n",
       "2            pc1_misinfo  1.047577e-06     8.147822e-07\n",
       "4   pc1_harmful_language  2.925993e-09     2.600883e-09\n",
       "5   pc2_harmful_language  2.966350e-02     1.725188e-02\n",
       "6   pc3_harmful_language  2.823035e-02     1.725188e-02\n",
       "8          tweets_in_2wk  8.620326e-58     8.141419e-58\n",
       "9      botsentinel_score  1.340343e-05     8.935618e-06\n",
       "10             extremity  8.834342e-08     7.361952e-08\n",
       "13        log_freq_pr_1h  9.322854e-06     6.733172e-06"
      ]
     },
     "execution_count": 266,
     "metadata": {},
     "output_type": "execute_result"
    }
   ],
   "source": [
    "adjusted_logit_results[reject_holm]"
   ]
  },
  {
   "cell_type": "markdown",
   "metadata": {},
   "source": [
    "* We reach the same conclusion when using a logit regression, instead of a probit one"
   ]
  }
 ],
 "metadata": {
  "kernelspec": {
   "display_name": "Python 3",
   "language": "python",
   "name": "python3"
  },
  "language_info": {
   "codemirror_mode": {
    "name": "ipython",
    "version": 3
   },
   "file_extension": ".py",
   "mimetype": "text/x-python",
   "name": "python",
   "nbconvert_exporter": "python",
   "pygments_lexer": "ipython3",
   "version": "3.10.9"
  }
 },
 "nbformat": 4,
 "nbformat_minor": 2
}
